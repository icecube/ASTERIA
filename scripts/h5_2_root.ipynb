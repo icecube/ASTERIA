{
 "cells": [
  {
   "cell_type": "code",
   "execution_count": 1,
   "metadata": {},
   "outputs": [
    {
     "name": "stdout",
     "output_type": "stream",
     "text": [
      "Welcome to JupyROOT 6.14/02\n"
     ]
    }
   ],
   "source": [
    "from asteria import config, source, detector, IO\n",
    "from asteria.interactions import Interactions\n",
    "from asteria.neutrino import Flavor\n",
    "\n",
    "import astropy.units as u\n",
    "\n",
    "import numpy as np\n",
    "import matplotlib as mpl\n",
    "import matplotlib.pyplot as plt\n",
    "from ROOT import TFile, TH1D"
   ]
  },
  {
   "cell_type": "code",
   "execution_count": 2,
   "metadata": {},
   "outputs": [],
   "source": [
    "Z = [ 0.02, 0.004 ]\n",
    "M = [ 13.0, 20.0, 30.0, 50.0 ]\n",
    "t_rev = [100, 200, 300]\n",
    "names = []\n",
    "for z in Z:\n",
    "    for m in M:\n",
    "        if m == 30.0 and z == 0.004:            \n",
    "            names.append('nakazato-shen-BH-z0.004-s30.0')\n",
    "            names.append('nakazato-LS220-BH-z0.004-s30.0')\n",
    "        else:\n",
    "            for t in t_rev:\n",
    "                names.append('nakazato-shen-z{0}-t_rev{1}ms-s{2}'.format(z, t, m))"
   ]
  },
  {
   "cell_type": "code",
   "execution_count": 39,
   "metadata": {},
   "outputs": [],
   "source": [
    "\n",
    "\n",
    "## Set neutrino energy and time binning\n",
    "E_min = 0.1; E_max = 100.1; dE = 0.1;\n",
    "Enu = np.arange(E_min, E_max, dE)\n",
    "\n",
    "t_min = -1; t_max = 15; dt = 0.0001;\n",
    "time = np.arange(t_min, t_max, dt)\n",
    "\n",
    "for name in names:                    \n",
    "    conf = config.load_config('../data/config/{0}.yaml'.format(name))\n",
    "\n",
    "    E_per_V = IO.load(conf, Interactions, Flavor, Enu, time)\n",
    "    total_E_per_V = np.sum( abs(E_per_V), axis=0 ) \n",
    "    \n",
    "    rFlavors = ['nu_e', 'anti_nu_e', 'nu_x', 'anti_nu_x']\n",
    "\n",
    "    preprocessed_file = TFile('nakazato/ROOT/{}.root'.format(name), 'recreate')\n",
    "    h_total_E_per_V = TH1D('total_photonic_energy_distance_1kpc', name, time.size, t_min, t_max )\n",
    "    h_E_per_V = [TH1D('{}_photonic_energy_distance_1kpc'.format(nu), name, time.size, t_min, t_max ) for nu in rFlavors]\n",
    "\n",
    "    for t, epv in zip(time, total_E_per_V):\n",
    "        h_total_E_per_V.Fill(t+0.5*dt, epv)\n",
    "\n",
    "    for nu, flavor in enumerate(Flavor):\n",
    "        for t, epv in zip(time, E_per_V[nu]):\n",
    "            h_E_per_V[nu].Fill(t+0.5*dt, epv)\n",
    "    \n",
    "                        \n",
    "        \n",
    "    h_total_E_per_V.SetDirectory(preprocessed_file)\n",
    "    preprocessed_file.Write()\n",
    "    preprocessed_file.Close()"
   ]
  },
  {
   "cell_type": "code",
   "execution_count": 37,
   "metadata": {},
   "outputs": [],
   "source": []
  },
  {
   "cell_type": "code",
   "execution_count": 9,
   "metadata": {},
   "outputs": [
    {
     "data": {
      "text/plain": [
       "'nakazato-shen-z0.02-t_rev100ms-s13.0'"
      ]
     },
     "execution_count": 9,
     "metadata": {},
     "output_type": "execute_result"
    }
   ],
   "source": [
    "for nu, flavor in enumerate(Flavor):\n",
    "    "
   ]
  },
  {
   "cell_type": "code",
   "execution_count": 14,
   "metadata": {},
   "outputs": [],
   "source": [
    "h_total_E_per_V = TH1D(name, name, time.size, t_min, t_max )"
   ]
  },
  {
   "cell_type": "code",
   "execution_count": 15,
   "metadata": {},
   "outputs": [
    {
     "data": {
      "text/plain": [
       "<ROOT.TH1D object (\"nakazato-shen-z0.02-t_rev100ms-s13.0\") at 0x6aeca50>"
      ]
     },
     "execution_count": 15,
     "metadata": {},
     "output_type": "execute_result"
    }
   ],
   "source": [
    "h_total_E_per_V"
   ]
  },
  {
   "cell_type": "code",
   "execution_count": 36,
   "metadata": {},
   "outputs": [
    {
     "data": {
      "text/plain": [
       "1"
      ]
     },
     "execution_count": 36,
     "metadata": {},
     "output_type": "execute_result"
    }
   ],
   "source": [
    "\n",
    "infile = TFile('{}.root'.format(name), 'read')\n",
    "infile.GetNkeys()"
   ]
  },
  {
   "cell_type": "code",
   "execution_count": 17,
   "metadata": {},
   "outputs": [
    {
     "data": {
      "text/plain": [
       "<ROOT.TFile object (\"nakazato-shen-z0.02-t_rev100ms-s13.0.root\") at 0x5585250>"
      ]
     },
     "execution_count": 17,
     "metadata": {},
     "output_type": "execute_result"
    }
   ],
   "source": [
    "preprocessed_file"
   ]
  },
  {
   "cell_type": "code",
   "execution_count": 23,
   "metadata": {},
   "outputs": [
    {
     "name": "stdout",
     "output_type": "stream",
     "text": [
      "<ROOT.TH1D object (\"nakazato-shen-z0.02-t_rev100ms-s13.0\") at 0x6c2b350>\n",
      "<ROOT.TH1D object (\"nakazato-shen-z0.02-t_rev100ms-s13.0\") at 0x6c2b350>\n",
      "<ROOT.TH1D object (\"nakazato-shen-z0.02-t_rev100ms-s13.0\") at 0x6c2b350>\n"
     ]
    }
   ],
   "source": [
    "preprocessed_file = TFile('{}.root'.format(name), 'read')\n",
    "h_total_E_per_V = TH1D(name, name, time.size, t_min, t_max )\n"
   ]
  },
  {
   "cell_type": "code",
   "execution_count": null,
   "metadata": {},
   "outputs": [],
   "source": []
  }
 ],
 "metadata": {
  "kernelspec": {
   "display_name": "Python 3",
   "language": "python",
   "name": "python3"
  },
  "language_info": {
   "codemirror_mode": {
    "name": "ipython",
    "version": 3
   },
   "file_extension": ".py",
   "mimetype": "text/x-python",
   "name": "python",
   "nbconvert_exporter": "python",
   "pygments_lexer": "ipython3",
   "version": "3.6.5"
  }
 },
 "nbformat": 4,
 "nbformat_minor": 2
}
