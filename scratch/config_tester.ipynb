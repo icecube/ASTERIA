{
 "cells": [
  {
   "cell_type": "markdown",
   "metadata": {},
   "source": [
    "# Test Config Files\n",
    "\n",
    "From config file, construct energy and time arrays with correct astropy units. For now, keep the rest of the variables as strings."
   ]
  },
  {
   "cell_type": "code",
   "execution_count": 1,
   "metadata": {},
   "outputs": [],
   "source": [
    "import os\n",
    "import numpy as np\n",
    "import astropy.units as u\n",
    "import configparser\n",
    "import argparse"
   ]
  },
  {
   "cell_type": "code",
   "execution_count": 2,
   "metadata": {},
   "outputs": [
    {
     "data": {
      "text/plain": [
       "['new_config.ini']"
      ]
     },
     "execution_count": 2,
     "metadata": {},
     "output_type": "execute_result"
    }
   ],
   "source": [
    "config = configparser.ConfigParser()\n",
    "config.read('new_config.ini')"
   ]
  },
  {
   "cell_type": "code",
   "execution_count": 3,
   "metadata": {},
   "outputs": [
    {
     "data": {
      "text/plain": [
       "['MIXING', 'ENERGY', 'TIME']"
      ]
     },
     "execution_count": 3,
     "metadata": {},
     "output_type": "execute_result"
    }
   ],
   "source": [
    "config.sections()"
   ]
  },
  {
   "cell_type": "markdown",
   "metadata": {},
   "source": [
    "## Creating the enery and time arrays\n",
    "\n",
    "This method should work to construct the energy and time arrays with the correct astropy units.\n",
    "\n",
    "Note: this assumes that `Emin/Emax/dE` are given in MeV, `tmin/tmax` are given in seconds, and `dt` is given in ms."
   ]
  },
  {
   "cell_type": "code",
   "execution_count": 4,
   "metadata": {},
   "outputs": [],
   "source": [
    "config = configparser.ConfigParser()\n",
    "config.read('new_config.ini')\n",
    "default = config['DEFAULT']\n",
    "mixing = config['MIXING']\n",
    "energy = config['ENERGY']\n",
    "time = config['TIME']"
   ]
  },
  {
   "cell_type": "code",
   "execution_count": 5,
   "metadata": {},
   "outputs": [],
   "source": [
    "distance = default['distance']\n",
    "interactions = default['interactions']\n",
    "flavors = default['flavors']\n",
    "hierarchy = default['hierarchy']\n",
    "\n",
    "scheme = mixing['scheme']\n",
    "angle = mixing['angle']\n",
    "\n",
    "# val_Emin, u_Emin = energy['min'].split(' ')\n",
    "\n",
    "Emin = float(energy['min'].split(' ')[0])\n",
    "Emax = float(energy['max'].split(' ')[0])\n",
    "dE = float(energy['step'].split(' ')[0])\n",
    "\n",
    "tmin = float(time['min'].split(' ')[0])\n",
    "tmax = float(time['max'].split(' ')[0])\n",
    "dt = float(time['step'].split(' ')[0])"
   ]
  },
  {
   "cell_type": "code",
   "execution_count": 6,
   "metadata": {},
   "outputs": [
    {
     "name": "stdout",
     "output_type": "stream",
     "text": [
      "0.0 100.0 0.1\n"
     ]
    }
   ],
   "source": [
    "print(Emin, Emax, dE)"
   ]
  },
  {
   "cell_type": "code",
   "execution_count": 7,
   "metadata": {},
   "outputs": [
    {
     "data": {
      "text/latex": [
       "$[0,~0.1,~0.2,~\\dots,~99.8,~99.9,~100] \\; \\mathrm{MeV}$"
      ],
      "text/plain": [
       "<Quantity [  0. ,   0.1,   0.2, ...,  99.8,  99.9, 100. ] MeV>"
      ]
     },
     "execution_count": 7,
     "metadata": {},
     "output_type": "execute_result"
    }
   ],
   "source": [
    "energies = np.arange(Emin, Emax + dE, dE) * u.MeV\n",
    "energies"
   ]
  },
  {
   "cell_type": "code",
   "execution_count": 8,
   "metadata": {},
   "outputs": [
    {
     "data": {
      "text/latex": [
       "$[-1000,~-999,~-998,~\\dots,~998,~999,~1000] \\; \\mathrm{ms}$"
      ],
      "text/plain": [
       "<Quantity [-1000.,  -999.,  -998., ...,   998.,   999.,  1000.] ms>"
      ]
     },
     "execution_count": 8,
     "metadata": {},
     "output_type": "execute_result"
    }
   ],
   "source": [
    "f = u.s.to(u.ms)\n",
    "times = np.arange(f * tmin, f * tmax + dt, dt) * u.ms\n",
    "times"
   ]
  }
 ],
 "metadata": {
  "kernelspec": {
   "display_name": "Python 3",
   "language": "python",
   "name": "python3"
  },
  "language_info": {
   "codemirror_mode": {
    "name": "ipython",
    "version": 3
   },
   "file_extension": ".py",
   "mimetype": "text/x-python",
   "name": "python",
   "nbconvert_exporter": "python",
   "pygments_lexer": "ipython3",
   "version": "3.8.5"
  }
 },
 "nbformat": 4,
 "nbformat_minor": 4
}
