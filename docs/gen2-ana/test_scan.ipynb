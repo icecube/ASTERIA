{
 "cells": [
  {
   "cell_type": "code",
   "execution_count": 5,
   "metadata": {},
   "outputs": [
    {
     "name": "stdout",
     "output_type": "stream",
     "text": [
      "env: ASTERIA=/home/jakob/software/ASTERIA/ASTERIA\n"
     ]
    }
   ],
   "source": [
    "%env ASTERIA=/home/jakob/software/ASTERIA/ASTERIA\n",
    "\n",
    "from asteria.simulation import Simulation\n",
    "from scan import *\n",
    "from plthelper import *\n",
    "import astropy.units as u\n",
    "\n",
    "import matplotlib.pyplot as plt"
   ]
  },
  {
   "cell_type": "code",
   "execution_count": null,
   "metadata": {},
   "outputs": [],
   "source": [
    "dist_ini = 5 * u.kpc\n",
    "\n",
    "sim_dt = 1 * u.ms\n",
    "res_dt = 1 * u.ms\n",
    "\n",
    "add_wls = True\n",
    "detector_scope = \"Gen2\"\n",
    "trials = 10000\n",
    "\n",
    "model = {'name': 'Sukhbold_2015',\n",
    "         'param':{\n",
    "             'progenitor_mass': 27*u.Msun, \n",
    "             'eos': 'LS220'}\n",
    "        }\n",
    "\n",
    "ampl_range = np.arange(10,110,10)*1/100\n",
    "freq_range = np.arange(80,410,20) * u.Hz\n",
    "time_start = 150*u.ms\n",
    "time_end = 300*u.ms\n",
    "position = \"center\"\n",
    "\n",
    "scan_para = {\"freq_range\": freq_range, \n",
    "             \"ampl_range\": ampl_range, #in percent of max value\n",
    "             \"time_start\": time_start,\n",
    "             \"time_end\": time_end,\n",
    "             \"position\": position}\n",
    "\n",
    "\n",
    "time_win = [0, 100] * u.s # time independent\n",
    "freq_res = 1 * u.Hz \n",
    "freq_win = [75, 1E6] * u.Hz # freq independent\n",
    "hanning = False\n",
    "\n",
    "fft_para = {\"time_res\": res_dt, \n",
    "             \"time_win\": time_win,\n",
    "             \"freq_res\": time_start,\n",
    "             \"freq_win\": freq_win,\n",
    "             \"hanning\": hanning}\n",
    "\n",
    "hann_len = 100*u.ms # length of Hann window\n",
    "hann_res = 5*u.Hz # relates to frequency resolution from hanning, mfft = freq_sam/freq_sam\n",
    "hann_hop = 20*u.ms # offset by which Hann window is slided over signal\n",
    "freq_sam = (1/res_dt).to(u.Hz) # = 1/time_res\n",
    "time_int = True\n",
    "\n",
    "stf_para = {\"hann_len\": hann_len,\n",
    "             \"hann_res\": hann_res,\n",
    "             \"hann_hop\": hann_hop, \n",
    "             \"freq_sam\": freq_sam,\n",
    "             \"time_int\": time_int}\n",
    "\n",
    "sim = Simulation(model=model,\n",
    "                 distance=dist_ini, \n",
    "                 res_dt=res_dt,\n",
    "                 Emin=0*u.MeV, Emax=100*u.MeV, dE=1*u.MeV,\n",
    "                 tmin=0.000*u.s, tmax=1.000*u.s, dt=sim_dt,\n",
    "                 hierarchy = 'normal',\n",
    "                 mixing_scheme = 'NoTransformation',\n",
    "                 detector_scope = detector_scope,\n",
    "                 add_wls = add_wls)\n",
    "sim.run()"
   ]
  },
  {
   "cell_type": "code",
   "execution_count": null,
   "metadata": {},
   "outputs": [],
   "source": [
    "scan = Scan(sim, scan_para, ft_mode = \"FFT\", ft_para = fft_para, trials = trials, verbose = True)\n",
    "scan.run()"
   ]
  }
 ],
 "metadata": {
  "kernelspec": {
   "display_name": "Python 3",
   "language": "python",
   "name": "python3"
  },
  "language_info": {
   "codemirror_mode": {
    "name": "ipython",
    "version": 3
   },
   "file_extension": ".py",
   "mimetype": "text/x-python",
   "name": "python",
   "nbconvert_exporter": "python",
   "pygments_lexer": "ipython3",
   "version": "3.10.12"
  }
 },
 "nbformat": 4,
 "nbformat_minor": 2
}
