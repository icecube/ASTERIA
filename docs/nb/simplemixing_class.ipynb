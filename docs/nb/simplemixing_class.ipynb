{
 "cells": [
  {
   "cell_type": "code",
   "execution_count": 2,
   "metadata": {},
   "outputs": [],
   "source": [
    "import numpy as np"
   ]
  },
  {
   "cell_type": "code",
   "execution_count": 5,
   "metadata": {},
   "outputs": [],
   "source": [
    "class SimpleMixing(object):\n",
    "    \n",
    "    def __init__(self, t12):\n",
    "        '''Initializes the mixing angle\n",
    "        \n",
    "        Parameters\n",
    "        ----------\n",
    "        \n",
    "        t12: float \n",
    "             Mixing angle\n",
    "            \n",
    "        '''\n",
    "        self.t12 = np.radians(t12)\n",
    "        self.s2t12 = np.power(np.sin(t12), 2)\n",
    "        self.c2t12 = np.power(np.cos(t12), 2)\n",
    "        \n",
    "    def normal_mixing(self, nu_list):\n",
    "        '''Performs flavor oscillations as per normal hierarchy.\n",
    "        \n",
    "        Parameters\n",
    "        ----------\n",
    "        \n",
    "        nu_list : list of floats\n",
    "                  neutrino fluxes ordered by flavor (ordered as nu_e, nu_e_bar, nu_x, nu_x_bar)\n",
    "        \n",
    "        Returns\n",
    "        -------\n",
    "        \n",
    "        nu_new = list of floats\n",
    "                 neutrino fluxes after mixing (ordered as nu_e, nu_e_bar, nu_x, nu_x_bar)'''\n",
    "        \n",
    "        nu_e = [a + b for a, b in zip(nu_list[2], nu_list[3])]  \n",
    "        nu_x = [(a + b + c)/2 for a, b, c in zip(nu_list[0], nu_list1[2], nu_list[3])]\n",
    "        nu_e_bar = [a*self.c2t12 + (b+c)*self.s2t12 for a, b, c in zip(nu_list[1], nu_list[2], nu_list[3])]\n",
    "        nu_x_bar = [((1.0-self.c2t12)*a + (1.0+self.c2t12)*(b+c))/2 for a, b, c in zip(nu_list[1], nu_list[2], nu_list[3])]\n",
    "        nu_new = [nu_e, nu_e_bar, nu_x, nu_x_bar]\n",
    "        return nu_new\n",
    "    \n",
    "    def inverted_mixing(self, nu_list):\n",
    "        '''Performs flavor oscillations as per inverted hierarchy.\n",
    "        \n",
    "        Parameters\n",
    "        ----------\n",
    "        \n",
    "        nu_list : list of floats\n",
    "                  neutrino fluxes ordered by flavor (ordered as nu_e, nu_e_bar, nu_x, nu_x_bar)\n",
    "        \n",
    "        Returns\n",
    "        -------\n",
    "        \n",
    "        nu_new = list of floats\n",
    "                 neutrino fluxes after mixing (ordered as nu_e, nu_e_bar, nu_x, nu_x_bar)'''\n",
    "        \n",
    "        nu_e = [a*self.s2t12 + b*self.c2t12 for a, b in zip(nu_list[0], nu_list[1])]   \n",
    "        nu_x = [((1.0-self.s2t12)*a + (1.0+self.s2t12)*(b+c))/2 for a, b, c in zip(nu_list[0], nu_list[2], nu_list[3])] \n",
    "        nu_e_bar = [a + b for a, b in zip(nu_list[2], nu_list[3])]\n",
    "        nu_x_bar = [(a + b + c)/2 for a, b, c in zip(nu_list[1], nu_list[2], nu_list[3])]\n",
    "        nu_new = [nu_e, nu_e_bar, nu_x, nu_x_bar]\n",
    "        return nu_new"
   ]
  },
  {
   "cell_type": "code",
   "execution_count": null,
   "metadata": {},
   "outputs": [],
   "source": []
  }
 ],
 "metadata": {
  "kernelspec": {
   "display_name": "Python 3",
   "language": "python",
   "name": "python3"
  },
  "language_info": {
   "codemirror_mode": {
    "name": "ipython",
    "version": 3
   },
   "file_extension": ".py",
   "mimetype": "text/x-python",
   "name": "python",
   "nbconvert_exporter": "python",
   "pygments_lexer": "ipython3",
   "version": "3.7.1"
  }
 },
 "nbformat": 4,
 "nbformat_minor": 2
}
