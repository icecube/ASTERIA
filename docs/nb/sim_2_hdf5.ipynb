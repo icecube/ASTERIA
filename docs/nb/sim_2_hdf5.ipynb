{
 "cells": [
  {
   "cell_type": "code",
   "execution_count": 1,
   "metadata": {},
   "outputs": [],
   "source": [
    "%matplotlib inline\n",
    "\n",
    "from asteria import config, source\n",
    "from asteria import interactions\n",
    "from asteria.neutrino import Flavor\n",
    "\n",
    "from enum import Enum, EnumMeta, _EnumDict\n",
    "from pathlib import Path\n",
    "\n",
    "import astropy.units as u\n",
    "\n",
    "import numpy as np\n",
    "import matplotlib as mpl\n",
    "import matplotlib.pyplot as plt\n",
    "\n",
    "import os\n",
    "import sys\n",
    "\n",
    "import tables\n",
    "import pickle"
   ]
  },
  {
   "cell_type": "code",
   "execution_count": 2,
   "metadata": {},
   "outputs": [],
   "source": [
    "conf = config.load_config('../../data/config/test.yaml')\n",
    "ccsn = source.initialize(conf)"
   ]
  },
  {
   "cell_type": "code",
   "execution_count": 3,
   "metadata": {},
   "outputs": [],
   "source": [
    "# Define neutrino energy spectrum\n",
    "E_min = 0.1; E_max = 100.1; dE = 0.1;\n",
    "Enu = np.arange(E_min, E_max, dE) * u.MeV\n",
    "\n",
    "# Define post-bounce times at which to evaluate\n",
    "t_min = -1; t_max = 15; dt = 0.0001;\n",
    "time = np.arange(t_min, t_max, dt) * u.s"
   ]
  },
  {
   "cell_type": "code",
   "execution_count": 4,
   "metadata": {},
   "outputs": [],
   "source": [
    "class _Binning(tables.IsDescription):\n",
    "    start  = tables.Float64Col()   \n",
    "    stop   = tables.Float64Col() \n",
    "    step   = tables.Float64Col()\n",
    "    nSteps = tables.Int64Col()\n",
    "    \n",
    "class _Flavors(tables.IsDescription):\n",
    "    nu_e     = tables.BoolCol(dflt=False)\n",
    "    nu_e_bar = tables.BoolCol(dflt=False)\n",
    "    nu_x     = tables.BoolCol(dflt=False)\n",
    "    nu_x_bar = tables.BoolCol(dflt=False)\n",
    "\n",
    "class _Interactions(tables.IsDescription):\n",
    "    InvBetaTab      = tables.BoolCol(dflt=False)\n",
    "    InvBetaPar      = tables.BoolCol(dflt=False)\n",
    "    ElectronScatter = tables.BoolCol(dflt=False)\n",
    "    Oxygen16CC      = tables.BoolCol(dflt=False)\n",
    "    Oxygen16NC      = tables.BoolCol(dflt=False)\n",
    "    Oxygen18        = tables.BoolCol(dflt=False)"
   ]
  },
  {
   "cell_type": "markdown",
   "metadata": {},
   "source": [
    "1) Get path form configs, then alter `config.py` with new variable data for hdfs path"
   ]
  },
  {
   "cell_type": "markdown",
   "metadata": {},
   "source": [
    "## Writing `h5` File from Scratch"
   ]
  },
  {
   "cell_type": "code",
   "execution_count": 5,
   "metadata": {},
   "outputs": [
    {
     "data": {
      "text/plain": [
       "{'_value': {'name': 'IceCube fast supernova simulation',\n",
       "  'base_path': '{ASTERIA}/data',\n",
       "  'verbose': False,\n",
       "  'detector': {'name': 'IceCube_IC-86',\n",
       "   'geometry': {'max_height': 1900.0,\n",
       "    'deepcore_string': 81,\n",
       "    'table': {'format': 'ascii',\n",
       "     'path': 'detector/Icecube_geometry.20110102.complete.txt'}},\n",
       "   'effvol': {'deepcore_rel_eff': 1.35,\n",
       "    'table': {'format': 'ascii',\n",
       "     'path': 'detector/effectivevolume_benedikt_AHA_normalDoms.txt'}}},\n",
       "  'source': {'name': 'Sukh_SFHo_z9.6',\n",
       "   'model': 'Sukhbold 9.6Msun progenitor with SFHo equation of state',\n",
       "   'progenitor': {'mass': '9.6 M_sun', 'distance': '10 kpc'},\n",
       "   'table': {'format': 'fits', 'path': 'spectra/sukhbold-SFHo-z9.6.fits'}},\n",
       "  'IO': {'table': {'format': 'h5',\n",
       "    'path': 'processed/sukhbold-SFHo-z9.6.h5'}}},\n",
       " '_path': [],\n",
       " 'abs_base_path': '/data/ASTERIA/data'}"
      ]
     },
     "execution_count": 5,
     "metadata": {},
     "output_type": "execute_result"
    }
   ],
   "source": [
    "vars(conf)"
   ]
  },
  {
   "cell_type": "code",
   "execution_count": 6,
   "metadata": {},
   "outputs": [],
   "source": [
    "def initialize(config):\n",
    "    h5path = '/'.join([conf.abs_base_path, conf.IO.table.path])\n",
    "    try:\n",
    "        h5file = tables.open_file( filename=h5path, mode='w', \n",
    "                               title='Simulations of ASTERIA Source: '+ config.source.name)\n",
    "    \n",
    "        group_options = h5file.create_group('/', 'options', 'Requested Simulation Options' )\n",
    "        table_tbins = h5file.create_table(group_options, 'Time',\n",
    "                                          _Binning, 'Signature time binning [s]' )\n",
    "        table_Ebins = h5file.create_table(group_options, 'Enu',\n",
    "                                          _Binning, 'Neutrino spectrum energy binning [MeV]' )  \n",
    "        table_Flavors = h5file.create_table(group_options, 'Flavors',\n",
    "                                            _Flavors, 'Requested Neutrino Flavors' )\n",
    "        table_Interactions = h5file.create_table(group_options, 'Interactions',\n",
    "                                                 _Interactions, 'Requested Neutrino Interactions' )\n",
    "\n",
    "        group_data = h5file.create_group(\"/\", 'data', 'ASTERIA output')\n",
    "        for flavor in Flavor:\n",
    "            vlarray_flavor = h5file.create_vlarray(group_data, flavor.name,\n",
    "                                                   tables.Float64Atom(shape=()),\n",
    "                                                   'Flavor: '+flavor.name )\n",
    "    except NameError as e:\n",
    "        h5file.close()\n",
    "        raise NameError(e)\n",
    "        \n",
    "    except ValueError as e:\n",
    "        h5file.close()\n",
    "        raise ValueError(e)\n",
    "\n",
    "    h5file.close()\n",
    "    \n",
    "def saveSim(config, options, result):\n",
    "    h5path = '/'.join([conf.abs_base_path, conf.IO.table.path])\n",
    "    \n",
    "    if not Path(h5path).exists():\n",
    "        print('Creating file: '+ h5path)\n",
    "        initialize(config)\n",
    "        \n",
    "    h5file = tables.open_file( filename=h5path, mode='a' )\n",
    "    \n",
    "    InteractionEnum, FlavorEnum, Enu, time = options\n",
    "    \n",
    "    \n",
    "    \n",
    "    table_Interactions = h5file.root.options.Interactions\n",
    "    interactions = table_Interactions.row\n",
    "    \n",
    "    for item in InteractionEnum.included:\n",
    "        interactions[item] = True\n",
    "    for item in InteractionEnum.excluded:\n",
    "        interactions[item] = False\n",
    "        \n",
    "    interactions.append()\n",
    "    table_Interactions.flush()\n",
    "    \n",
    "    \n",
    "    \n",
    "    table_Flavors = h5file.root.options.Flavors\n",
    "    flavors = table_Interactions.row\n",
    "    \n",
    "    for item in FlavorEnum.included:\n",
    "        flavors[item] = True\n",
    "    for item in FlavorEnum.excluded:\n",
    "        flavors[item] = False\n",
    "        \n",
    "    flavors.append()\n",
    "    table_Flavors.flush()\n",
    "    \n",
    "    \n",
    "    table_Ebins = h5file.root.options.Enu\n",
    "    eBins = table_Ebins.row\n",
    "    eBins['start'] = Enu.min()\n",
    "    eBins[ 'stop'] = Enu.max()\n",
    "    eBins[ 'size'] = Enu.size\n",
    "    eBins[ 'step'] = (Enu.max() - Enu.min())/(Enu.size-1)\n",
    "    eBins.append()\n",
    "    table_Ebins.flush()\n",
    "    \n",
    "    \n",
    "    table_tbins = h5file.root.options.Time\n",
    "    tBins = table_tbins.row\n",
    "    tBins['start']  = time.min()\n",
    "    tBins['stop']   = time.max()\n",
    "    tBins['nSteps'] = time.size\n",
    "    tBins['step']   = (time.max() - time.min())/(time.size-1)\n",
    "    tBins.append()\n",
    "    table_tbins.flush()\n",
    "\n",
    "\n",
    "\n",
    "    for nu, flavor in enumerate(Flavor):  \n",
    "        vlarray = h5file.root.data[ flavor.name ]\n",
    "        vlarray.append( result[nu] )\n",
    "\n",
    "    h5file.close()"
   ]
  },
  {
   "cell_type": "code",
   "execution_count": 7,
   "metadata": {},
   "outputs": [
    {
     "ename": "TypeError",
     "evalue": "'int' object is not iterable",
     "output_type": "error",
     "traceback": [
      "\u001b[0;31m---------------------------------------------------------------------------\u001b[0m",
      "\u001b[0;31mTypeError\u001b[0m                                 Traceback (most recent call last)",
      "\u001b[0;32m<ipython-input-7-a417c5403cd0>\u001b[0m in \u001b[0;36m<module>\u001b[0;34m()\u001b[0m\n\u001b[1;32m      1\u001b[0m \u001b[0;34m\u001b[0m\u001b[0m\n\u001b[0;32m----> 2\u001b[0;31m \u001b[0msaveSim\u001b[0m\u001b[0;34m(\u001b[0m\u001b[0mconf\u001b[0m\u001b[0;34m,\u001b[0m \u001b[0;36m1\u001b[0m\u001b[0;34m,\u001b[0m \u001b[0;36m1\u001b[0m\u001b[0;34m)\u001b[0m\u001b[0;34m\u001b[0m\u001b[0;34m\u001b[0m\u001b[0m\n\u001b[0m",
      "\u001b[0;32m<ipython-input-6-229afca55d9d>\u001b[0m in \u001b[0;36msaveSim\u001b[0;34m(config, options, result)\u001b[0m\n\u001b[1;32m     39\u001b[0m     \u001b[0mh5file\u001b[0m \u001b[0;34m=\u001b[0m \u001b[0mtables\u001b[0m\u001b[0;34m.\u001b[0m\u001b[0mopen_file\u001b[0m\u001b[0;34m(\u001b[0m \u001b[0mfilename\u001b[0m\u001b[0;34m=\u001b[0m\u001b[0mh5path\u001b[0m\u001b[0;34m,\u001b[0m \u001b[0mmode\u001b[0m\u001b[0;34m=\u001b[0m\u001b[0;34m'a'\u001b[0m \u001b[0;34m)\u001b[0m\u001b[0;34m\u001b[0m\u001b[0;34m\u001b[0m\u001b[0m\n\u001b[1;32m     40\u001b[0m \u001b[0;34m\u001b[0m\u001b[0m\n\u001b[0;32m---> 41\u001b[0;31m     \u001b[0mInteractionEnum\u001b[0m\u001b[0;34m,\u001b[0m \u001b[0mFlavorEnum\u001b[0m\u001b[0;34m,\u001b[0m \u001b[0mEDict\u001b[0m\u001b[0;34m,\u001b[0m \u001b[0mTDict\u001b[0m \u001b[0;34m=\u001b[0m \u001b[0moptions\u001b[0m\u001b[0;34m\u001b[0m\u001b[0;34m\u001b[0m\u001b[0m\n\u001b[0m\u001b[1;32m     42\u001b[0m \u001b[0;34m\u001b[0m\u001b[0m\n\u001b[1;32m     43\u001b[0m     \u001b[0mtable_Interactions\u001b[0m \u001b[0;34m=\u001b[0m \u001b[0mh5file\u001b[0m\u001b[0;34m.\u001b[0m\u001b[0mroot\u001b[0m\u001b[0;34m.\u001b[0m\u001b[0moptions\u001b[0m\u001b[0;34m.\u001b[0m\u001b[0mInteractions\u001b[0m\u001b[0;34m\u001b[0m\u001b[0;34m\u001b[0m\u001b[0m\n",
      "\u001b[0;31mTypeError\u001b[0m: 'int' object is not iterable"
     ]
    }
   ],
   "source": [
    "\n",
    "saveSim(conf, 1, 1)"
   ]
  },
  {
   "cell_type": "markdown",
   "metadata": {},
   "source": [
    "## Appending to existing `h5` File."
   ]
  },
  {
   "cell_type": "code",
   "execution_count": null,
   "metadata": {},
   "outputs": [],
   "source": [
    "try:\n",
    "    h5file.close()\n",
    "except NameError:\n",
    "    print( \"h5 File not open yet\")    \n",
    "finally:\n",
    "    h5file = tables.open_file( filename=ofile, mode='a' )\n",
    "\n",
    "\n",
    "table_Flavors = h5file.root.config.Flavors\n",
    "nu = table_Flavors.row\n",
    "for flavor in Flavor:\n",
    "    nu[ flavor.name ] = True\n",
    "    break\n",
    "nu.append()\n",
    "table_Flavors.flush()\n",
    "requestedInteractions = {}\n",
    "\n",
    "table_Interactions = h5file.root.config.Interactions\n",
    "interactions = table_Interactions.row\n",
    "interactions['InvBetaTab'] = True\n",
    "interactions.append()\n",
    "table_Interactions.flush()\n",
    "\n",
    "table_tbins = h5file.root.config.Time\n",
    "tBins = table_tbins.row\n",
    "tBins['step']   = dt\n",
    "tBins['start']  = t_min\n",
    "tBins['stop']   = t_max - 1\n",
    "tBins['nSteps'] = time.size\n",
    "tBins.append()\n",
    "table_tbins.flush()\n",
    "\n",
    "table_Ebins = h5file.root.config.Enu\n",
    "eBins = table_Ebins.row\n",
    "eBins['start']  = E_min + 1\n",
    "eBins['stop']   = E_max\n",
    "eBins['step']   = dE\n",
    "eBins['nSteps'] = Enu.size\n",
    "eBins.append()\n",
    "table_Ebins.flush()\n",
    "\n",
    "for flavor in Flavor:  \n",
    "    vlarray = h5file.root.E_per_V[ flavor.name ]\n",
    "    vlarray.append( np.ones(3) )\n",
    "\n",
    "    \n",
    "print(  h5file )\n",
    "h5file.close()"
   ]
  },
  {
   "cell_type": "markdown",
   "metadata": {},
   "source": [
    "## Searching for matching criteria from `h5` file.\n",
    "\n",
    "Potential problem with time binning, could lead to inefficient I/O if the file is large enough. My main concern is the time binning.\n",
    "\n",
    "Pass dictionaries for io variables to speed things along (For the user)."
   ]
  },
  {
   "cell_type": "code",
   "execution_count": null,
   "metadata": {},
   "outputs": [],
   "source": [
    "try: \n",
    "    h5file.close()\n",
    "except NameError:\n",
    "    print( \"h5 File not open yet\")    \n",
    "finally:\n",
    "    h5file = tables.open_file( filename=ofile, mode='r' )\n",
    "\n",
    "    table_Time = h5file.root.config.Time\n",
    "table_Enu  = h5file.root.config.Enu\n",
    "table_Flavors = h5file.root.config.Flavors\n",
    "table_Interactions = h5file.root.config.Interactions\n",
    "\n",
    "\n",
    "\n",
    "pass_Time = [ row.nrow for row in table_Time.where('stop == 14') ]\n",
    "pass_Enu  = [ row.nrow for row in table_Enu.where('start == 1.1') ]\n",
    "pass_Flavors = [ row.nrow for row in table_Flavors.where('nu_e') ]\n",
    "pass_Interactions = [ row.nrow for row in table_Interactions.where('InvBetaTab') ]\n",
    "pass_all = list( set(pass_Time).intersection( pass_Enu, pass_Flavors, pass_Interactions) )\n",
    "\n",
    "\n",
    "print(\"Rows that pass the Time cuts:\", pass_Time)\n",
    "print(\"Rows that pass the Enu cuts:\", pass_Enu)\n",
    "print(\"Rows that pass the flavor cuts:\", pass_Flavors)\n",
    "print(\"Rows that pass the Interactions cuts:\", pass_Interactions)\n",
    "print(\"Rows that pass all cuts:\", pass_all)"
   ]
  },
  {
   "cell_type": "code",
   "execution_count": null,
   "metadata": {},
   "outputs": [],
   "source": [
    "# Define neutrino energy spectrum\n",
    "E_min = 0.1; E_max = 100.1; dE = 0.1;\n",
    "Enu = np.arange(E_min, E_max, dE) * u.MeV\n",
    "\n",
    "# Define post-bounce times at which to evaluate\n",
    "t_min = -1; t_max = 15; dt = 0.0001;\n",
    "time = np.arange(t_min, t_max, dt) * u.s\n",
    "\n",
    "xs = interactions.ElectronScatter().cross_section(Flavor.nu_e, Enu).to(u.m**2).value\n",
    "lep = interactions.ElectronScatter().mean_lepton_energy(Flavor.nu_e, Enu).to(u.m**2 * u.MeV).value\n",
    "cut = (lep > 0) & (xs > 0)\n",
    "quan = lep[cut]/xs[cut]\n",
    "fig, ax = plt.subplots(1,1, figsize=(9,6))\n",
    "ax.plot( Enu[cut], quan);\n",
    "ax.grid()\n",
    "ymin = np.min( quan )\n",
    "ymax = np.max( quan )        \n",
    "ax.set( ylim=(ymin/2, ymax*2) );\n"
   ]
  },
  {
   "cell_type": "code",
   "execution_count": null,
   "metadata": {},
   "outputs": [],
   "source": [
    "try:\n",
    "    h5file.close()\n",
    "except NameError:\n",
    "    print( \"h5 File not open yet\")\n",
    "    \n",
    "finally:\n",
    "    \n",
    "    h5file = tables.open_file( filename=ofile, mode='w', title='Generated from ASTERIA configuration file: test.yaml' )\n",
    "\n",
    "\n",
    "\n",
    "nu = table_Flavors.row\n",
    "for flavor in Flavor:\n",
    "    nu[ flavor.name ] = True\n",
    "nu.append()\n",
    "table_Flavors.flush()\n",
    "\n",
    "interactions = table_Interactions.row\n",
    "interactions['InvBetaPar'] = True\n",
    "interactions['ElectronScatter'] = True\n",
    "interactions['Oxygen16CC'] = True\n",
    "interactions['Oxygen16NC'] = True\n",
    "interactions['Oxygen18'] = True\n",
    "interactions.append()\n",
    "table_Interactions.flush()\n",
    "\n",
    "tBins = table_tbins.row\n",
    "tBins['step']   = dt\n",
    "tBins['start']  = t_min\n",
    "tBins['stop']   = t_max\n",
    "tBins['nSteps'] = time.size\n",
    "tBins.append()\n",
    "table_tbins.flush()\n",
    "\n",
    "eBins = table_Ebins.row\n",
    "eBins['start']  = E_min\n",
    "eBins['stop']   = E_max\n",
    "eBins['step']   = dE\n",
    "eBins['nSteps'] = Enu.size\n",
    "eBins.append()\n",
    "table_Ebins.flush()\n",
    "\n",
    "print(h5file)\n",
    "h5file.close()"
   ]
  },
  {
   "cell_type": "code",
   "execution_count": 32,
   "metadata": {},
   "outputs": [
    {
     "name": "stdout",
     "output_type": "stream",
     "text": [
      "[ 0.  1.  2.  3.  4.  5.  6.  7.  8.  9. 10.]\n",
      "[ 0.  1.  2.  3.  4.  5.  6.  7.  8.  9. 10.]\n"
     ]
    }
   ],
   "source": [
    "a = np.linspace(0,10, 11)\n",
    "print(a)\n",
    "b = np.arange(0.,11., 1)\n",
    "print(b)"
   ]
  },
  {
   "cell_type": "code",
   "execution_count": 33,
   "metadata": {},
   "outputs": [
    {
     "data": {
      "text/plain": [
       "1.0"
      ]
     },
     "execution_count": 33,
     "metadata": {},
     "output_type": "execute_result"
    }
   ],
   "source": [
    "(a.max() - a.min())/(a.size-1)"
   ]
  },
  {
   "cell_type": "code",
   "execution_count": 34,
   "metadata": {},
   "outputs": [
    {
     "data": {
      "text/plain": [
       "10.0"
      ]
     },
     "execution_count": 34,
     "metadata": {},
     "output_type": "execute_result"
    }
   ],
   "source": [
    "a.max()"
   ]
  },
  {
   "cell_type": "code",
   "execution_count": 35,
   "metadata": {},
   "outputs": [
    {
     "data": {
      "text/plain": [
       "0.0"
      ]
     },
     "execution_count": 35,
     "metadata": {},
     "output_type": "execute_result"
    }
   ],
   "source": [
    "a.min()"
   ]
  },
  {
   "cell_type": "code",
   "execution_count": 36,
   "metadata": {},
   "outputs": [
    {
     "data": {
      "text/plain": [
       "11"
      ]
     },
     "execution_count": 36,
     "metadata": {},
     "output_type": "execute_result"
    }
   ],
   "source": [
    "a.size"
   ]
  },
  {
   "cell_type": "code",
   "execution_count": 21,
   "metadata": {},
   "outputs": [
    {
     "data": {
      "text/plain": [
       "array([ 1.  ,  1.19,  1.38,  1.57,  1.76,  1.95,  2.14,  2.33,  2.52,\n",
       "        2.71,  2.9 ,  3.09,  3.28,  3.47,  3.66,  3.85,  4.04,  4.23,\n",
       "        4.42,  4.61,  4.8 ,  4.99,  5.18,  5.37,  5.56,  5.75,  5.94,\n",
       "        6.13,  6.32,  6.51,  6.7 ,  6.89,  7.08,  7.27,  7.46,  7.65,\n",
       "        7.84,  8.03,  8.22,  8.41,  8.6 ,  8.79,  8.98,  9.17,  9.36,\n",
       "        9.55,  9.74,  9.93, 10.12, 10.31, 10.5 , 10.69, 10.88, 11.07,\n",
       "       11.26, 11.45, 11.64, 11.83, 12.02, 12.21, 12.4 , 12.59, 12.78,\n",
       "       12.97, 13.16, 13.35, 13.54, 13.73, 13.92, 14.11, 14.3 , 14.49,\n",
       "       14.68, 14.87, 15.06, 15.25, 15.44, 15.63, 15.82, 16.01, 16.2 ,\n",
       "       16.39, 16.58, 16.77, 16.96, 17.15, 17.34, 17.53, 17.72, 17.91,\n",
       "       18.1 , 18.29, 18.48, 18.67, 18.86, 19.05, 19.24, 19.43, 19.62,\n",
       "       19.81, 20.  ])"
      ]
     },
     "execution_count": 21,
     "metadata": {},
     "output_type": "execute_result"
    }
   ],
   "source": [
    "a"
   ]
  },
  {
   "cell_type": "code",
   "execution_count": null,
   "metadata": {},
   "outputs": [],
   "source": []
  }
 ],
 "metadata": {
  "kernelspec": {
   "display_name": "Python 3",
   "language": "python",
   "name": "python3"
  },
  "language_info": {
   "codemirror_mode": {
    "name": "ipython",
    "version": 3
   },
   "file_extension": ".py",
   "mimetype": "text/x-python",
   "name": "python",
   "nbconvert_exporter": "python",
   "pygments_lexer": "ipython3",
   "version": "3.6.5"
  }
 },
 "nbformat": 4,
 "nbformat_minor": 2
}
