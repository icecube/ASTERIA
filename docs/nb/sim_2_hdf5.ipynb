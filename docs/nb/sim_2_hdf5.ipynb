{
 "cells": [
  {
   "cell_type": "code",
   "execution_count": 1,
   "metadata": {},
   "outputs": [],
   "source": [
    "%matplotlib inline\n",
    "\n",
    "from asteria import config, source\n",
    "from asteria.neutrino import Flavor\n",
    "\n",
    "\n",
    "import astropy.units as u\n",
    "\n",
    "import numpy as np\n",
    "import matplotlib as mpl\n",
    "import matplotlib.pyplot as plt\n",
    "\n",
    "import os\n",
    "import sys\n",
    "import tables\n",
    "import pickle"
   ]
  },
  {
   "cell_type": "code",
   "execution_count": 2,
   "metadata": {},
   "outputs": [],
   "source": [
    "conf = config.load_config('../../data/config/test.yaml')\n",
    "ccsn = source.initialize(conf)"
   ]
  },
  {
   "cell_type": "code",
   "execution_count": 3,
   "metadata": {},
   "outputs": [],
   "source": [
    "# Define neutrino energy spectrum\n",
    "E_min = 0.1; E_max = 100.1; dE = 0.1;\n",
    "Enu = np.arange(E_min, E_max, dE) * u.MeV\n",
    "\n",
    "# Define post-bounce times at which to evaluate\n",
    "t_min = -1; t_max = 15; dt = 0.0001;\n",
    "time = np.arange(t_min, t_max, dt) * u.s"
   ]
  },
  {
   "cell_type": "code",
   "execution_count": 127,
   "metadata": {},
   "outputs": [],
   "source": [
    "class Binning(tables.IsDescription):\n",
    "    start  = tables.Float64Col()   \n",
    "    stop   = tables.Float64Col() \n",
    "    step   = tables.Float64Col()\n",
    "    nSteps = tables.Int64Col()\n",
    "    \n",
    "class Flavors(tables.IsDescription):\n",
    "    nu_e     = tables.BoolCol(dflt=False)\n",
    "    nu_e_bar = tables.BoolCol(dflt=False)\n",
    "    nu_x     = tables.BoolCol(dflt=False)\n",
    "    nu_x_bar = tables.BoolCol(dflt=False)\n",
    "\n",
    "class Interactions(tables.IsDescription):\n",
    "    InvBetaTab      = tables.BoolCol(dflt=False)\n",
    "    InvBetaPar      = tables.BoolCol(dflt=False)\n",
    "    ElectronScatter = tables.BoolCol(dflt=False)\n",
    "    Oxygen16CC      = tables.BoolCol(dflt=False)\n",
    "    Oxygen16NC      = tables.BoolCol(dflt=False)\n",
    "    Oxygen18        = tables.BoolCol(dflt=False)\n",
    "\n",
    "class Configuration(tables.IsDescription):\n",
    "    flavors      = Flavors()\n",
    "    interactions = Interactions()"
   ]
  },
  {
   "cell_type": "markdown",
   "metadata": {},
   "source": [
    "1) Get path form configs, then alter `config.py` with new variable data for hdfs path"
   ]
  },
  {
   "cell_type": "markdown",
   "metadata": {},
   "source": [
    "## Writing `h5` File from Scratch"
   ]
  },
  {
   "cell_type": "code",
   "execution_count": 130,
   "metadata": {},
   "outputs": [
    {
     "name": "stdout",
     "output_type": "stream",
     "text": [
      "/data/ASTERIA/data/processed/test.h5 (File) 'Generated from ASTERIA configuration file: test.yaml'\n",
      "Last modif.: 'Tue Mar 26 18:52:07 2019'\n",
      "Object Tree: \n",
      "/ (RootGroup) 'Generated from ASTERIA configuration file: test.yaml'\n",
      "/E_per_V (Group) 'ASTERIA output: Photonic energy per ice volume [MeV / m^3]'\n",
      "/E_per_V/nu_e (VLArray(1,)) 'Flavor: nu_e'\n",
      "/E_per_V/nu_e_bar (VLArray(1,)) 'Flavor: nu_e_bar'\n",
      "/E_per_V/nu_x (VLArray(1,)) 'Flavor: nu_x'\n",
      "/E_per_V/nu_x_bar (VLArray(1,)) 'Flavor: nu_x_bar'\n",
      "/config (Group) 'Requested Simulation configuration'\n",
      "/config/Enu (Table(1,)) 'Neutrino spectrum energy binning [MeV]'\n",
      "/config/Flavors (Table(1,)) 'Requested Neutrino Flavors'\n",
      "/config/Interactions (Table(1,)) 'Requested Neutrino Interactions'\n",
      "/config/Time (Table(1,)) 'Signature time binning [s]'\n",
      "\n"
     ]
    }
   ],
   "source": [
    "try:\n",
    "    h5file.close()\n",
    "except NameError:\n",
    "    print( \"h5 File not open yet\")\n",
    "    \n",
    "finally:\n",
    "    ofile = '/'.join([conf.abs_base_path, 'processed/test.h5'])\n",
    "    h5file = tables.open_file( filename=ofile, mode='w', title='Generated from ASTERIA configuration file: test.yaml' )\n",
    "\n",
    "\n",
    "group_config = h5file.create_group('/', 'config',\n",
    "                                   'Requested Simulation configuration' )\n",
    "table_tbins = h5file.create_table(group_config, 'Time',\n",
    "                                  Binning, 'Signature time binning [s]' )\n",
    "table_Ebins = h5file.create_table(group_config, 'Enu',\n",
    "                                  Binning, 'Neutrino spectrum energy binning [MeV]' )  \n",
    "table_Flavors = h5file.create_table(group_config, 'Flavors',\n",
    "                                    Flavors, 'Requested Neutrino Flavors' )\n",
    "table_Interactions = h5file.create_table(group_config, 'Interactions',\n",
    "                                         Interactions, 'Requested Neutrino Interactions' )\n",
    " \n",
    "nu = table_Flavors.row\n",
    "for flavor in Flavor:\n",
    "    nu[ flavor.name ] = True\n",
    "nu.append()\n",
    "table_Flavors.flush()\n",
    "\n",
    "interactions = table_Interactions.row\n",
    "interactions['InvBetaPar'] = True\n",
    "interactions['ElectronScatter'] = True\n",
    "interactions['Oxygen16CC'] = True\n",
    "interactions['Oxygen16NC'] = True\n",
    "interactions['Oxygen18'] = True\n",
    "interactions.append()\n",
    "table_Interactions.flush()\n",
    "\n",
    "tBins = table_tbins.row\n",
    "tBins['step']   = dt\n",
    "tBins['start']  = t_min\n",
    "tBins['stop']   = t_max\n",
    "tBins['nSteps'] = time.size\n",
    "tBins.append()\n",
    "table_tbins.flush()\n",
    "\n",
    "eBins = table_Ebins.row\n",
    "eBins['start']  = E_min\n",
    "eBins['stop']   = E_max\n",
    "eBins['step']   = dE\n",
    "eBins['nSteps'] = Enu.size\n",
    "eBins.append()\n",
    "table_Ebins.flush()\n",
    "\n",
    "data = h5file.create_group(\"/\", 'E_per_V', \n",
    "                           'ASTERIA output: Photonic energy per ice volume [MeV / m^3]')\n",
    "for flavor in Flavor:\n",
    "    vlarray_flavor = h5file.create_vlarray(data, flavor.name,\n",
    "                                           tables.Float64Atom(shape=()),\n",
    "                                           'Flavor: '+flavor.name )\n",
    "    vlarray_flavor.append( np.ones( 4 ))\n",
    "\n",
    "print(h5file)\n",
    "h5file.close()"
   ]
  },
  {
   "cell_type": "markdown",
   "metadata": {},
   "source": [
    "## Appending to existing `h5` File."
   ]
  },
  {
   "cell_type": "code",
   "execution_count": 131,
   "metadata": {},
   "outputs": [
    {
     "name": "stdout",
     "output_type": "stream",
     "text": [
      "/data/ASTERIA/data/processed/test.h5 (File) 'Generated from ASTERIA configuration file: test.yaml'\n",
      "Last modif.: 'Tue Mar 26 18:52:10 2019'\n",
      "Object Tree: \n",
      "/ (RootGroup) 'Generated from ASTERIA configuration file: test.yaml'\n",
      "/E_per_V (Group) 'ASTERIA output: Photonic energy per ice volume [MeV / m^3]'\n",
      "/E_per_V/nu_e (VLArray(2,)) 'Flavor: nu_e'\n",
      "/E_per_V/nu_e_bar (VLArray(2,)) 'Flavor: nu_e_bar'\n",
      "/E_per_V/nu_x (VLArray(2,)) 'Flavor: nu_x'\n",
      "/E_per_V/nu_x_bar (VLArray(2,)) 'Flavor: nu_x_bar'\n",
      "/config (Group) 'Requested Simulation configuration'\n",
      "/config/Enu (Table(2,)) 'Neutrino spectrum energy binning [MeV]'\n",
      "/config/Flavors (Table(2,)) 'Requested Neutrino Flavors'\n",
      "/config/Interactions (Table(2,)) 'Requested Neutrino Interactions'\n",
      "/config/Time (Table(2,)) 'Signature time binning [s]'\n",
      "\n"
     ]
    }
   ],
   "source": [
    "try:\n",
    "    h5file.close()\n",
    "except NameError:\n",
    "    print( \"h5 File not open yet\")    \n",
    "finally:\n",
    "    h5file = tables.open_file( filename=ofile, mode='a' )\n",
    "\n",
    "\n",
    "table_Flavors = h5file.root.config.Flavors\n",
    "nu = table_Flavors.row\n",
    "for flavor in Flavor:\n",
    "    nu[ flavor.name ] = True\n",
    "    break\n",
    "nu.append()\n",
    "table_Flavors.flush()\n",
    "\n",
    "\n",
    "table_Interactions = h5file.root.config.Interactions\n",
    "interactions = table_Interactions.row\n",
    "interactions['InvBetaTab'] = True\n",
    "interactions.append()\n",
    "table_Interactions.flush()\n",
    "\n",
    "table_tbins = h5file.root.config.Time\n",
    "tBins = table_tbins.row\n",
    "tBins['step']   = dt\n",
    "tBins['start']  = t_min\n",
    "tBins['stop']   = t_max - 1\n",
    "tBins['nSteps'] = time.size\n",
    "tBins.append()\n",
    "table_tbins.flush()\n",
    "\n",
    "table_Ebins = h5file.root.config.Enu\n",
    "eBins = table_Ebins.row\n",
    "eBins['start']  = E_min + 1\n",
    "eBins['stop']   = E_max\n",
    "eBins['step']   = dE\n",
    "eBins['nSteps'] = Enu.size\n",
    "eBins.append()\n",
    "table_Ebins.flush()\n",
    "\n",
    "for flavor in Flavor:  \n",
    "    vlarray = h5file.root.E_per_V[ flavor.name ]\n",
    "    vlarray.append( np.ones(3) )\n",
    "\n",
    "    \n",
    "print(  h5file )\n",
    "h5file.close()"
   ]
  },
  {
   "cell_type": "markdown",
   "metadata": {},
   "source": [
    "## Searching for matching criteria from `h5` file.\n",
    "\n",
    "Potential problem with time binning, could lead to inefficient I/O if the file is large enough. My main concern is the time binning.\n",
    "\n",
    "Pass dictionaries for io variables to speed things along (For the user)."
   ]
  },
  {
   "cell_type": "code",
   "execution_count": 176,
   "metadata": {},
   "outputs": [
    {
     "name": "stdout",
     "output_type": "stream",
     "text": [
      "Rows that pass the Time cuts: [1]\n",
      "Rows that pass the Enu cuts: [1]\n",
      "Rows that pass the flavor cuts: [0, 1]\n",
      "Rows that pass the Interactions cuts: [1]\n",
      "Rows that pass all cuts: [1]\n"
     ]
    }
   ],
   "source": [
    "try: \n",
    "    h5file.close()\n",
    "except NameError:\n",
    "    print( \"h5 File not open yet\")    \n",
    "finally:\n",
    "    h5file = tables.open_file( filename=ofile, mode='r' )\n",
    "\n",
    "    table_Time = h5file.root.config.Time\n",
    "table_Enu  = h5file.root.config.Enu\n",
    "table_Flavors = h5file.root.config.Flavors\n",
    "table_Interactions = h5file.root.config.Interactions\n",
    "\n",
    "\n",
    "\n",
    "pass_Time = [ row.nrow for row in table_Time.where('stop == 14') ]\n",
    "pass_Enu  = [ row.nrow for row in table_Enu.where('start == 1.1') ]\n",
    "pass_Flavors = [ row.nrow for row in table_Flavors.where('nu_e') ]\n",
    "pass_Interactions = [ row.nrow for row in table_Interactions.where('InvBetaTab') ]\n",
    "pass_all = list( set(pass_Time).intersection( pass_Enu, pass_Flavors, pass_Interactions) )\n",
    "\n",
    "\n",
    "print(\"Rows that pass the Time cuts:\", pass_Time)\n",
    "print(\"Rows that pass the Enu cuts:\", pass_Enu)\n",
    "print(\"Rows that pass the flavor cuts:\", pass_Flavors)\n",
    "print(\"Rows that pass the Interactions cuts:\", pass_Interactions)\n",
    "print(\"Rows that pass all cuts:\", pass_all)"
   ]
  },
  {
   "cell_type": "code",
   "execution_count": 69,
   "metadata": {},
   "outputs": [
    {
     "name": "stdout",
     "output_type": "stream",
     "text": [
      "56\n",
      "<class 'scipy.interpolate.fitpack2.InterpolatedUnivariateSpline'>\n"
     ]
    }
   ],
   "source": [
    "# a = np.array([0], dtype=float )\n",
    "a = ccsn.luminosity[Flavor.nu_e]\n",
    "print( sys.getsizeof( a ) )\n",
    "print( type(a) )"
   ]
  },
  {
   "cell_type": "code",
   "execution_count": 13,
   "metadata": {},
   "outputs": [
    {
     "name": "stdout",
     "output_type": "stream",
     "text": [
      "5.606984 MB\n"
     ]
    }
   ],
   "source": [
    "total_size = 0\n",
    "for flavor in Flavor:\n",
    "    total_size += sys.getsizeof(pickle.dumps(ccsn.pinch[flavor]))\n",
    "    total_size += sys.getsizeof(pickle.dumps(ccsn.luminosity[flavor]))\n",
    "    total_size += sys.getsizeof(pickle.dumps(ccsn.mean_energy[flavor]))\n",
    "print( '{0} MB'.format( total_size/1e6 ) )"
   ]
  },
  {
   "cell_type": "code",
   "execution_count": 4,
   "metadata": {},
   "outputs": [],
   "source": [
    "\n",
    "from enum import Enum, EnumMeta\n",
    "from asteria import interactions\n",
    "from asteria.neutrino import Flavor\n",
    "\n",
    "import astropy.units as u\n",
    "\n",
    "\n",
    "    \n",
    "# allowed_interactions = (interactions.InvBetaPar, interactions.InvBetaTab,\n",
    "#                             interactions.ElectronScatter, interactions.Oxygen16CC,\n",
    "#                             interactions.Oxygen16NC, interactions.Oxygen18) \n",
    "\n",
    "# class InteractionEnum(Enum):\n",
    "#     def __new__(cls, requested):\n",
    "#         obj = object.__new__(cls)\n",
    "#         obj._value_ = None\n",
    "#         return obj\n",
    "    \n",
    "#     def __init__(self, requested):\n",
    "#         if not self._name_ in ('InvBetaPar', 'InvBetaTab','ElectronScatter',\n",
    "#                                'Oxygen16CC', 'Oxygen16NC','Oxygen18'):\n",
    "#             raise NameError('Requested unknown/incorrect Key: {0}'.format( self._name_ ))\n",
    "#         self._value_ = getattr(interactions, self._name_ )\n",
    "#         self._requested_ = requested\n",
    "#         return self\n",
    "            \n",
    "    \n",
    "#     @property\n",
    "#     def cross_section(self):\n",
    "#         if not self._requested_:\n",
    "#             return 0 * u.cm**2\n",
    "#         return self.value.cross_section\n",
    "    \n",
    "#     @property\n",
    "#     def mean_lepton_energy(self):        \n",
    "#         if not self._requested_:\n",
    "#             return 0 * u.MeV**2\n",
    "#         return self.value.mean_lepton_energy\n",
    "\n",
    "    \n",
    "# class InteractionsMeta(EnumMeta):\n",
    "#     def __new__(metacls, cls, bases, classdict):\n",
    "#         data = classdict['data']\n",
    "#         names = [(interaction, data[interaction]) for interaction in data]\n",
    "\n",
    "#         temp = type(classdict)()\n",
    "#         excluded = []\n",
    "#         for name, requested in names:\n",
    "#             temp[name] = requested\n",
    "#             if not requested:\n",
    "#                 excluded.append(name)\n",
    "        \n",
    "#         print(classdict['data'] )\n",
    "\n",
    "#         temp.update(item for item in classdict.items() if classdict['data'] not in excluded)\n",
    "\n",
    "#         return super(InteractionsMeta, metacls).__new__(metacls, cls, bases, temp)\n",
    "\n",
    "# class InteractionsMeta(EnumMeta):\n",
    "#     def __new__(metacls, cls, bases, classdict):\n",
    "#         requested = classdict['requested']\n",
    "        \n",
    "#         obj = type(classdict)()\n",
    "#         excluded = ['requested']\n",
    "        \n",
    "#         for interaction in requested:\n",
    "#             obj[interaction] = requested[interaction] # Put asteria.interaction class here\n",
    "#             if requested[interaction]:\n",
    "#                 excluded.append(interaction)\n",
    "        \n",
    "#         obj.update( item for item in classdict.items() if requested not in excluded)\n",
    "#         print( obj )\n",
    "#         return super(InteractionsMeta, metacls).__new__(metacls, cls, bases, obj)         \n",
    "    \n",
    "# class InteractionsMeta(EnumMeta):\n",
    "#     def __new__(metacls, cls, bases, classdict):\n",
    "#         requested = classdict['requested']\n",
    "#         obj = type(classdict)()\n",
    "        \n",
    "#         excluded = ['requested']\n",
    "#         for item in requested:\n",
    "#             if requested[item]:\n",
    "#                 obj[item] = requested[item]\n",
    "                \n",
    "#         print(obj)\n",
    "#         for item in classdict.items():\n",
    "#             print( item[0] not in excluded )\n",
    "#         obj.update(item for item in classdict.items() if item[0] not in excluded )\n",
    "#         print(obj)\n",
    "#         return super(InteractionsMeta, metacls).__new__(metacls, cls, bases, obj)         \n",
    "    \n",
    "# class Interactions(Enum):\n",
    "#     InvBetaPar      = 1\n",
    "#     InvBetaTab      = 2\n",
    "#     ElectronScatter = 3\n",
    "#     Oxygen16CC      = 4\n",
    "#     Oxygen16NC      = 5\n",
    "#     Oxygen18        = 6"
   ]
  },
  {
   "cell_type": "code",
   "execution_count": 13,
   "metadata": {},
   "outputs": [
    {
     "data": {
      "text/plain": [
       "['ElectronScatter',\n",
       " 'InvBetaPar',\n",
       " 'InvBetaTab',\n",
       " 'Oxygen16CC',\n",
       " 'Oxygen16NC',\n",
       " 'Oxygen18',\n",
       " '__class__',\n",
       " '__doc__',\n",
       " '__members__',\n",
       " '__module__']"
      ]
     },
     "execution_count": 13,
     "metadata": {},
     "output_type": "execute_result"
    }
   ],
   "source": [
    "dir( Interactions )"
   ]
  },
  {
   "cell_type": "code",
   "execution_count": 85,
   "metadata": {},
   "outputs": [
    {
     "name": "stdout",
     "output_type": "stream",
     "text": [
      "ElectronScat\n",
      "InvBeta\n",
      "data\n"
     ]
    }
   ],
   "source": [
    "temp = ['InvBeta', 'ElectronScat']\n",
    "\n",
    "excluded = set(temp) | set(('data',))\n",
    "for item in excluded:\n",
    "    print( item )"
   ]
  },
  {
   "cell_type": "code",
   "execution_count": null,
   "metadata": {},
   "outputs": [],
   "source": []
  },
  {
   "cell_type": "code",
   "execution_count": 247,
   "metadata": {},
   "outputs": [
    {
     "name": "stdout",
     "output_type": "stream",
     "text": [
      "['__doc__', '__module__', '__qualname__']\n",
      "InvBetaPar\n",
      "InvBetaTab\n",
      "ElectronScatter\n",
      "Oxygen16CC\n",
      "Oxygen16NC\n",
      "Oxygen18\n"
     ]
    }
   ],
   "source": [
    "def Interactions(InteractionDict = ):\n",
    "    \"\"\" doc string\"\"\"\n",
    "    \n",
    "    def __init__(cls, name, bases, props):\n",
    "        cls.__all_values__ = [...] \n",
    "        \n",
    "        \n",
    "    def __iter__(cls):\n",
    "        \n",
    "        return (name for name in cls._member_names_)\n",
    "\n",
    "    \n",
    "class InteractionEnum(Enum, metaclass=InteractionsMeta):\n",
    "    \"\"\" doc string\"\"\"    \n",
    "    #print('test1')\n",
    "    InvBetaPar      = True\n",
    "    InvBetaTab      = False\n",
    "    ElectronScatter = True\n",
    "    Oxygen16CC      = True\n",
    "    Oxygen16NC      = True\n",
    "    Oxygen18        = True\n",
    "\n",
    "    \n",
    "    def __init__(self, requested):\n",
    "        #print('Init Object: {0}'.format(self._name_) )\n",
    "        #print('test3')\n",
    "        self._requested_ = requested\n",
    "        self._value_ = getattr(interactions, self._name_ )\n",
    "    \n",
    "\n",
    "for item in Interactions:\n",
    "    print(item)"
   ]
  },
  {
   "cell_type": "code",
   "execution_count": 233,
   "metadata": {},
   "outputs": [
    {
     "name": "stdout",
     "output_type": "stream",
     "text": [
      "Creating Enumeration:\n",
      "Completed Enum Creation, Returning \n",
      "\n",
      "Inst. Object\n",
      "Init Object: InvBetaPar\n",
      "Inst. Object\n",
      "Init Object: InvBetaTab\n",
      "Inst. Object\n",
      "Init Object: ElectronScatter\n",
      "Inst. Object\n",
      "Init Object: Oxygen16CC\n",
      "Inst. Object\n",
      "Init Object: Oxygen16NC\n",
      "Inst. Object\n",
      "Init Object: Oxygen18\n",
      "\n",
      "\n",
      "***Begin Test********\n",
      "Interactions.InvBetaPar\n",
      "Interactions.InvBetaTab\n",
      "Interactions.ElectronScatter\n",
      "Interactions.Oxygen16CC\n",
      "Interactions.Oxygen16NC\n",
      "Interactions.Oxygen18\n"
     ]
    }
   ],
   "source": [
    "class Interactions(Enum):\n",
    "    \"\"\" doc string\"\"\"\n",
    "    print('Creating Enumeration:')\n",
    "    _ignore_ = 'ignored'\n",
    "    \n",
    "    InvBetaPar      = True\n",
    "    InvBetaTab      = False\n",
    "    ElectronScatter = True\n",
    "    Oxygen16CC      = True\n",
    "    Oxygen16NC      = True\n",
    "    Oxygen18        = True\n",
    "    \n",
    "    def __contains__(self, requested):\n",
    "        \n",
    "        return requested\n",
    "    \n",
    "    def __new__(cls, requested):\n",
    "        print('Inst. Object')\n",
    "        obj = object.__new__(cls)\n",
    "        obj._value_ = requested\n",
    "        return obj\n",
    "    \n",
    "    def __init__(self, requested):\n",
    "        print('Init Object: {0}'.format(self._name_) )\n",
    "        self._requested_ = requested\n",
    "        self._value_ = getattr(interactions, self._name_ )\n",
    "\n",
    "        \n",
    "    @property\n",
    "    def cross_section(self):\n",
    "        return self.value.cross_section\n",
    "    \n",
    "    @property\n",
    "    def mean_lepton_energy(self):\n",
    "        return self.value.mean_lepton_energy\n",
    "    \n",
    "    print('Completed Enum Creation, Returning \\n')\n",
    "\n",
    "print('\\n\\n***Begin Test********')\n",
    "for item in Interactions:\n",
    "    print(item)"
   ]
  },
  {
   "cell_type": "code",
   "execution_count": 116,
   "metadata": {},
   "outputs": [],
   "source": [
    "class InteractionsMeta(EnumMeta):\n",
    "    default = {'InvBetaPar'      : True,\n",
    "               'InvBetaTab'      : False,\n",
    "               'ElectronScatter' : True,\n",
    "               'Oxygen16CC'      : True,\n",
    "               'Oxygen16NC'      : True,\n",
    "               'Oxygen18'        : True }\n",
    "    \n",
    "    def __iter__(cls):\n",
    "        return (getattr(interactions, name) for name in cls._member_names_ \n",
    "                if cls._member_map_[name].value['requested'])\n",
    "    \n",
    "    def __call__(cls, requests=default, name='Interactions'):\n",
    "         return cls._create_(name, requests)\n",
    "        \n",
    "\n",
    "class Interactions(Enum, metaclass=InteractionsMeta):\n",
    "    \"\"\" doc string\"\"\"\n",
    "    \n",
    "    def __init__(self, value):\n",
    "        print('init')\n",
    "        self._value_ = {'name' : getattr(interactions, self._name_ ).__module__+'.'+self._name_, \n",
    "                        'requested' : value }"
   ]
  },
  {
   "cell_type": "code",
   "execution_count": 117,
   "metadata": {},
   "outputs": [
    {
     "name": "stdout",
     "output_type": "stream",
     "text": [
      "init\n",
      "init\n",
      "init\n",
      "init\n",
      "init\n",
      "init\n",
      "<class 'asteria.interactions.InvBetaPar'>\n",
      "<class 'asteria.interactions.ElectronScatter'>\n",
      "<class 'asteria.interactions.Oxygen16CC'>\n",
      "<class 'asteria.interactions.Oxygen16NC'>\n",
      "<class 'asteria.interactions.Oxygen18'>\n"
     ]
    }
   ],
   "source": [
    "for a in Interactions():\n",
    "    print(a)"
   ]
  },
  {
   "cell_type": "code",
   "execution_count": 114,
   "metadata": {},
   "outputs": [
    {
     "name": "stdout",
     "output_type": "stream",
     "text": [
      "<class 'asteria.interactions.Oxygen18'>\n",
      "<class 'asteria.interactions.Oxygen18'>\n",
      "<class 'asteria.interactions.Oxygen18'>\n",
      "<class 'asteria.interactions.Oxygen18'>\n",
      "<class 'asteria.interactions.Oxygen18'>\n"
     ]
    }
   ],
   "source": [
    "class InteractionsMeta(EnumMeta):\n",
    "    default = {'InvBetaPar'      : True,\n",
    "               'InvBetaTab'      : False,\n",
    "               'ElectronScatter' : True,\n",
    "               'Oxygen16CC'      : True,\n",
    "               'Oxygen16NC'      : True,\n",
    "               'Oxygen18'        : True }\n",
    "    \n",
    "    \n",
    "    def __iter__(cls):\n",
    "        return (getattr(interactions, name) for name in cls._member_names_ \n",
    "                if cls._member_map_[name].value['requested'])\n",
    "    \n",
    "    def __call__(cls, requests=default, name='Interactions'):\n",
    "          return cls._create_(name, requests)\n",
    "        \n",
    "\n",
    "class Interactions(Enum, metaclass=InteractionsMeta):\n",
    "    \"\"\" doc string\"\"\"\n",
    "    \n",
    "        \n",
    " \n",
    "    \n",
    "    def __init__(self, value):\n",
    "        self._value_ = {'name' : getattr(interactions, self._name_ ).__module__+'.'+self._name_, \n",
    "                        'requested' : value }\n",
    "\n",
    "for item in Interactions():\n",
    "    print(a)"
   ]
  },
  {
   "cell_type": "code",
   "execution_count": 54,
   "metadata": {},
   "outputs": [
    {
     "name": "stdout",
     "output_type": "stream",
     "text": [
      "{'__module__': 'enum', '__doc__': 'Generic enumeration.\\n\\n    Derive from this class to define new enumerations.\\n\\n    ', '__new__': <staticmethod object at 0x7feac3331c50>, '_generate_next_value_': <function Enum._generate_next_value_ at 0x7feac333a510>, '_missing_': <classmethod object at 0x7feac3331b00>, '__repr__': <function Enum.__repr__ at 0x7feac333a620>, '__str__': <function Enum.__str__ at 0x7feac333a6a8>, '__dir__': <function Enum.__dir__ at 0x7feac333a730>, '__format__': <function Enum.__format__ at 0x7feac333a7b8>, '__hash__': <function Enum.__hash__ at 0x7feac333a840>, '__reduce_ex__': <function Enum.__reduce_ex__ at 0x7feac333a8c8>, 'name': <types.DynamicClassAttribute object at 0x7feac3331b38>, 'value': <types.DynamicClassAttribute object at 0x7feac3331be0>, '_convert': <classmethod object at 0x7feac3331c18>, '__dict__': <attribute '__dict__' of 'Enum' objects>, '__weakref__': <attribute '__weakref__' of 'Enum' objects>, '_member_names_': [], '_member_map_': OrderedDict(), '_member_type_': <class 'object'>, '_value2member_map_': {}}\n",
      "False\n",
      "    def __call__(cls, value, names=None, *, module=None, qualname=None, type=None, start=1):\n",
      "        \"\"\"Either returns an existing member, or creates a new enum class.\n",
      "\n",
      "        This method is used both when an enum class is given a value to match\n",
      "        to an enumeration member (i.e. Color(3)) and for the functional API\n",
      "        (i.e. Color = Enum('Color', names='RED GREEN BLUE')).\n",
      "\n",
      "        When used for the functional API:\n",
      "\n",
      "        `value` will be the name of the new class.\n",
      "\n",
      "        `names` should be either a string of white-space/comma delimited names\n",
      "        (values will start at `start`), or an iterator/mapping of name, value pairs.\n",
      "\n",
      "        `module` should be set to the module this class is being created in;\n",
      "        if it is not set, an attempt to find that module will be made, but if\n",
      "        it fails the class will not be picklable.\n",
      "\n",
      "        `qualname` should be set to the actual location this class can be found\n",
      "        at in its module; by default it is set to the global scope.  If this is\n",
      "        not correct, unpickling will fail in some circumstances.\n",
      "\n",
      "        `type`, if set, will be mixed in as the first base class.\n",
      "\n",
      "        \"\"\"\n",
      "        if names is None:  # simple value lookup\n",
      "            return cls.__new__(cls, value)\n",
      "        # otherwise, functional API: we're creating a new Enum type\n",
      "        return cls._create_(value, names, module=module, qualname=qualname, type=type, start=start)\n",
      "\n"
     ]
    },
    {
     "ename": "TypeError",
     "evalue": "Cannot extend enumerations",
     "output_type": "error",
     "traceback": [
      "\u001b[0;31m---------------------------------------------------------------------------\u001b[0m",
      "\u001b[0;31mTypeError\u001b[0m                                 Traceback (most recent call last)",
      "\u001b[0;32m<ipython-input-54-4ac40d66adf6>\u001b[0m in \u001b[0;36m<module>\u001b[0;34m\u001b[0m\n\u001b[1;32m     19\u001b[0m \u001b[0;34m\u001b[0m\u001b[0m\n\u001b[1;32m     20\u001b[0m \u001b[0;34m\u001b[0m\u001b[0m\n\u001b[0;32m---> 21\u001b[0;31m \u001b[0mInteractions\u001b[0m\u001b[0;34m(\u001b[0m\u001b[0;34m'req'\u001b[0m\u001b[0;34m,\u001b[0m \u001b[0mtest\u001b[0m\u001b[0;34m)\u001b[0m\u001b[0;34m\u001b[0m\u001b[0;34m\u001b[0m\u001b[0m\n\u001b[0m",
      "\u001b[0;32m~/virtualenvs/Py3.7/lib/python3.7/enum.py\u001b[0m in \u001b[0;36m__call__\u001b[0;34m(cls, value, names, module, qualname, type, start)\u001b[0m\n\u001b[1;32m    309\u001b[0m             \u001b[0;32mreturn\u001b[0m \u001b[0mcls\u001b[0m\u001b[0;34m.\u001b[0m\u001b[0m__new__\u001b[0m\u001b[0;34m(\u001b[0m\u001b[0mcls\u001b[0m\u001b[0;34m,\u001b[0m \u001b[0mvalue\u001b[0m\u001b[0;34m)\u001b[0m\u001b[0;34m\u001b[0m\u001b[0;34m\u001b[0m\u001b[0m\n\u001b[1;32m    310\u001b[0m         \u001b[0;31m# otherwise, functional API: we're creating a new Enum type\u001b[0m\u001b[0;34m\u001b[0m\u001b[0;34m\u001b[0m\u001b[0;34m\u001b[0m\u001b[0m\n\u001b[0;32m--> 311\u001b[0;31m         \u001b[0;32mreturn\u001b[0m \u001b[0mcls\u001b[0m\u001b[0;34m.\u001b[0m\u001b[0m_create_\u001b[0m\u001b[0;34m(\u001b[0m\u001b[0mvalue\u001b[0m\u001b[0;34m,\u001b[0m \u001b[0mnames\u001b[0m\u001b[0;34m,\u001b[0m \u001b[0mmodule\u001b[0m\u001b[0;34m=\u001b[0m\u001b[0mmodule\u001b[0m\u001b[0;34m,\u001b[0m \u001b[0mqualname\u001b[0m\u001b[0;34m=\u001b[0m\u001b[0mqualname\u001b[0m\u001b[0;34m,\u001b[0m \u001b[0mtype\u001b[0m\u001b[0;34m=\u001b[0m\u001b[0mtype\u001b[0m\u001b[0;34m,\u001b[0m \u001b[0mstart\u001b[0m\u001b[0;34m=\u001b[0m\u001b[0mstart\u001b[0m\u001b[0;34m)\u001b[0m\u001b[0;34m\u001b[0m\u001b[0;34m\u001b[0m\u001b[0m\n\u001b[0m\u001b[1;32m    312\u001b[0m \u001b[0;34m\u001b[0m\u001b[0m\n\u001b[1;32m    313\u001b[0m     \u001b[0;32mdef\u001b[0m \u001b[0m__contains__\u001b[0m\u001b[0;34m(\u001b[0m\u001b[0mcls\u001b[0m\u001b[0;34m,\u001b[0m \u001b[0mmember\u001b[0m\u001b[0;34m)\u001b[0m\u001b[0;34m:\u001b[0m\u001b[0;34m\u001b[0m\u001b[0;34m\u001b[0m\u001b[0m\n",
      "\u001b[0;32m~/virtualenvs/Py3.7/lib/python3.7/enum.py\u001b[0m in \u001b[0;36m_create_\u001b[0;34m(cls, class_name, names, module, qualname, type, start)\u001b[0m\n\u001b[1;32m    400\u001b[0m         \u001b[0mmetacls\u001b[0m \u001b[0;34m=\u001b[0m \u001b[0mcls\u001b[0m\u001b[0;34m.\u001b[0m\u001b[0m__class__\u001b[0m\u001b[0;34m\u001b[0m\u001b[0;34m\u001b[0m\u001b[0m\n\u001b[1;32m    401\u001b[0m         \u001b[0mbases\u001b[0m \u001b[0;34m=\u001b[0m \u001b[0;34m(\u001b[0m\u001b[0mcls\u001b[0m\u001b[0;34m,\u001b[0m \u001b[0;34m)\u001b[0m \u001b[0;32mif\u001b[0m \u001b[0mtype\u001b[0m \u001b[0;32mis\u001b[0m \u001b[0;32mNone\u001b[0m \u001b[0;32melse\u001b[0m \u001b[0;34m(\u001b[0m\u001b[0mtype\u001b[0m\u001b[0;34m,\u001b[0m \u001b[0mcls\u001b[0m\u001b[0;34m)\u001b[0m\u001b[0;34m\u001b[0m\u001b[0;34m\u001b[0m\u001b[0m\n\u001b[0;32m--> 402\u001b[0;31m         \u001b[0m_\u001b[0m\u001b[0;34m,\u001b[0m \u001b[0mfirst_enum\u001b[0m \u001b[0;34m=\u001b[0m \u001b[0mcls\u001b[0m\u001b[0;34m.\u001b[0m\u001b[0m_get_mixins_\u001b[0m\u001b[0;34m(\u001b[0m\u001b[0mbases\u001b[0m\u001b[0;34m)\u001b[0m\u001b[0;34m\u001b[0m\u001b[0;34m\u001b[0m\u001b[0m\n\u001b[0m\u001b[1;32m    403\u001b[0m         \u001b[0mclassdict\u001b[0m \u001b[0;34m=\u001b[0m \u001b[0mmetacls\u001b[0m\u001b[0;34m.\u001b[0m\u001b[0m__prepare__\u001b[0m\u001b[0;34m(\u001b[0m\u001b[0mclass_name\u001b[0m\u001b[0;34m,\u001b[0m \u001b[0mbases\u001b[0m\u001b[0;34m)\u001b[0m\u001b[0;34m\u001b[0m\u001b[0;34m\u001b[0m\u001b[0m\n\u001b[1;32m    404\u001b[0m \u001b[0;34m\u001b[0m\u001b[0m\n",
      "\u001b[0;32m~/virtualenvs/Py3.7/lib/python3.7/enum.py\u001b[0m in \u001b[0;36m_get_mixins_\u001b[0;34m(bases)\u001b[0m\n\u001b[1;32m    468\u001b[0m         \u001b[0mmember_type\u001b[0m \u001b[0;34m=\u001b[0m \u001b[0m_find_data_type\u001b[0m\u001b[0;34m(\u001b[0m\u001b[0mbases\u001b[0m\u001b[0;34m)\u001b[0m \u001b[0;32mor\u001b[0m \u001b[0mobject\u001b[0m\u001b[0;34m\u001b[0m\u001b[0;34m\u001b[0m\u001b[0m\n\u001b[1;32m    469\u001b[0m         \u001b[0;32mif\u001b[0m \u001b[0mfirst_enum\u001b[0m\u001b[0;34m.\u001b[0m\u001b[0m_member_names_\u001b[0m\u001b[0;34m:\u001b[0m\u001b[0;34m\u001b[0m\u001b[0;34m\u001b[0m\u001b[0m\n\u001b[0;32m--> 470\u001b[0;31m             \u001b[0;32mraise\u001b[0m \u001b[0mTypeError\u001b[0m\u001b[0;34m(\u001b[0m\u001b[0;34m\"Cannot extend enumerations\"\u001b[0m\u001b[0;34m)\u001b[0m\u001b[0;34m\u001b[0m\u001b[0;34m\u001b[0m\u001b[0m\n\u001b[0m\u001b[1;32m    471\u001b[0m         \u001b[0;32mreturn\u001b[0m \u001b[0mmember_type\u001b[0m\u001b[0;34m,\u001b[0m \u001b[0mfirst_enum\u001b[0m\u001b[0;34m\u001b[0m\u001b[0;34m\u001b[0m\u001b[0m\n\u001b[1;32m    472\u001b[0m \u001b[0;34m\u001b[0m\u001b[0m\n",
      "\u001b[0;31mTypeError\u001b[0m: Cannot extend enumerations"
     ]
    }
   ],
   "source": [
    "import inspect\n",
    "\n",
    "print( object.__new__(Enum) )\n",
    "\n",
    "\n",
    "test = {'InvBetaPar'      : False,\n",
    "        'InvBetaTab'      : False,\n",
    "        'ElectronScatter' : True,\n",
    "        'Oxygen16CC'      : True,\n",
    "        'Oxygen16NC'      : True,\n",
    "        'Oxygen18'        : True }\n",
    "\n",
    "\n",
    "print(bool('Kapootic' in test.keys())  )\n",
    "\n",
    "\n",
    "\n",
    "print( inspect.getsource(Interactions.__call__.__func__) )\n",
    "\n",
    "\n",
    "Interactions('req', test)"
   ]
  },
  {
   "cell_type": "code",
   "execution_count": 105,
   "metadata": {},
   "outputs": [
    {
     "ename": "NameError",
     "evalue": "name 'enum' is not defined",
     "output_type": "error",
     "traceback": [
      "\u001b[0;31m---------------------------------------------------------------------------\u001b[0m",
      "\u001b[0;31mNameError\u001b[0m                                 Traceback (most recent call last)",
      "\u001b[0;32m<ipython-input-105-eb6ea02e0dda>\u001b[0m in \u001b[0;36m<module>\u001b[0;34m\u001b[0m\n\u001b[0;32m----> 1\u001b[0;31m \u001b[0menum\u001b[0m\u001b[0;34m(\u001b[0m\u001b[0;34m[\u001b[0m\u001b[0;36m1\u001b[0m\u001b[0;34m,\u001b[0m\u001b[0;36m2\u001b[0m\u001b[0;34m,\u001b[0m\u001b[0;36m3\u001b[0m\u001b[0;34m]\u001b[0m\u001b[0;34m)\u001b[0m\u001b[0;34m\u001b[0m\u001b[0;34m\u001b[0m\u001b[0m\n\u001b[0m",
      "\u001b[0;31mNameError\u001b[0m: name 'enum' is not defined"
     ]
    }
   ],
   "source": [
    "Enum([1,2,3])"
   ]
  },
  {
   "cell_type": "code",
   "execution_count": null,
   "metadata": {},
   "outputs": [],
   "source": [
    "class InteractionEnum(Enum):\n",
    "    \n",
    "    def __init__(self, requested):\n",
    "        self._value_ = getattr(interactions, self._name_ )\n",
    "        \n",
    "    @property\n",
    "    def cross_section(self):\n",
    "        return self.value.cross_section\n",
    "    \n",
    "    @property\n",
    "    def mean_lepton_energy(self):\n",
    "        return self.value.mean_lepton_energy\n",
    "        \n",
    "        \n",
    "\n",
    "class Interactions(InteractionEnum):\n",
    "    \"\"\" doc string\"\"\"\n",
    "   \n",
    "    InvBetaPar      = True\n",
    "    InvBetaTab      = False\n",
    "    ElectronScatter = True\n",
    "    Oxygen16CC      = True\n",
    "    Oxygen16NC      = True\n",
    "    Oxygen18        = True\n",
    "\n",
    "print('\\n\\n***Begin Test********')\n",
    "for item in Interactions:\n",
    "    print(item)"
   ]
  },
  {
   "cell_type": "code",
   "execution_count": 65,
   "metadata": {},
   "outputs": [
    {
     "data": {
      "text/plain": [
       "True"
      ]
     },
     "execution_count": 65,
     "metadata": {},
     "output_type": "execute_result"
    }
   ],
   "source": [
    "bool(-1)\n"
   ]
  },
  {
   "cell_type": "code",
   "execution_count": 211,
   "metadata": {},
   "outputs": [
    {
     "data": {
      "text/plain": [
       "True"
      ]
     },
     "execution_count": 211,
     "metadata": {},
     "output_type": "execute_result"
    }
   ],
   "source": [
    "{'_generate_next_value_': <function Enum._generate_next_value_ at 0x7f2108f51510>, \n",
    " '__module__': '__main__',\n",
    " '__doc__': ' doc string',\n",
    " '__new__': <function Enum.__new__ at 0x7f2108f51488>,\n",
    " '__init__': <function Interactions.__init__ at 0x7f20cc910840>,\n",
    " 'cross_section': <property object at 0x7f20cc7ad548>,\n",
    " 'mean_lepton_energy': <property object at 0x7f20cc7ad598>,\n",
    " '_member_names_': ['InvBetaPar', 'InvBetaTab', 'ElectronScatter',\n",
    "                    'Oxygen16CC', 'Oxygen16NC', 'Oxygen18'],\n",
    " '_member_map_': OrderedDict([('InvBetaPar', <Interactions.InvBetaPar: <class 'asteria.interactions.InvBetaPar'>>),\n",
    "                              ('InvBetaTab', <Interactions.InvBetaTab: <class 'asteria.interactions.InvBetaTab'>>),\n",
    "                              ('ElectronScatter', <Interactions.ElectronScatter: <class 'asteria.interactions.ElectronScatter'>>),\n",
    "                              ('Oxygen16CC', <Interactions.Oxygen16CC: <class 'asteria.interactions.Oxygen16CC'>>),\n",
    "                              ('Oxygen16NC', <Interactions.Oxygen16NC: <class 'asteria.interactions.Oxygen16NC'>>),\n",
    "                              ('Oxygen18', <Interactions.Oxygen18: <class 'asteria.interactions.Oxygen18'>>)]),\n",
    " '_member_type_': <class 'object'>, '_value2member_map_': {True: <Interactions.Oxygen18: <class 'asteria.interactions.Oxygen18'>>,\n",
    "                                                           False: <Interactions.InvBetaTab: <class 'asteria.interactions.InvBetaTab'>>},\n",
    " 'InvBetaPar': <Interactions.InvBetaPar: <class 'asteria.interactions.InvBetaPar'>>,\n",
    " 'InvBetaTab': <Interactions.InvBetaTab: <class 'asteria.interactions.InvBetaTab'>>,\n",
    " 'ElectronScatter': <Interactions.ElectronScatter: <class 'asteria.interactions.ElectronScatter'>>,\n",
    " 'Oxygen16CC': <Interactions.Oxygen16CC: <class 'asteria.interactions.Oxygen16CC'>>,\n",
    " 'Oxygen16NC': <Interactions.Oxygen16NC: <class 'asteria.interactions.Oxygen16NC'>>,\n",
    " 'Oxygen18': <Interactions.Oxygen18: <class 'asteria.interactions.Oxygen18'>>, \n",
    " '__new_member__': <function Interactions.__new__ at 0x7f20cc910c80>} "
   ]
  },
  {
   "cell_type": "code",
   "execution_count": 36,
   "metadata": {},
   "outputs": [
    {
     "data": {
      "image/png": "[encoded data removed]",
      "text/plain": [
       "<Figure size 648x432 with 1 Axes>"
      ]
     },
     "metadata": {},
     "output_type": "display_data"
    }
   ],
   "source": [
    "# Define neutrino energy spectrum\n",
    "E_min = 0.1; E_max = 100.1; dE = 0.1;\n",
    "Enu = np.arange(E_min, E_max, dE) * u.MeV\n",
    "\n",
    "# Define post-bounce times at which to evaluate\n",
    "t_min = -1; t_max = 15; dt = 0.0001;\n",
    "time = np.arange(t_min, t_max, dt) * u.s\n",
    "\n",
    "xs = interactions.ElectronScatter().cross_section(Flavor.nu_e, Enu).to(u.m**2).value\n",
    "lep = interactions.ElectronScatter().mean_lepton_energy(Flavor.nu_e, Enu).to(u.m**2 * u.MeV).value\n",
    "cut = (lep > 0) & (xs > 0)\n",
    "quan = lep[cut]/xs[cut]\n",
    "fig, ax = plt.subplots(1,1, figsize=(9,6))\n",
    "ax.plot( Enu[cut], quan);\n",
    "ax.grid()\n",
    "ymin = np.min( quan )\n",
    "ymax = np.max( quan )        \n",
    "ax.set( ylim=(ymin/2, ymax*2) );\n"
   ]
  },
  {
   "cell_type": "code",
   "execution_count": null,
   "metadata": {},
   "outputs": [],
   "source": [
    "\n",
    "from enum import Enum\n",
    "from asteria import interactions\n",
    "from asteria.neutrino import Flavor\n",
    "\n",
    "class InteractionEnum(Enum):\n",
    "    def __new__(cls, interaction, active):\n",
    "        obj = object.__new__(cls)\n",
    "        obj._value_ = interaction            \n",
    "        \n",
    "        return obj\n",
    "#         else: \n",
    "#             pass\n",
    "\n",
    "# requested = [ interactions.InvBetaPar,\n",
    "#                         interactions.ElectronScatter,\n",
    "#                         interactions.Oxygen16CC, \n",
    "#                         interactions.Oxygen16NC,\n",
    "#                         interactions.Oxygen18 ]\n",
    "\n",
    "class Interactions(InteractionEnum):\n",
    "    \"\"\"Neutrino interactions.\n",
    "\n",
    "    .. data:: InvBetaPar\n",
    "        Parameterized inverse beta decay.\n",
    "\n",
    "    .. data:: InvBetaTab\n",
    "        Tabulated inverse beta decay.\n",
    "\n",
    "    .. data:: ElectronScatter\n",
    "        Elastic neutrino-electron scattering.\n",
    "\n",
    "    .. data:: Oxygen16CC\n",
    "        O16 charged-current interaction.\n",
    "\n",
    "    .. data:: Oxygen16NC\n",
    "        O16 neutral-current interaction\n",
    "\n",
    "    .. data:: Oxygen18\n",
    "        O18 charged-current interaction\n",
    "\n",
    "    \"\"\"    \n",
    "    InvBetaPar      = (interactions.InvBetaPar(), True)\n",
    "    InvBetaTab      = (interactions.InvBetaTab(), False)\n",
    "    ElectronScatter = (interactions.ElectronScatter(), True)\n",
    "    Oxygen16CC      = (interactions.Oxygen16CC(), True)\n",
    "    Oxygen16NC      = (interactions.Oxygen16NC(), True)\n",
    "    Oxygen18        = (interactions.Oxygen18(), True)\n",
    "    \n",
    "    def __init__(self, interaction, active):\n",
    "        self.cross_section      = interaction.cross_section\n",
    "        self.mean_lepton_energy = interaction.mean_lepton_energy\n",
    "\n",
    "    \n",
    "    #     _ignore_ = [ item._name_ for item in self if not item.value[1]]\n",
    "    @property\n",
    "    def is_InvBetaPar(self):\n",
    "        return isinstance(self.value, (interactions.InvBetaPar))\n",
    "\n",
    "    @property\n",
    "    def is_InvBetaTab(self):\n",
    "        return isinstance(self.value, (interactions.InvBetaTab))\n",
    "\n",
    "    @property\n",
    "    def is_ElectronScatter(self):\n",
    "        return isinstance(self.value, (interactions.ElectronScatter))\n",
    "\n",
    "    @property\n",
    "    def is_Oxygen16CC(self):\n",
    "        return isinstance(self.value, (interactions.Oxygen16CC))\n",
    "\n",
    "    @property\n",
    "    def is_Oxygen16NC(self):\n",
    "        return isinstance(self.value, (interactions.Oxygen16NC))\n",
    "\n",
    "    @property\n",
    "    def is_Oxygen18(self):\n",
    "        return isinstance(self.value, (interactions.Oxygen18))\n",
    "    \n",
    "\n",
    "#     print(interaction.value.cross_section(Flavor.nu_e, Enu).to(u.m**2).value)"
   ]
  }
 ],
 "metadata": {
  "kernelspec": {
   "display_name": "Python 3",
   "language": "python",
   "name": "python3"
  },
  "language_info": {
   "codemirror_mode": {
    "name": "ipython",
    "version": 3
   },
   "file_extension": ".py",
   "mimetype": "text/x-python",
   "name": "python",
   "nbconvert_exporter": "python",
   "pygments_lexer": "ipython3",
   "version": "3.7.1"
  }
 },
 "nbformat": 4,
 "nbformat_minor": 2
}
