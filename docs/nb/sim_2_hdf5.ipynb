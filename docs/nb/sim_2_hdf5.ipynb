{
 "cells": [
  {
   "cell_type": "code",
   "execution_count": 1,
   "metadata": {},
   "outputs": [],
   "source": [
    "%matplotlib inline\n",
    "\n",
    "from asteria import config, source\n",
    "from asteria.neutrino import Flavor\n",
    "\n",
    "\n",
    "import astropy.units as u\n",
    "\n",
    "import numpy as np\n",
    "import matplotlib as mpl\n",
    "import matplotlib.pyplot as plt\n",
    "\n",
    "import os\n",
    "import sys\n",
    "import tables\n",
    "import pickle"
   ]
  },
  {
   "cell_type": "code",
   "execution_count": 2,
   "metadata": {},
   "outputs": [],
   "source": [
    "conf = config.load_config('../../data/config/test.yaml')\n",
    "ccsn = source.initialize(conf)"
   ]
  },
  {
   "cell_type": "code",
   "execution_count": 3,
   "metadata": {},
   "outputs": [],
   "source": [
    "# Define neutrino energy spectrum\n",
    "E_min = 0.1; E_max = 100.1; dE = 0.1;\n",
    "Enu = np.arange(E_min, E_max, dE) * u.MeV\n",
    "\n",
    "# Define post-bounce times at which to evaluate\n",
    "t_min = -1; t_max = 15; dt = 0.0001;\n",
    "time = np.arange(t_min, t_max, dt) * u.s"
   ]
  },
  {
   "cell_type": "code",
   "execution_count": 127,
   "metadata": {},
   "outputs": [],
   "source": [
    "class Binning(tables.IsDescription):\n",
    "    start  = tables.Float64Col()   \n",
    "    stop   = tables.Float64Col() \n",
    "    step   = tables.Float64Col()\n",
    "    nSteps = tables.Int64Col()\n",
    "    \n",
    "class Flavors(tables.IsDescription):\n",
    "    nu_e     = tables.BoolCol(dflt=False)\n",
    "    nu_e_bar = tables.BoolCol(dflt=False)\n",
    "    nu_x     = tables.BoolCol(dflt=False)\n",
    "    nu_x_bar = tables.BoolCol(dflt=False)\n",
    "\n",
    "class Interactions(tables.IsDescription):\n",
    "    InvBetaTab      = tables.BoolCol(dflt=False)\n",
    "    InvBetaPar      = tables.BoolCol(dflt=False)\n",
    "    ElectronScatter = tables.BoolCol(dflt=False)\n",
    "    Oxygen16CC      = tables.BoolCol(dflt=False)\n",
    "    Oxygen16NC      = tables.BoolCol(dflt=False)\n",
    "    Oxygen18        = tables.BoolCol(dflt=False)\n",
    "\n",
    "class Configuration(tables.IsDescription):\n",
    "    flavors      = Flavors()\n",
    "    interactions = Interactions()"
   ]
  },
  {
   "cell_type": "markdown",
   "metadata": {},
   "source": [
    "1) Get path form configs, then alter `config.py` with new variable data for hdfs path"
   ]
  },
  {
   "cell_type": "markdown",
   "metadata": {},
   "source": [
    "## Writing `h5` File from Scratch"
   ]
  },
  {
   "cell_type": "code",
   "execution_count": 130,
   "metadata": {},
   "outputs": [
    {
     "name": "stdout",
     "output_type": "stream",
     "text": [
      "/data/ASTERIA/data/processed/test.h5 (File) 'Generated from ASTERIA configuration file: test.yaml'\n",
      "Last modif.: 'Tue Mar 26 18:52:07 2019'\n",
      "Object Tree: \n",
      "/ (RootGroup) 'Generated from ASTERIA configuration file: test.yaml'\n",
      "/E_per_V (Group) 'ASTERIA output: Photonic energy per ice volume [MeV / m^3]'\n",
      "/E_per_V/nu_e (VLArray(1,)) 'Flavor: nu_e'\n",
      "/E_per_V/nu_e_bar (VLArray(1,)) 'Flavor: nu_e_bar'\n",
      "/E_per_V/nu_x (VLArray(1,)) 'Flavor: nu_x'\n",
      "/E_per_V/nu_x_bar (VLArray(1,)) 'Flavor: nu_x_bar'\n",
      "/config (Group) 'Requested Simulation configuration'\n",
      "/config/Enu (Table(1,)) 'Neutrino spectrum energy binning [MeV]'\n",
      "/config/Flavors (Table(1,)) 'Requested Neutrino Flavors'\n",
      "/config/Interactions (Table(1,)) 'Requested Neutrino Interactions'\n",
      "/config/Time (Table(1,)) 'Signature time binning [s]'\n",
      "\n"
     ]
    }
   ],
   "source": [
    "try:\n",
    "    h5file.close()\n",
    "except NameError:\n",
    "    print( \"h5 File not open yet\")\n",
    "    \n",
    "finally:\n",
    "    ofile = '/'.join([conf.abs_base_path, 'processed/test.h5'])\n",
    "    h5file = tables.open_file( filename=ofile, mode='w', title='Generated from ASTERIA configuration file: test.yaml' )\n",
    "\n",
    "\n",
    "group_config = h5file.create_group('/', 'config',\n",
    "                                   'Requested Simulation configuration' )\n",
    "table_tbins = h5file.create_table(group_config, 'Time',\n",
    "                                  Binning, 'Signature time binning [s]' )\n",
    "table_Ebins = h5file.create_table(group_config, 'Enu',\n",
    "                                  Binning, 'Neutrino spectrum energy binning [MeV]' )  \n",
    "table_Flavors = h5file.create_table(group_config, 'Flavors',\n",
    "                                    Flavors, 'Requested Neutrino Flavors' )\n",
    "table_Interactions = h5file.create_table(group_config, 'Interactions',\n",
    "                                         Interactions, 'Requested Neutrino Interactions' )\n",
    " \n",
    "nu = table_Flavors.row\n",
    "for flavor in Flavor:\n",
    "    nu[ flavor.name ] = True\n",
    "nu.append()\n",
    "table_Flavors.flush()\n",
    "\n",
    "interactions = table_Interactions.row\n",
    "interactions['InvBetaPar'] = True\n",
    "interactions['ElectronScatter'] = True\n",
    "interactions['Oxygen16CC'] = True\n",
    "interactions['Oxygen16NC'] = True\n",
    "interactions['Oxygen18'] = True\n",
    "interactions.append()\n",
    "table_Interactions.flush()\n",
    "\n",
    "tBins = table_tbins.row\n",
    "tBins['step']   = dt\n",
    "tBins['start']  = t_min\n",
    "tBins['stop']   = t_max\n",
    "tBins['nSteps'] = time.size\n",
    "tBins.append()\n",
    "table_tbins.flush()\n",
    "\n",
    "eBins = table_Ebins.row\n",
    "eBins['start']  = E_min\n",
    "eBins['stop']   = E_max\n",
    "eBins['step']   = dE\n",
    "eBins['nSteps'] = Enu.size\n",
    "eBins.append()\n",
    "table_Ebins.flush()\n",
    "\n",
    "data = h5file.create_group(\"/\", 'E_per_V', \n",
    "                           'ASTERIA output: Photonic energy per ice volume [MeV / m^3]')\n",
    "for flavor in Flavor:\n",
    "    vlarray_flavor = h5file.create_vlarray(data, flavor.name,\n",
    "                                           tables.Float64Atom(shape=()),\n",
    "                                           'Flavor: '+flavor.name )\n",
    "    vlarray_flavor.append( np.ones( 4 ))\n",
    "\n",
    "print(h5file)\n",
    "h5file.close()"
   ]
  },
  {
   "cell_type": "markdown",
   "metadata": {},
   "source": [
    "## Appending to existing `h5` File."
   ]
  },
  {
   "cell_type": "code",
   "execution_count": 131,
   "metadata": {},
   "outputs": [
    {
     "name": "stdout",
     "output_type": "stream",
     "text": [
      "/data/ASTERIA/data/processed/test.h5 (File) 'Generated from ASTERIA configuration file: test.yaml'\n",
      "Last modif.: 'Tue Mar 26 18:52:10 2019'\n",
      "Object Tree: \n",
      "/ (RootGroup) 'Generated from ASTERIA configuration file: test.yaml'\n",
      "/E_per_V (Group) 'ASTERIA output: Photonic energy per ice volume [MeV / m^3]'\n",
      "/E_per_V/nu_e (VLArray(2,)) 'Flavor: nu_e'\n",
      "/E_per_V/nu_e_bar (VLArray(2,)) 'Flavor: nu_e_bar'\n",
      "/E_per_V/nu_x (VLArray(2,)) 'Flavor: nu_x'\n",
      "/E_per_V/nu_x_bar (VLArray(2,)) 'Flavor: nu_x_bar'\n",
      "/config (Group) 'Requested Simulation configuration'\n",
      "/config/Enu (Table(2,)) 'Neutrino spectrum energy binning [MeV]'\n",
      "/config/Flavors (Table(2,)) 'Requested Neutrino Flavors'\n",
      "/config/Interactions (Table(2,)) 'Requested Neutrino Interactions'\n",
      "/config/Time (Table(2,)) 'Signature time binning [s]'\n",
      "\n"
     ]
    }
   ],
   "source": [
    "try:\n",
    "    h5file.close()\n",
    "except NameError:\n",
    "    print( \"h5 File not open yet\")    \n",
    "finally:\n",
    "    h5file = tables.open_file( filename=ofile, mode='a' )\n",
    "\n",
    "\n",
    "table_Flavors = h5file.root.config.Flavors\n",
    "nu = table_Flavors.row\n",
    "for flavor in Flavor:\n",
    "    nu[ flavor.name ] = True\n",
    "    break\n",
    "nu.append()\n",
    "table_Flavors.flush()\n",
    "\n",
    "\n",
    "table_Interactions = h5file.root.config.Interactions\n",
    "interactions = table_Interactions.row\n",
    "interactions['InvBetaTab'] = True\n",
    "interactions.append()\n",
    "table_Interactions.flush()\n",
    "\n",
    "table_tbins = h5file.root.config.Time\n",
    "tBins = table_tbins.row\n",
    "tBins['step']   = dt\n",
    "tBins['start']  = t_min\n",
    "tBins['stop']   = t_max - 1\n",
    "tBins['nSteps'] = time.size\n",
    "tBins.append()\n",
    "table_tbins.flush()\n",
    "\n",
    "table_Ebins = h5file.root.config.Enu\n",
    "eBins = table_Ebins.row\n",
    "eBins['start']  = E_min + 1\n",
    "eBins['stop']   = E_max\n",
    "eBins['step']   = dE\n",
    "eBins['nSteps'] = Enu.size\n",
    "eBins.append()\n",
    "table_Ebins.flush()\n",
    "\n",
    "for flavor in Flavor:  \n",
    "    vlarray = h5file.root.E_per_V[ flavor.name ]\n",
    "    vlarray.append( np.ones(3) )\n",
    "\n",
    "    \n",
    "print(  h5file )\n",
    "h5file.close()"
   ]
  },
  {
   "cell_type": "markdown",
   "metadata": {},
   "source": [
    "## Searching for matching criteria from `h5` file.\n",
    "\n",
    "Potential problem with time binning, could lead to inefficient I/O if the file is large enough. My main concern is the time binning.\n",
    "\n",
    "Pass dictionaries for io variables to speed things along (For the user)."
   ]
  },
  {
   "cell_type": "code",
   "execution_count": 176,
   "metadata": {},
   "outputs": [
    {
     "name": "stdout",
     "output_type": "stream",
     "text": [
      "Rows that pass the Time cuts: [1]\n",
      "Rows that pass the Enu cuts: [1]\n",
      "Rows that pass the flavor cuts: [0, 1]\n",
      "Rows that pass the Interactions cuts: [1]\n",
      "Rows that pass all cuts: [1]\n"
     ]
    }
   ],
   "source": [
    "try: \n",
    "    h5file.close()\n",
    "except NameError:\n",
    "    print( \"h5 File not open yet\")    \n",
    "finally:\n",
    "    h5file = tables.open_file( filename=ofile, mode='r' )\n",
    "\n",
    "    table_Time = h5file.root.config.Time\n",
    "table_Enu  = h5file.root.config.Enu\n",
    "table_Flavors = h5file.root.config.Flavors\n",
    "table_Interactions = h5file.root.config.Interactions\n",
    "\n",
    "\n",
    "\n",
    "pass_Time = [ row.nrow for row in table_Time.where('stop == 14') ]\n",
    "pass_Enu  = [ row.nrow for row in table_Enu.where('start == 1.1') ]\n",
    "pass_Flavors = [ row.nrow for row in table_Flavors.where('nu_e') ]\n",
    "pass_Interactions = [ row.nrow for row in table_Interactions.where('InvBetaTab') ]\n",
    "pass_all = list( set(pass_Time).intersection( pass_Enu, pass_Flavors, pass_Interactions) )\n",
    "\n",
    "\n",
    "print(\"Rows that pass the Time cuts:\", pass_Time)\n",
    "print(\"Rows that pass the Enu cuts:\", pass_Enu)\n",
    "print(\"Rows that pass the flavor cuts:\", pass_Flavors)\n",
    "print(\"Rows that pass the Interactions cuts:\", pass_Interactions)\n",
    "print(\"Rows that pass all cuts:\", pass_all)"
   ]
  },
  {
   "cell_type": "code",
   "execution_count": 69,
   "metadata": {},
   "outputs": [
    {
     "name": "stdout",
     "output_type": "stream",
     "text": [
      "56\n",
      "<class 'scipy.interpolate.fitpack2.InterpolatedUnivariateSpline'>\n"
     ]
    }
   ],
   "source": [
    "# a = np.array([0], dtype=float )\n",
    "a = ccsn.luminosity[Flavor.nu_e]\n",
    "print( sys.getsizeof( a ) )\n",
    "print( type(a) )"
   ]
  },
  {
   "cell_type": "code",
   "execution_count": 13,
   "metadata": {},
   "outputs": [
    {
     "name": "stdout",
     "output_type": "stream",
     "text": [
      "5.606984 MB\n"
     ]
    }
   ],
   "source": [
    "total_size = 0\n",
    "for flavor in Flavor:\n",
    "    total_size += sys.getsizeof(pickle.dumps(ccsn.pinch[flavor]))\n",
    "    total_size += sys.getsizeof(pickle.dumps(ccsn.luminosity[flavor]))\n",
    "    total_size += sys.getsizeof(pickle.dumps(ccsn.mean_energy[flavor]))\n",
    "print( '{0} MB'.format( total_size/1e6 ) )"
   ]
  },
  {
   "cell_type": "code",
   "execution_count": 51,
   "metadata": {},
   "outputs": [],
   "source": [
    "\n",
    "from enum import Enum\n",
    "from asteria import interactions\n",
    "from asteria.neutrino import Flavor\n",
    "\n",
    "class InteractionEnum(Enum):\n",
    "    def __new__(cls, interaction, active):\n",
    "        obj = object.__new__(cls)\n",
    "        obj._value_ = interaction            \n",
    "        \n",
    "        return obj\n",
    "#         else: \n",
    "#             pass\n",
    "\n",
    "# requested = [ interactions.InvBetaPar,\n",
    "#                         interactions.ElectronScatter,\n",
    "#                         interactions.Oxygen16CC, \n",
    "#                         interactions.Oxygen16NC,\n",
    "#                         interactions.Oxygen18 ]\n",
    "\n",
    "class Interactions(InteractionEnum):\n",
    "    \"\"\"Neutrino interactions.\n",
    "\n",
    "    .. data:: InvBetaPar\n",
    "        Parameterized inverse beta decay.\n",
    "\n",
    "    .. data:: InvBetaTab\n",
    "        Tabulated inverse beta decay.\n",
    "\n",
    "    .. data:: ElectronScatter\n",
    "        Elastic neutrino-electron scattering.\n",
    "\n",
    "    .. data:: Oxygen16CC\n",
    "        O16 charged-current interaction.\n",
    "\n",
    "    .. data:: Oxygen16NC\n",
    "        O16 neutral-current interaction\n",
    "\n",
    "    .. data:: Oxygen18\n",
    "        O18 charged-current interaction\n",
    "\n",
    "    \"\"\"    \n",
    "    InvBetaPar      = (interactions.InvBetaPar(), True)\n",
    "    InvBetaTab      = (interactions.InvBetaTab(), False)\n",
    "    ElectronScatter = (interactions.ElectronScatter(), True)\n",
    "    Oxygen16CC      = (interactions.Oxygen16CC(), True)\n",
    "    Oxygen16NC      = (interactions.Oxygen16NC(), True)\n",
    "    Oxygen18        = (interactions.Oxygen18(), True)\n",
    "    \n",
    "    def __init__(self, interaction, active):\n",
    "        self.cross_section      = interaction.cross_section\n",
    "        self.mean_lepton_energy = interaction.mean_lepton_energy\n",
    "\n",
    "    def __iter__(self):\n",
    "        \n",
    "    def __next__("
   ]
  },
  {
   "cell_type": "code",
   "execution_count": 53,
   "metadata": {},
   "outputs": [
    {
     "name": "stdout",
     "output_type": "stream",
     "text": [
      "<bound method InvBetaPar.cross_section of <asteria.interactions.InvBetaPar object at 0x7f6effdb3ba8>>\n",
      "<bound method InvBetaTab.cross_section of <asteria.interactions.InvBetaTab object at 0x7f6effdb3eb8>>\n",
      "<bound method ElectronScatter.cross_section of <asteria.interactions.ElectronScatter object at 0x7f6effdb3128>>\n",
      "<bound method Oxygen16CC.cross_section of <asteria.interactions.Oxygen16CC object at 0x7f6effdb3438>>\n",
      "<bound method Oxygen16NC.cross_section of <asteria.interactions.Oxygen16NC object at 0x7f6effdc3978>>\n",
      "<bound method Oxygen18.cross_section of <asteria.interactions.Oxygen18 object at 0x7f6effe43080>>\n"
     ]
    }
   ],
   "source": [
    "\n",
    "for interaction in Interactions:\n",
    "    print( interaction.cross_section )\n",
    "#     print(isinstance( interaction.value[0], interactions.ElectronScatter) )"
   ]
  },
  {
   "cell_type": "code",
   "execution_count": 39,
   "metadata": {},
   "outputs": [
    {
     "data": {
      "text/plain": [
       "'InvBetaTab'"
      ]
     },
     "execution_count": 39,
     "metadata": {},
     "output_type": "execute_result"
    }
   ],
   "source": [
    "interactions.InvBetaTab.__name__\n"
   ]
  },
  {
   "cell_type": "code",
   "execution_count": 118,
   "metadata": {},
   "outputs": [
    {
     "data": {
      "text/plain": [
       "<asteria.interactions.InvBetaPar at 0x7fbff10bb128>"
      ]
     },
     "execution_count": 118,
     "metadata": {},
     "output_type": "execute_result"
    }
   ],
   "source": [
    "interaction.value"
   ]
  },
  {
   "cell_type": "code",
   "execution_count": 3,
   "metadata": {},
   "outputs": [],
   "source": [
    "\n",
    "class Celsius:\n",
    "    def __init__(self, temperature = 0):\n",
    "        self.temperature = temperature\n",
    "\n",
    "    def to_fahrenheit(self):\n",
    "        return (self.temperature * 1.8) + 32\n",
    "\n",
    "    def get_temperature(self):\n",
    "        print(\"Getting value\")\n",
    "        return self._temperature\n",
    "\n",
    "    def set_temperature(self, value):\n",
    "        if value < -273:\n",
    "            raise ValueError(\"Temperature below -273 is not possible\")\n",
    "        print(\"Setting value\")\n",
    "        self._temperature = value\n",
    "\n",
    "    temperature = property(get_temperature,set_temperature)"
   ]
  },
  {
   "cell_type": "code",
   "execution_count": 89,
   "metadata": {},
   "outputs": [
    {
     "data": {
      "text/latex": [
       "$[0,~0,~0,~\\dots,~0,~0,~0] \\; \\mathrm{cm^{2}}$"
      ],
      "text/plain": [
       "<Quantity [0., 0., 0., 0., 0., 0., 0., 0., 0., 0., 0., 0., 0., 0., 0., 0.,\n",
       "           0., 0., 0., 0., 0., 0., 0., 0., 0., 0., 0., 0., 0., 0., 0., 0.,\n",
       "           0., 0., 0., 0., 0., 0., 0., 0., 0., 0., 0., 0., 0., 0., 0., 0.,\n",
       "           0., 0., 0., 0., 0., 0., 0., 0., 0., 0., 0., 0., 0., 0., 0., 0.,\n",
       "           0., 0., 0., 0., 0., 0., 0., 0., 0., 0., 0., 0., 0., 0., 0., 0.,\n",
       "           0., 0., 0., 0., 0., 0., 0., 0., 0., 0., 0., 0., 0., 0., 0., 0.,\n",
       "           0., 0., 0., 0., 0., 0., 0., 0., 0., 0., 0., 0., 0., 0., 0., 0.,\n",
       "           0., 0., 0., 0., 0., 0., 0., 0., 0., 0., 0., 0., 0., 0., 0., 0.,\n",
       "           0., 0., 0., 0., 0., 0., 0., 0., 0., 0., 0., 0., 0., 0., 0., 0.,\n",
       "           0., 0., 0., 0., 0., 0., 0., 0., 0., 0., 0., 0., 0., 0., 0., 0.,\n",
       "           0., 0., 0., 0., 0., 0., 0., 0., 0., 0., 0., 0., 0., 0., 0., 0.,\n",
       "           0., 0., 0., 0., 0., 0., 0., 0., 0., 0., 0., 0., 0., 0., 0., 0.,\n",
       "           0., 0., 0., 0., 0., 0., 0., 0., 0., 0., 0., 0., 0., 0., 0., 0.,\n",
       "           0., 0., 0., 0., 0., 0., 0., 0., 0., 0., 0., 0., 0., 0., 0., 0.,\n",
       "           0., 0., 0., 0., 0., 0., 0., 0., 0., 0., 0., 0., 0., 0., 0., 0.,\n",
       "           0., 0., 0., 0., 0., 0., 0., 0., 0., 0., 0., 0., 0., 0., 0., 0.,\n",
       "           0., 0., 0., 0., 0., 0., 0., 0., 0., 0., 0., 0., 0., 0., 0., 0.,\n",
       "           0., 0., 0., 0., 0., 0., 0., 0., 0., 0., 0., 0., 0., 0., 0., 0.,\n",
       "           0., 0., 0., 0., 0., 0., 0., 0., 0., 0., 0., 0., 0., 0., 0., 0.,\n",
       "           0., 0., 0., 0., 0., 0., 0., 0., 0., 0., 0., 0., 0., 0., 0., 0.,\n",
       "           0., 0., 0., 0., 0., 0., 0., 0., 0., 0., 0., 0., 0., 0., 0., 0.,\n",
       "           0., 0., 0., 0., 0., 0., 0., 0., 0., 0., 0., 0., 0., 0., 0., 0.,\n",
       "           0., 0., 0., 0., 0., 0., 0., 0., 0., 0., 0., 0., 0., 0., 0., 0.,\n",
       "           0., 0., 0., 0., 0., 0., 0., 0., 0., 0., 0., 0., 0., 0., 0., 0.,\n",
       "           0., 0., 0., 0., 0., 0., 0., 0., 0., 0., 0., 0., 0., 0., 0., 0.,\n",
       "           0., 0., 0., 0., 0., 0., 0., 0., 0., 0., 0., 0., 0., 0., 0., 0.,\n",
       "           0., 0., 0., 0., 0., 0., 0., 0., 0., 0., 0., 0., 0., 0., 0., 0.,\n",
       "           0., 0., 0., 0., 0., 0., 0., 0., 0., 0., 0., 0., 0., 0., 0., 0.,\n",
       "           0., 0., 0., 0., 0., 0., 0., 0., 0., 0., 0., 0., 0., 0., 0., 0.,\n",
       "           0., 0., 0., 0., 0., 0., 0., 0., 0., 0., 0., 0., 0., 0., 0., 0.,\n",
       "           0., 0., 0., 0., 0., 0., 0., 0., 0., 0., 0., 0., 0., 0., 0., 0.,\n",
       "           0., 0., 0., 0., 0., 0., 0., 0., 0., 0., 0., 0., 0., 0., 0., 0.,\n",
       "           0., 0., 0., 0., 0., 0., 0., 0., 0., 0., 0., 0., 0., 0., 0., 0.,\n",
       "           0., 0., 0., 0., 0., 0., 0., 0., 0., 0., 0., 0., 0., 0., 0., 0.,\n",
       "           0., 0., 0., 0., 0., 0., 0., 0., 0., 0., 0., 0., 0., 0., 0., 0.,\n",
       "           0., 0., 0., 0., 0., 0., 0., 0., 0., 0., 0., 0., 0., 0., 0., 0.,\n",
       "           0., 0., 0., 0., 0., 0., 0., 0., 0., 0., 0., 0., 0., 0., 0., 0.,\n",
       "           0., 0., 0., 0., 0., 0., 0., 0., 0., 0., 0., 0., 0., 0., 0., 0.,\n",
       "           0., 0., 0., 0., 0., 0., 0., 0., 0., 0., 0., 0., 0., 0., 0., 0.,\n",
       "           0., 0., 0., 0., 0., 0., 0., 0., 0., 0., 0., 0., 0., 0., 0., 0.,\n",
       "           0., 0., 0., 0., 0., 0., 0., 0., 0., 0., 0., 0., 0., 0., 0., 0.,\n",
       "           0., 0., 0., 0., 0., 0., 0., 0., 0., 0., 0., 0., 0., 0., 0., 0.,\n",
       "           0., 0., 0., 0., 0., 0., 0., 0., 0., 0., 0., 0., 0., 0., 0., 0.,\n",
       "           0., 0., 0., 0., 0., 0., 0., 0., 0., 0., 0., 0., 0., 0., 0., 0.,\n",
       "           0., 0., 0., 0., 0., 0., 0., 0., 0., 0., 0., 0., 0., 0., 0., 0.,\n",
       "           0., 0., 0., 0., 0., 0., 0., 0., 0., 0., 0., 0., 0., 0., 0., 0.,\n",
       "           0., 0., 0., 0., 0., 0., 0., 0., 0., 0., 0., 0., 0., 0., 0., 0.,\n",
       "           0., 0., 0., 0., 0., 0., 0., 0., 0., 0., 0., 0., 0., 0., 0., 0.,\n",
       "           0., 0., 0., 0., 0., 0., 0., 0., 0., 0., 0., 0., 0., 0., 0., 0.,\n",
       "           0., 0., 0., 0., 0., 0., 0., 0., 0., 0., 0., 0., 0., 0., 0., 0.,\n",
       "           0., 0., 0., 0., 0., 0., 0., 0., 0., 0., 0., 0., 0., 0., 0., 0.,\n",
       "           0., 0., 0., 0., 0., 0., 0., 0., 0., 0., 0., 0., 0., 0., 0., 0.,\n",
       "           0., 0., 0., 0., 0., 0., 0., 0., 0., 0., 0., 0., 0., 0., 0., 0.,\n",
       "           0., 0., 0., 0., 0., 0., 0., 0., 0., 0., 0., 0., 0., 0., 0., 0.,\n",
       "           0., 0., 0., 0., 0., 0., 0., 0., 0., 0., 0., 0., 0., 0., 0., 0.,\n",
       "           0., 0., 0., 0., 0., 0., 0., 0., 0., 0., 0., 0., 0., 0., 0., 0.,\n",
       "           0., 0., 0., 0., 0., 0., 0., 0., 0., 0., 0., 0., 0., 0., 0., 0.,\n",
       "           0., 0., 0., 0., 0., 0., 0., 0., 0., 0., 0., 0., 0., 0., 0., 0.,\n",
       "           0., 0., 0., 0., 0., 0., 0., 0., 0., 0., 0., 0., 0., 0., 0., 0.,\n",
       "           0., 0., 0., 0., 0., 0., 0., 0., 0., 0., 0., 0., 0., 0., 0., 0.,\n",
       "           0., 0., 0., 0., 0., 0., 0., 0., 0., 0., 0., 0., 0., 0., 0., 0.,\n",
       "           0., 0., 0., 0., 0., 0., 0., 0., 0., 0., 0., 0., 0., 0., 0., 0.,\n",
       "           0., 0., 0., 0., 0., 0., 0., 0.] cm2>"
      ]
     },
     "execution_count": 89,
     "metadata": {},
     "output_type": "execute_result"
    }
   ],
   "source": [
    "interactions.InvBetaPar().cross_section(Flavor.nu_e, Enu)"
   ]
  },
  {
   "cell_type": "code",
   "execution_count": 36,
   "metadata": {},
   "outputs": [
    {
     "data": {
      "image/png": "[encoded data removed]",
      "text/plain": [
       "<Figure size 648x432 with 1 Axes>"
      ]
     },
     "metadata": {},
     "output_type": "display_data"
    }
   ],
   "source": [
    "# Define neutrino energy spectrum\n",
    "E_min = 0.1; E_max = 100.1; dE = 0.1;\n",
    "Enu = np.arange(E_min, E_max, dE) * u.MeV\n",
    "\n",
    "# Define post-bounce times at which to evaluate\n",
    "t_min = -1; t_max = 15; dt = 0.0001;\n",
    "time = np.arange(t_min, t_max, dt) * u.s\n",
    "\n",
    "xs = interactions.ElectronScatter().cross_section(Flavor.nu_e, Enu).to(u.m**2).value\n",
    "lep = interactions.ElectronScatter().mean_lepton_energy(Flavor.nu_e, Enu).to(u.m**2 * u.MeV).value\n",
    "cut = (lep > 0) & (xs > 0)\n",
    "quan = lep[cut]/xs[cut]\n",
    "fig, ax = plt.subplots(1,1, figsize=(9,6))\n",
    "ax.plot( Enu[cut], quan);\n",
    "ax.grid()\n",
    "ymin = np.min( quan )\n",
    "ymax = np.max( quan )        \n",
    "ax.set( ylim=(ymin/2, ymax*2) );\n"
   ]
  },
  {
   "cell_type": "code",
   "execution_count": null,
   "metadata": {},
   "outputs": [],
   "source": [
    "\n",
    "from enum import Enum\n",
    "from asteria import interactions\n",
    "from asteria.neutrino import Flavor\n",
    "\n",
    "class InteractionEnum(Enum):\n",
    "    def __new__(cls, interaction, active):\n",
    "        obj = object.__new__(cls)\n",
    "        obj._value_ = interaction            \n",
    "        \n",
    "        return obj\n",
    "#         else: \n",
    "#             pass\n",
    "\n",
    "# requested = [ interactions.InvBetaPar,\n",
    "#                         interactions.ElectronScatter,\n",
    "#                         interactions.Oxygen16CC, \n",
    "#                         interactions.Oxygen16NC,\n",
    "#                         interactions.Oxygen18 ]\n",
    "\n",
    "class Interactions(InteractionEnum):\n",
    "    \"\"\"Neutrino interactions.\n",
    "\n",
    "    .. data:: InvBetaPar\n",
    "        Parameterized inverse beta decay.\n",
    "\n",
    "    .. data:: InvBetaTab\n",
    "        Tabulated inverse beta decay.\n",
    "\n",
    "    .. data:: ElectronScatter\n",
    "        Elastic neutrino-electron scattering.\n",
    "\n",
    "    .. data:: Oxygen16CC\n",
    "        O16 charged-current interaction.\n",
    "\n",
    "    .. data:: Oxygen16NC\n",
    "        O16 neutral-current interaction\n",
    "\n",
    "    .. data:: Oxygen18\n",
    "        O18 charged-current interaction\n",
    "\n",
    "    \"\"\"    \n",
    "    InvBetaPar      = (interactions.InvBetaPar(), True)\n",
    "    InvBetaTab      = (interactions.InvBetaTab(), False)\n",
    "    ElectronScatter = (interactions.ElectronScatter(), True)\n",
    "    Oxygen16CC      = (interactions.Oxygen16CC(), True)\n",
    "    Oxygen16NC      = (interactions.Oxygen16NC(), True)\n",
    "    Oxygen18        = (interactions.Oxygen18(), True)\n",
    "    \n",
    "    def __init__(self, interaction, active):\n",
    "        self.cross_section      = interaction.cross_section\n",
    "        self.mean_lepton_energy = interaction.mean_lepton_energy\n",
    "\n",
    "    \n",
    "    #     _ignore_ = [ item._name_ for item in self if not item.value[1]]\n",
    "    @property\n",
    "    def is_InvBetaPar(self):\n",
    "        return isinstance(self.value, (interactions.InvBetaPar))\n",
    "\n",
    "    @property\n",
    "    def is_InvBetaTab(self):\n",
    "        return isinstance(self.value, (interactions.InvBetaTab))\n",
    "\n",
    "    @property\n",
    "    def is_ElectronScatter(self):\n",
    "        return isinstance(self.value, (interactions.ElectronScatter))\n",
    "\n",
    "    @property\n",
    "    def is_Oxygen16CC(self):\n",
    "        return isinstance(self.value, (interactions.Oxygen16CC))\n",
    "\n",
    "    @property\n",
    "    def is_Oxygen16NC(self):\n",
    "        return isinstance(self.value, (interactions.Oxygen16NC))\n",
    "\n",
    "    @property\n",
    "    def is_Oxygen18(self):\n",
    "        return isinstance(self.value, (interactions.Oxygen18))\n",
    "    \n",
    "\n",
    "#     print(interaction.value.cross_section(Flavor.nu_e, Enu).to(u.m**2).value)"
   ]
  }
 ],
 "metadata": {
  "kernelspec": {
   "display_name": "Python 3",
   "language": "python",
   "name": "python3"
  },
  "language_info": {
   "codemirror_mode": {
    "name": "ipython",
    "version": 3
   },
   "file_extension": ".py",
   "mimetype": "text/x-python",
   "name": "python",
   "nbconvert_exporter": "python",
   "pygments_lexer": "ipython3",
   "version": "3.6.5"
  }
 },
 "nbformat": 4,
 "nbformat_minor": 2
}
