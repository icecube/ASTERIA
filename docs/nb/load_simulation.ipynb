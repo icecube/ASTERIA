{
 "cells": [
  {
   "cell_type": "code",
   "execution_count": 1,
   "metadata": {},
   "outputs": [],
   "source": [
    "%matplotlib inline\n",
    "\n",
    "from asteria import config, source, IO\n",
    "from asteria.interactions import Interactions\n",
    "from asteria.neutrino import Flavor\n",
    "\n",
    "import astropy.units as u\n",
    "\n",
    "import numpy as np\n",
    "import matplotlib as mpl\n",
    "import matplotlib.pyplot as plt"
   ]
  },
  {
   "cell_type": "markdown",
   "metadata": {},
   "source": [
    "## Set up styles for plotting"
   ]
  },
  {
   "cell_type": "code",
   "execution_count": 2,
   "metadata": {},
   "outputs": [],
   "source": [
    "axes_style =   {            'grid' : 'True',\n",
    "                       'labelsize' : '20',\n",
    "                        'labelpad' : '8.0'}\n",
    "\n",
    "xtick_style =  {       'direction' : 'in',\n",
    "                       'labelsize' : '14.',\n",
    "                      'major.size' : '15.',   \n",
    "                     'major.width' : '1.',\n",
    "                   'minor.visible' : 'True',\n",
    "                      'minor.size' : '7.5',\n",
    "                     'minor.width' : '1.' }\n",
    "\n",
    "ytick_style =  {       'direction' : 'in',\n",
    "                       'labelsize' : '14.',\n",
    "                      'major.size' : '15.',   \n",
    "                     'major.width' : '1.',\n",
    "                   'minor.visible' : 'True',\n",
    "                      'minor.size' : '7.5',\n",
    "                     'minor.width' : '1.' }\n",
    "\n",
    "grid_style =   {           'alpha' : '0.75' }\n",
    "legend_style = {        'fontsize' : '14' }\n",
    "font_syle =    {            'size' : '16' }\n",
    "figure_style = {  'subplot.hspace' : '0.05' }\n",
    "\n",
    "mpl.rc(   'font', **font_syle )\n",
    "mpl.rc(   'axes', **axes_style )\n",
    "mpl.rc(  'xtick', **xtick_style )\n",
    "mpl.rc(  'ytick', **ytick_style )\n",
    "mpl.rc(   'grid', **grid_style )\n",
    "mpl.rc( 'legend', **legend_style )\n",
    "mpl.rc( 'figure', **figure_style )"
   ]
  },
  {
   "cell_type": "markdown",
   "metadata": {},
   "source": [
    "## Load Configuration\n",
    "\n",
    "This will load the source configuration from a file.\n",
    "\n",
    "For this to work, either the user needs to have done one of two things:\n",
    "1. Run `python setup.py install` in the ASTERIA directory.\n",
    "2. Run `python setup.py develop` and set the environment variable `ASTERIA` to point to the git source checkout.\n",
    "\n",
    "If these were not done, the initialization will fail because the paths will not be correctly resolved."
   ]
  },
  {
   "cell_type": "code",
   "execution_count": 3,
   "metadata": {},
   "outputs": [],
   "source": [
    "conf = config.load_config('../../data/config/test.yaml')\n",
    "ccsn = source.initialize(conf)"
   ]
  },
  {
   "cell_type": "markdown",
   "metadata": {},
   "source": [
    "## Prepare Iterables\n",
    "\n",
    "Define the range of neutrino energies (`Enu`) to simulate and the times (`time`) at which to perform the simulation. "
   ]
  },
  {
   "cell_type": "code",
   "execution_count": 4,
   "metadata": {},
   "outputs": [],
   "source": [
    "# Define neutrino energy spectrum\n",
    "E_min = 0.1; E_max = 100.1; dE = 0.1;\n",
    "Enu = np.arange(E_min, E_max, dE) * u.MeV\n",
    "\n",
    "# Define post-bounce times at which to evaluate\n",
    "t_min = -1; t_max = 15; dt = 0.0001;\n",
    "time = np.arange(t_min, t_max, dt) * u.s"
   ]
  },
  {
   "cell_type": "markdown",
   "metadata": {},
   "source": [
    "## Load Simulation and Compute Signal per DOM\n",
    "\n",
    "Import a simulation from the file `\\data\\processed\\sukhbold-SFHo-z9.6.h5` using `IO.load()`. It is assumed that this file has already been generated$^*$. This file is specific to the model and its path is stored in the `conf` object. The parameters are as follows...\n",
    "\n",
    "- `Interactions` The enumeration of the neutrino interactions used to perform the simulation\n",
    "- `Flavor` The enumeration of the neutrino flavors used to perform the simulation\n",
    "- `Enu` The Energy resolution at which cross sections, lepton mean energy, and the source PDFs were binned.\n",
    "- `Time` The Time resolution at which the simulation profile is binned.\n",
    "\n",
    "If no object is found, `None` will be returned.\n",
    "\n",
    "\n",
    "The code to save a simulation to file is as follows...\n",
    "\n",
    "```IO.save(conf, Interactions, Flavor, Enu.value, time.value, result)```\n",
    "\n",
    "Where `result` is the photonic energy deposition in 1 m$^3$ of ice scaled to a progenitor that is 1 kpc away. This is scaled to progenitor distance of the source and the effective volume of a DOM to find the expected signal increase for a single DOM.\n",
    "\n",
    "\n",
    "$^*$__NOTE (04/29/19)__: This simulation was saved in `\\docs\\nb\\detector_response.ipynb`. The simulation is not performed here to redeuce the scope of this notebook. If `\\data\\processed\\sukhbold-SFHo-z9.6.h5` has not been generated, run the notebook mentioned above."
   ]
  },
  {
   "cell_type": "code",
   "execution_count": 5,
   "metadata": {
    "scrolled": true
   },
   "outputs": [],
   "source": [
    "effvol = 0.1654 * u.m**3 / u.MeV\n",
    "\n",
    "E_per_V = IO.load(conf, Interactions, Flavor, Enu.value, time.value) * u.MeV / u.m**3\n",
    "E_per_V /= ccsn.progenitor_distance.to(u.kpc).value**2\n",
    "signal_per_DOM = effvol * E_per_V "
   ]
  },
  {
   "cell_type": "markdown",
   "metadata": {},
   "source": [
    "## Plot Signal Increase Per DOM"
   ]
  },
  {
   "cell_type": "code",
   "execution_count": 6,
   "metadata": {},
   "outputs": [
    {
     "data": {
      "image/png": "[encoded data removed]",
      "text/plain": [
       "<Figure size 648x432 with 1 Axes>"
      ]
     },
     "metadata": {},
     "output_type": "display_data"
    }
   ],
   "source": [
    "fig, ax = plt.subplots(1,1, figsize=(9,6))\n",
    "\n",
    "for nu, flavor in enumerate(Flavor):\n",
    "    ax.step( time, signal_per_DOM[nu], label=flavor.to_tex(), linewidth=2)\n",
    "    \n",
    "ax.set_ylabel( 'Signal per DOM', horizontalalignment='right', y = 1)\n",
    "ax.set_xlabel( 't -t$_{bounce}$ [s]', horizontalalignment='right', x = 1)\n",
    "ax.set(title = 'Detector Response', \n",
    "       xlim = [-0.25, 1.25] )\n",
    "ax.legend();"
   ]
  },
  {
   "cell_type": "code",
   "execution_count": null,
   "metadata": {},
   "outputs": [],
   "source": []
  }
 ],
 "metadata": {
  "kernelspec": {
   "display_name": "Python 3",
   "language": "python",
   "name": "python3"
  },
  "language_info": {
   "codemirror_mode": {
    "name": "ipython",
    "version": 3
   },
   "file_extension": ".py",
   "mimetype": "text/x-python",
   "name": "python",
   "nbconvert_exporter": "python",
   "pygments_lexer": "ipython3",
   "version": "3.6.5"
  }
 },
 "nbformat": 4,
 "nbformat_minor": 2
}
