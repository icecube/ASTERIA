{
 "cells": [
  {
   "cell_type": "markdown",
   "metadata": {},
   "source": [
    "# Neutrino Cross Sections\n",
    "\n",
    "Plot the cross sections for the key in-ice interactions for ~10 MeV neutrinos in IceCube."
   ]
  },
  {
   "cell_type": "code",
   "execution_count": 1,
   "metadata": {},
   "outputs": [],
   "source": [
    "%matplotlib inline\n",
    "\n",
    "from ussr import interactions\n",
    "from ussr.neutrino import Flavor\n",
    "\n",
    "import astropy.units as u\n",
    "\n",
    "import numpy as np\n",
    "import matplotlib as mpl\n",
    "import matplotlib.pyplot as plt\n",
    "\n",
    "from itertools import cycle\n",
    "\n",
    "mpl.rc('font', size=16)"
   ]
  },
  {
   "cell_type": "markdown",
   "metadata": {},
   "source": [
    "## Neutrino Interactions\n",
    "\n",
    "There are several important neutrino interactions to consider:\n",
    "\n",
    "1. Inverse beta decay: $\\bar{\\nu}_e+p \\rightarrow e^{+} + n$.\n",
    "2. Elastic neutrino scattering: $\\nu_e + e^{-} \\rightarrow \\nu_e + e^{-}$ (plus antineutrino, plus $\\mu$ and $\\tau$).\n",
    "3. Oxygen-16 charged-current interaction: $\\nu_e + ^{16}\\mathrm{O}\\rightarrow e^{-} + \\mathrm{X}$ (plus antineutrino).\n",
    "4. Oxygen-16 neutral-current interaction: $\\nu_\\mathrm{all} + ^{16}\\mathrm{O} \\rightarrow \\nu_\\mathrm{all} + \\mathrm{X}$.\n",
    "5. Oxygen-18 interactions: $\\nu_e + ^{17/18}\\mathrm{O} / ^{2}_{1}\\mathrm{H} \\rightarrow e^{-} + \\mathrm{X}$.\n",
    "\n",
    "For details, see [R. Abbasi et al., A&A 535:A109, 2011](http://dx.doi.org/10.1051/0004-6361/201117810)."
   ]
  },
  {
   "cell_type": "code",
   "execution_count": 2,
   "metadata": {},
   "outputs": [],
   "source": [
    "sn_interactions = [interactions.InvBetaTab(),\n",
    "                   interactions.ElectronScatter(),\n",
    "                   interactions.Oxygen16CC(),\n",
    "                   interactions.Oxygen16NC(),\n",
    "                   interactions.Oxygen18()]\n",
    "\n",
    "lines = [\"-\", \"--\", \"-.\", \":\"]\n",
    "flavors = [Flavor.nu_e, Flavor.nu_x, Flavor.nu_e_bar]"
   ]
  },
  {
   "cell_type": "code",
   "execution_count": 3,
   "metadata": {},
   "outputs": [
    {
     "ename": "TypeError",
     "evalue": "argument of type 'Flavor' is not iterable",
     "output_type": "error",
     "traceback": [
      "\u001b[0;31m---------------------------------------------------------------------------\u001b[0m",
      "\u001b[0;31mTypeError\u001b[0m                                 Traceback (most recent call last)",
      "\u001b[0;32m<ipython-input-3-db65c0781dcb>\u001b[0m in \u001b[0;36m<module>\u001b[0;34m()\u001b[0m\n\u001b[1;32m      7\u001b[0m     \u001b[0mline\u001b[0m \u001b[0;34m=\u001b[0m \u001b[0mcycle\u001b[0m\u001b[0;34m(\u001b[0m\u001b[0mlines\u001b[0m\u001b[0;34m)\u001b[0m\u001b[0;34m\u001b[0m\u001b[0;34m\u001b[0m\u001b[0m\n\u001b[1;32m      8\u001b[0m     \u001b[0;32mfor\u001b[0m \u001b[0mflavor\u001b[0m \u001b[0;32min\u001b[0m \u001b[0mflavors\u001b[0m\u001b[0;34m:\u001b[0m\u001b[0;34m\u001b[0m\u001b[0;34m\u001b[0m\u001b[0m\n\u001b[0;32m----> 9\u001b[0;31m         \u001b[0mxs\u001b[0m \u001b[0;34m=\u001b[0m \u001b[0minteraction\u001b[0m\u001b[0;34m.\u001b[0m\u001b[0mcross_section\u001b[0m\u001b[0;34m(\u001b[0m\u001b[0mflavor\u001b[0m\u001b[0;34m,\u001b[0m \u001b[0me_nu\u001b[0m\u001b[0;34m)\u001b[0m\u001b[0;34m\u001b[0m\u001b[0;34m\u001b[0m\u001b[0m\n\u001b[0m\u001b[1;32m     10\u001b[0m         \u001b[0;32mif\u001b[0m \u001b[0mxs\u001b[0m\u001b[0;34m.\u001b[0m\u001b[0mvalue\u001b[0m\u001b[0;34m.\u001b[0m\u001b[0many\u001b[0m\u001b[0;34m(\u001b[0m\u001b[0;34m)\u001b[0m\u001b[0;34m:\u001b[0m\u001b[0;34m\u001b[0m\u001b[0;34m\u001b[0m\u001b[0m\n\u001b[1;32m     11\u001b[0m             \u001b[0mlabel\u001b[0m\u001b[0;34m=\u001b[0m\u001b[0;34m'{}: {}'\u001b[0m\u001b[0;34m.\u001b[0m\u001b[0mformat\u001b[0m\u001b[0;34m(\u001b[0m\u001b[0minteraction\u001b[0m\u001b[0;34m.\u001b[0m\u001b[0m__class__\u001b[0m\u001b[0;34m.\u001b[0m\u001b[0m__name__\u001b[0m\u001b[0;34m,\u001b[0m \u001b[0mflavor\u001b[0m\u001b[0;34m.\u001b[0m\u001b[0mto_tex\u001b[0m\u001b[0;34m(\u001b[0m\u001b[0;34m)\u001b[0m\u001b[0;34m)\u001b[0m\u001b[0;34m\u001b[0m\u001b[0;34m\u001b[0m\u001b[0m\n",
      "\u001b[0;32m~/Analysis/lib/python3.6/site-packages/ussr-0.1.0.dev71-py3.6.egg/ussr/interactions.py\u001b[0m in \u001b[0;36mcross_section\u001b[0;34m(self, flavor, e_nu)\u001b[0m\n\u001b[1;32m    292\u001b[0m             \u001b[0mepsilons\u001b[0m\u001b[0;34m[\u001b[0m\u001b[0;36m1\u001b[0m\u001b[0;34m]\u001b[0m \u001b[0;34m=\u001b[0m  \u001b[0;36m0.5\u001b[0m \u001b[0;34m-\u001b[0m \u001b[0mself\u001b[0m\u001b[0;34m.\u001b[0m\u001b[0msinw2\u001b[0m\u001b[0;34m\u001b[0m\u001b[0;34m\u001b[0m\u001b[0m\n\u001b[1;32m    293\u001b[0m \u001b[0;34m\u001b[0m\u001b[0m\n\u001b[0;32m--> 294\u001b[0;31m         \u001b[0;32mif\u001b[0m \u001b[0mflavor\u001b[0m\u001b[0;34m.\u001b[0m\u001b[0mis_neutrino\u001b[0m\u001b[0;34m:\u001b[0m\u001b[0;34m\u001b[0m\u001b[0;34m\u001b[0m\u001b[0m\n\u001b[0m\u001b[1;32m    295\u001b[0m             \u001b[0mepsilon_p\u001b[0m\u001b[0;34m,\u001b[0m \u001b[0mepsilon_m\u001b[0m \u001b[0;34m=\u001b[0m \u001b[0mepsilons\u001b[0m\u001b[0;34m\u001b[0m\u001b[0;34m\u001b[0m\u001b[0m\n\u001b[1;32m    296\u001b[0m         \u001b[0;32melse\u001b[0m\u001b[0;34m:\u001b[0m\u001b[0;34m\u001b[0m\u001b[0;34m\u001b[0m\u001b[0m\n",
      "\u001b[0;32m~/Analysis/lib/python3.6/site-packages/ussr-0.1.0.dev71-py3.6.egg/ussr/neutrino.py\u001b[0m in \u001b[0;36mis_neutrino\u001b[0;34m(self)\u001b[0m\n\u001b[1;32m     47\u001b[0m     \u001b[0;34m@\u001b[0m\u001b[0mproperty\u001b[0m\u001b[0;34m\u001b[0m\u001b[0;34m\u001b[0m\u001b[0m\n\u001b[1;32m     48\u001b[0m     \u001b[0;32mdef\u001b[0m \u001b[0mis_neutrino\u001b[0m\u001b[0;34m(\u001b[0m\u001b[0mself\u001b[0m\u001b[0;34m)\u001b[0m\u001b[0;34m:\u001b[0m\u001b[0;34m\u001b[0m\u001b[0;34m\u001b[0m\u001b[0m\n\u001b[0;32m---> 49\u001b[0;31m         \u001b[0;32mreturn\u001b[0m \u001b[0mself\u001b[0m \u001b[0;32min\u001b[0m \u001b[0;34m(\u001b[0m\u001b[0mFlavor\u001b[0m\u001b[0;34m.\u001b[0m\u001b[0mnu_e\u001b[0m\u001b[0;34m)\u001b[0m\u001b[0;34m\u001b[0m\u001b[0;34m\u001b[0m\u001b[0m\n\u001b[0m\u001b[1;32m     50\u001b[0m \u001b[0;34m\u001b[0m\u001b[0m\n\u001b[1;32m     51\u001b[0m     \u001b[0;34m@\u001b[0m\u001b[0mproperty\u001b[0m\u001b[0;34m\u001b[0m\u001b[0;34m\u001b[0m\u001b[0m\n",
      "\u001b[0;31mTypeError\u001b[0m: argument of type 'Flavor' is not iterable"
     ]
    },
    {
     "data": {
      "image/png": "[encoded data removed]",
      "text/plain": [
       "<Figure size 864x360 with 1 Axes>"
      ]
     },
     "metadata": {},
     "output_type": "display_data"
    }
   ],
   "source": [
    "e_nu = np.linspace(0.1, 100., 501) * u.MeV\n",
    "\n",
    "fig, ax = plt.subplots(1,1, figsize=(12,5))\n",
    "\n",
    "for interaction in sn_interactions:\n",
    "    color = None\n",
    "    line = cycle(lines)\n",
    "    for flavor in flavors:\n",
    "        xs = interaction.cross_section(flavor, e_nu)\n",
    "        if xs.value.any():\n",
    "            label='{}: {}'.format(interaction.__class__.__name__, flavor.to_tex())\n",
    "            if color is None:\n",
    "                p = ax.plot(e_nu, xs, next(line), label=label)\n",
    "                color = p[0].get_color()\n",
    "            else:\n",
    "                ax.plot(e_nu, xs, next(line), label=label, color=color)\n",
    "\n",
    "ax.grid()\n",
    "ax.set(xlim=[0,100],\n",
    "       xlabel=r'$E_\\nu$ [MeV]',\n",
    "       ylim=[1e-45, 1e-38],\n",
    "       ylabel=r'$\\sigma$ [cm$^2$]',\n",
    "       yscale='log',\n",
    "       title=r'Primary SN $\\nu$ Interaction Cross Sections')\n",
    "\n",
    "ax.legend(fontsize=8, bbox_to_anchor=(1.05,1))\n",
    "\n",
    "fig.subplots_adjust(left=0.075, right=0.8)"
   ]
  },
  {
   "cell_type": "code",
   "execution_count": null,
   "metadata": {},
   "outputs": [],
   "source": []
  }
 ],
 "metadata": {
  "kernelspec": {
   "display_name": "Python 3",
   "language": "python",
   "name": "python3"
  },
  "language_info": {
   "codemirror_mode": {
    "name": "ipython",
    "version": 3
   },
   "file_extension": ".py",
   "mimetype": "text/x-python",
   "name": "python",
   "nbconvert_exporter": "python",
   "pygments_lexer": "ipython3",
   "version": "3.6.5"
  }
 },
 "nbformat": 4,
 "nbformat_minor": 2
}
