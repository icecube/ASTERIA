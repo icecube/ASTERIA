{
 "cells": [
  {
   "cell_type": "code",
   "execution_count": 1,
   "metadata": {},
   "outputs": [],
   "source": [
    "%matplotlib inline\n",
    "\n",
    "from asteria import config, source, IO\n",
    "from asteria.interactions import Interactions\n",
    "from asteria.neutrino import Flavor\n",
    "from asteria.config import parse_quantity\n",
    "import astropy.units as u\n",
    "\n",
    "import numpy as np\n",
    "import matplotlib as mpl\n",
    "import matplotlib.pyplot as plt"
   ]
  },
  {
   "cell_type": "markdown",
   "metadata": {},
   "source": [
    "## Set up styles for plotting"
   ]
  },
  {
   "cell_type": "code",
   "execution_count": 2,
   "metadata": {},
   "outputs": [],
   "source": [
    "axes_style =   {            'grid' : 'True',\n",
    "                       'labelsize' : '24',\n",
    "                        'labelpad' : '8.0' }\n",
    "\n",
    "xtick_style =  {       'direction' : 'out',\n",
    "                       'labelsize' : '20.',\n",
    "                      'major.size' : '5.',   \n",
    "                     'major.width' : '1.',\n",
    "                   'minor.visible' : 'True',\n",
    "                      'minor.size' : '2.5',\n",
    "                     'minor.width' : '1.' }\n",
    "\n",
    "ytick_style =  {       'direction' : 'out',\n",
    "                       'labelsize' : '20.',\n",
    "                      'major.size' : '5',   \n",
    "                     'major.width' : '1.',\n",
    "                   'minor.visible' : 'True',\n",
    "                      'minor.size' : '2.5',\n",
    "                     'minor.width' : '1.' }\n",
    "\n",
    "grid_style =   {           'alpha' : '0.75' }\n",
    "legend_style = {        'fontsize' : '18' }\n",
    "font_syle =    {            'size' : '20'}\n",
    "text_style =   {          'usetex' : 'True' }\n",
    "figure_style = {  'subplot.hspace' : '0.05' }\n",
    "\n",
    "mpl.rc(    'font', **font_syle )\n",
    "mpl.rc(    'text', **text_style )\n",
    "mpl.rc(    'axes', **axes_style )\n",
    "mpl.rc(   'xtick', **xtick_style )\n",
    "mpl.rc(   'ytick', **ytick_style )\n",
    "mpl.rc(    'grid', **grid_style )\n",
    "mpl.rc(  'legend', **legend_style )\n",
    "mpl.rc(  'figure', **figure_style )\n",
    "\n",
    "mpl.rcParams['text.usetex'] = True \n",
    "mpl.rcParams['text.latex.preamble'] = [r'\\usepackage[cm]{sfmath}']"
   ]
  },
  {
   "cell_type": "markdown",
   "metadata": {},
   "source": [
    "## Load Configuration\n",
    "\n",
    "This will load the source configuration from a file.\n",
    "\n",
    "For this to work, either the user needs to have done one of two things:\n",
    "1. Run `python setup.py install` in the ASTERIA directory.\n",
    "2. Run `python setup.py develop` and set the environment variable `ASTERIA` to point to the git source checkout.\n",
    "\n",
    "If these were not done, the initialization will fail because the paths will not be correctly resolved."
   ]
  },
  {
   "cell_type": "code",
   "execution_count": 3,
   "metadata": {},
   "outputs": [],
   "source": [
    "conf = config.load_config('../../data/config/default.yaml')\n",
    "ccsn = source.initialize(conf)"
   ]
  },
  {
   "cell_type": "markdown",
   "metadata": {},
   "source": [
    "## Prepare Iterables\n",
    "\n",
    "Read from the configuration, the range of neutrino energies (`Enu`) to simulate and the times (`time`) at which to perform the simulation. Defining the time and energy arrays in this manner (end-point inclusive) aligns with the definition in `asteria.simulationHandler`."
   ]
  },
  {
   "cell_type": "code",
   "execution_count": 4,
   "metadata": {},
   "outputs": [],
   "source": [
    "# Define neutrino energy spectrum\n",
    "E_min = parse_quantity(conf.simulation.energy.min).to(u.MeV).value\n",
    "E_max = parse_quantity(conf.simulation.energy.max).to(u.MeV).value \n",
    "dE = parse_quantity(conf.simulation.energy.step).to(u.MeV).value\n",
    "Enu = np.arange(E_min, E_max+dE, dE) * u.MeV\n",
    "\n",
    "# Define post-bounce times at which to evaluate\n",
    "t_min = parse_quantity(conf.simulation.time.min).to(u.s).value\n",
    "t_max = parse_quantity(conf.simulation.time.max).to(u.s).value \n",
    "dt = parse_quantity(conf.simulation.time.step).to(u.s).value\n",
    "time = np.arange(t_min, t_max+dt, dt) * u.s"
   ]
  },
  {
   "cell_type": "markdown",
   "metadata": {},
   "source": [
    "## Load Simulation and Compute Signal per DOM\n",
    "\n",
    "Import a simulation from the file `\\data\\processed\\nakazato-shen-z0.02-t_rev300ms-s13.0.h5` using `IO.load()`. It is assumed that this file has already been generated$^*$. This file is specific to the model and its path is stored in the `conf` object. The configuration parameters describing the simulation are contained within the `config.simulation` node as follows...\n",
    "\n",
    "- `interactions` The neutrino interactions used to perform the simulation\n",
    "- `flavors` The neutrino flavors used to perform the simulation\n",
    "- `hierarchy` The neutrino mass hierarchy used to perform neutrino oscillations.\n",
    "- `energy` The Energy resolution at which cross sections, lepton mean energy, and the source PDFs were binned.\n",
    "  - Contains 4 nodes `min`, `max`, `step`, and `size`\n",
    "- `time` The Time resolution at which the simulation profile is binned.\n",
    "  - Contains 4 nodes `min`, `max`, `step`, and `size`\n",
    "\n",
    "If no object is found, `None` will be returned.\n",
    "\n",
    "The code to save a simulation to file is ...\n",
    "\n",
    "```IO.save(conf, result)```\n",
    "\n",
    "Where `result` is the photonic energy deposition in 1 m$^3$ of ice scaled to a progenitor that is 1 kpc away. This is scaled to progenitor distance of the source and the effective volume of a DOM to find the expected signal increase for a single DOM.\n",
    "\n",
    "\n",
    "$^*$__NOTE__: This notebook assumes that the simulation described in `\\data\\config\\default.yaml` has already been performed and saved. It will be written to the file `\\data\\processed\\nakazato-shen-z0.02-t_rev300ms-s13.0.h5`. To generate this file, run the notebook `\\docs\\nb\\detector_response.ipynb`."
   ]
  },
  {
   "cell_type": "code",
   "execution_count": 5,
   "metadata": {
    "scrolled": true
   },
   "outputs": [],
   "source": [
    "effvol = 0.1654 * u.m**3 / u.MeV\n",
    "\n",
    "E_per_V = IO.load(conf) * u.MeV / u.m**3\n",
    "E_per_V /= ccsn.progenitor_distance.to(u.kpc).value**2\n",
    "signal_per_DOM = effvol * E_per_V "
   ]
  },
  {
   "cell_type": "markdown",
   "metadata": {},
   "source": [
    "## Plot Signal Increase Per DOM\n",
    "This will plot the signal increase in a single DOM caused by each flavor. The curve shows the DOM response from 0.05 seconds before the core bounce to 0.65 seconds after the core bounce. Note that this is computed with the assumption that the effective volume of the DOM is 0.1654 m$^3$ MeV$^{-1}$"
   ]
  },
  {
   "cell_type": "code",
   "execution_count": 6,
   "metadata": {},
   "outputs": [
    {
     "data": {
      "text/plain": [
       "<matplotlib.legend.Legend at 0x7fb4f14ee550>"
      ]
     },
     "execution_count": 6,
     "metadata": {},
     "output_type": "execute_result"
    },
    {
     "data": {
      "image/png": "[encoded data removed]",
      "text/plain": [
       "<Figure size 432x504 with 1 Axes>"
      ]
     },
     "metadata": {
      "needs_background": "light"
     },
     "output_type": "display_data"
    }
   ],
   "source": [
    "fig, ax = plt.subplots(1, figsize = (6,7))\n",
    "\n",
    "for nu, flavor in enumerate(Flavor):\n",
    "    ax.step( time, signal_per_DOM[nu], label=flavor.to_tex(), linewidth=2)\n",
    "    \n",
    "ax.set_ylabel( 'Signal per DOM', horizontalalignment='right', y = 1)\n",
    "ax.set_xlabel(r't-t$_{bounce}$ [s]', horizontalalignment='right', x=1.0)\n",
    "ax.set(xlim=(-0.05, 0.65))\n",
    "ax.legend()"
   ]
  },
  {
   "cell_type": "code",
   "execution_count": null,
   "metadata": {},
   "outputs": [],
   "source": []
  }
 ],
 "metadata": {
  "kernelspec": {
   "display_name": "Python 3",
   "language": "python",
   "name": "python3"
  },
  "language_info": {
   "codemirror_mode": {
    "name": "ipython",
    "version": 3
   },
   "file_extension": ".py",
   "mimetype": "text/x-python",
   "name": "python",
   "nbconvert_exporter": "python",
   "pygments_lexer": "ipython3",
   "version": "3.7.3"
  }
 },
 "nbformat": 4,
 "nbformat_minor": 2
}
