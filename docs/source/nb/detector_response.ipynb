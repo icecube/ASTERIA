{
 "cells": [
  {
   "cell_type": "markdown",
   "metadata": {},
   "source": [
    "# Detector Response Tests\n",
    "\n",
    "Demonstrate the conversion of neutrino flux at Earth to observed hits in IceCube."
   ]
  },
  {
   "cell_type": "code",
   "execution_count": 1,
   "metadata": {},
   "outputs": [],
   "source": [
    "%matplotlib inline\n",
    "\n",
    "from asteria import config, source, detector #, interactions\n",
    "from asteria.neutrino import Flavor\n",
    "from asteria.interactions import Interactions\n",
    "from asteria.oscillation import SimpleMixing\n",
    "from asteria.config import parse_quantity\n",
    "import asteria.IO as io\n",
    "\n",
    "import astropy.units as u\n",
    "\n",
    "import numpy as np\n",
    "import matplotlib as mpl\n",
    "import matplotlib.pyplot as plt"
   ]
  },
  {
   "cell_type": "markdown",
   "metadata": {},
   "source": [
    "## Setup styles for Plotting"
   ]
  },
  {
   "cell_type": "code",
   "execution_count": 2,
   "metadata": {},
   "outputs": [],
   "source": [
    "axes_style =   {            'grid' : 'True',\n",
    "                       'labelsize' : '24',\n",
    "                        'labelpad' : '8.0' }\n",
    "\n",
    "xtick_style =  {       'direction' : 'out',\n",
    "                       'labelsize' : '20.',\n",
    "                      'major.size' : '5.',   \n",
    "                     'major.width' : '1.',\n",
    "                   'minor.visible' : 'True',\n",
    "                      'minor.size' : '2.5',\n",
    "                     'minor.width' : '1.' }\n",
    "\n",
    "ytick_style =  {       'direction' : 'out',\n",
    "                       'labelsize' : '20.',\n",
    "                      'major.size' : '5',   \n",
    "                     'major.width' : '1.',\n",
    "                   'minor.visible' : 'True',\n",
    "                      'minor.size' : '2.5',\n",
    "                     'minor.width' : '1.' }\n",
    "\n",
    "grid_style =   {           'alpha' : '0.75' }\n",
    "legend_style = {        'fontsize' : '18' }\n",
    "font_syle =    {            'size' : '20'}\n",
    "text_style =   {          'usetex' : 'True' }\n",
    "figure_style = {  'subplot.hspace' : '0.05' }\n",
    "\n",
    "mpl.rc(    'font', **font_syle )\n",
    "mpl.rc(    'text', **text_style )\n",
    "mpl.rc(    'axes', **axes_style )\n",
    "mpl.rc(   'xtick', **xtick_style )\n",
    "mpl.rc(   'ytick', **ytick_style )\n",
    "mpl.rc(    'grid', **grid_style )\n",
    "mpl.rc(  'legend', **legend_style )\n",
    "mpl.rc(  'figure', **figure_style )\n",
    "\n",
    "mpl.rcParams['text.usetex'] = True \n",
    "mpl.rcParams['text.latex.preamble'] = [r'\\usepackage[cm]{sfmath}']"
   ]
  },
  {
   "cell_type": "markdown",
   "metadata": {},
   "source": [
    "## Load Configuration\n",
    "\n",
    "This will load the source configuration from a file.\n",
    "\n",
    "For this to work, either the user needs to have done one of two things:\n",
    "1. Run `python setup.py install` in the ASTERIA directory.\n",
    "2. Run `python setup.py develop` and set the environment variable `ASTERIA` to point to the git source checkout.\n",
    "\n",
    "If these were not done, the initialization will fail because the paths will not be correctly resolved."
   ]
  },
  {
   "cell_type": "code",
   "execution_count": 3,
   "metadata": {},
   "outputs": [],
   "source": [
    "conf = config.load_config('../../data/config/default.yaml')\n",
    "ccsn = source.initialize(conf)\n",
    "i3 = detector.initialize(conf)"
   ]
  },
  {
   "cell_type": "markdown",
   "metadata": {},
   "source": [
    "## Prepare Iterables\n",
    "\n",
    "Define the range of neutrino energies (`E_nu`) to simulate and the times (`time`) at which to perform the simulation. "
   ]
  },
  {
   "cell_type": "code",
   "execution_count": 4,
   "metadata": {},
   "outputs": [],
   "source": [
    "# Define neutrino energy spectrum\n",
    "E_min = parse_quantity(conf.simulation.energy.min).to(u.MeV).value\n",
    "E_max = parse_quantity(conf.simulation.energy.max).to(u.MeV).value \n",
    "dE = parse_quantity(conf.simulation.energy.step).to(u.MeV).value\n",
    "Enu = np.arange(E_min, E_max+dE, dE) * u.MeV\n",
    "\n",
    "# Define post-bounce times at which to evaluate\n",
    "t_min = parse_quantity(conf.simulation.time.min).to(u.s).value\n",
    "t_max = parse_quantity(conf.simulation.time.max).to(u.s).value \n",
    "dt = parse_quantity(conf.simulation.time.step).to(u.s).value\n",
    "time = np.arange(t_min, t_max+dt, dt) * u.s"
   ]
  },
  {
   "cell_type": "markdown",
   "metadata": {},
   "source": [
    "## Compute Charged Particle Spectrum\n",
    "\n",
    "Compute the number of photons produced by $\\nu$ component interactions with charged particles given neutrino flavor and energy. `Interactions` contains a list of the interactions that are simulated. This list may be changed to turn 'off/on' specific interactions\n",
    "\n",
    "The interactions are as follows:\n",
    "- `InvBetaTab` : Tabulated inverse beta decay computation by Strumia and Vissani, Phys. Lett. B 564:42, 2003.\n",
    "  - See Also: `InvBetaPar` : Inverse beta decay parameterization\n",
    "- `ElectronScatter` : Elastic Neutrino-electron scattering from Marciano and Parsa, J. Phys. G 29:2969, 2003.\n",
    "- `Oxygen16CC` : $\\nu$-$^{16}O$ charged current interaction, using estimates from Kolbe et al., PRD 66:013007, 2002.\n",
    "- `Oxygen16NC` : $\\nu$-$^{16}O$ neutral current interaction, using estimates from Kolbe et al., PRD 66:013007, 2002.\n",
    "- `Oxygen18` : $\\nu$-$^{18}O$ charged current interaction, using estimates from Kamiokande data from Haxton and Robertson, PRC 59:515, 1999.\n",
    "\n",
    "These `Interaction` objects may be used to compute the neutrino cross sections and mean energy of the produced lepton, both as a function of neutrino energy. The final state lepton energy has been integrated out. This cross section with a component of $H_2O$ is then scaled as appropriate for a $H_2O$ molecule (IE Electron scattering cross section is scaled by 10, as there are 10 electrons in $H_2O$).\n",
    "\n",
    "`photon_scaling_factor` is the number of photones per MeV of lepton energy. It is computed by taking product of the data members `photons_per_lepton_MeV` and `p2e_path_ratio` which are respectively, the number of photons emitted per unit lepton path length, and the ratio of positron path length to electron path length in ice.\n",
    "\n",
    "`photons_per_lepton_MeV` is computed by finding number of photon emitted per unit lepton path length and multiplying it by the lepton path length per MeV. This is done using the Frank-Tamm formula and index of refraction from Price and Bergstrom, AO 36:004181, 1997.\n",
    "\n",
    "This result estimates the number of photons as a function of neutrino energy. It will have units $m^2$ at the end of this cell but is later scaled by a factor of $r^2$ where $r$ is the progenitor distance, to account for the neutrinos spreading out as they travel."
   ]
  },
  {
   "cell_type": "code",
   "execution_count": 5,
   "metadata": {},
   "outputs": [],
   "source": [
    "photon_spectra = np.zeros( shape=(len(Flavor), Enu.size) )\n",
    "\n",
    "for nu, flavor in enumerate(Flavor):\n",
    "    for interaction in Interactions: \n",
    "        xs    = interaction.cross_section(flavor, Enu).to(u.m**2).value\n",
    "        E_lep = interaction.mean_lepton_energy(flavor, Enu).value\n",
    "        photon_scaling_factor = interaction.photon_scaling_factor(flavor).to( 1/u.MeV).value\n",
    "        \n",
    "        \n",
    "        photon_spectra[nu] +=  xs * E_lep * photon_scaling_factor # u.m**2 \n",
    "    \n",
    "photon_spectra *= u.m**2 "
   ]
  },
  {
   "cell_type": "markdown",
   "metadata": {},
   "source": [
    "## Compute Signal per DOM\n",
    "\n",
    "For each flavor, compute the photonic energy deposition in one $m^3$ of ice, and then scale it to the effective volume of one DOM.\n",
    "\n",
    "`photonic_energy_per_ performs the simulation utilizing numpy broadcasting, and not iteration.\n",
    "\n",
    "1. Compute the neutrino spectrum from the model Luminosity $L$, Mean neutrino energy $\\left< E \\right>$ and pinch parameter $\\alpha$, which are specified in the SN spectrum file chosen by `config`. This spectrum is a gamma-like p.d.f. of neutrino energy, computed for every time step in `time`. \n",
    "\n",
    "2. Multiply the neutrino spectrum and photon spectrum, which are both functions of neutrino energy, then numerically integrate over neutrino energies. This is computed for every time step in `time`.\n",
    "\n",
    "3. Scale the result of the numerical integration by the neutrino flux and divide by $r^2$ to obtain the photon energy deposition per $m^3$.\n",
    "\n",
    "This result of `photonic_energy_per_vol` is scaled to the effective volume of a DOM to find the expected signal increase in a single DOM."
   ]
  },
  {
   "cell_type": "code",
   "execution_count": 6,
   "metadata": {
    "scrolled": true
   },
   "outputs": [
    {
     "name": "stdout",
     "output_type": "stream",
     "text": [
      "Beginning nu_e simulation...       Completed\n",
      "Beginning nu_e_bar simulation...   Completed\n",
      "Beginning nu_x simulation...       Completed\n",
      "Beginning nu_x_bar simulation...   Completed\n"
     ]
    }
   ],
   "source": [
    "E_per_V = np.zeros( shape=(len(Flavor), time.size) ) * u.MeV / u.m**3\n",
    "total_E_per_V = np.zeros( time.size ) * u.MeV / u.m**3\n",
    "\n",
    "mixing = None\n",
    "if conf.simulation.hierarchy in ['normal', 'default']:\n",
    "    mixing = SimpleMixing(33.2).normal_mixing\n",
    "elif conf.simulation.hierarchy in ['inverted']:\n",
    "    mixing = SimpleMixing(33.2).inverted_mixing\n",
    "        \n",
    "icecube_dt = 2e-3 #s\n",
    "\n",
    "effvol = 0.1654 * u.m**3 / u.MeV #Simple estimation of IceCube DOM Eff. Vol.\n",
    "\n",
    "for nu, (flavor, photon_spectrum) in enumerate(zip(Flavor, photon_spectra)):\n",
    "    E_per_V[nu] = ccsn.photonic_energy_per_vol(time, Enu, flavor, photon_spectrum, mixing)\n",
    "    total_E_per_V += E_per_V[nu]\n",
    "\n",
    "signal_per_DOM = effvol * E_per_V "
   ]
  },
  {
   "cell_type": "markdown",
   "metadata": {},
   "source": [
    "## Save Simulation to File\n",
    "\n",
    "The photonic energy per volume is the quantity that is most computationally difficult to obtain, and can be used to obtain numerous high level results. Saving this information to file enables faster processing for large scale analysis. Using `IO.save` the energy per volume is stored in the file `\\data\\processed\\nakazato-shen-z0.02-t_rev300ms-s13.0.h5`, the path to which is stored in `conf`.\n",
    "\n",
    "The result is scaled to a progenitor that is 1 kpc away. See the file `\\docs\\nb\\load_simulation.ipynb` for information on reading the simulation result from file.\n",
    "\n",
    "__NOTE__: If the a simulation with the same configuration already exists in`\\data\\processed\\nakazato-shen-z0.02-t_rev300ms-s13.0.h5`, trying to save the simulation will cause `io.save` to throw an exception, which is handled in-line with a `try`/`except` block. This may be bypassed by using\n",
    "\n",
    "```io.save(conf, E_per_V_1kpc, force=True)```"
   ]
  },
  {
   "cell_type": "code",
   "execution_count": 7,
   "metadata": {},
   "outputs": [
    {
     "name": "stdout",
     "output_type": "stream",
     "text": [
      "Found  0\n",
      "Simulation exists, Aborting. Use argument 'force = True' to force saving.\n"
     ]
    }
   ],
   "source": [
    "E_per_V_1kpc =  E_per_V * ccsn.progenitor_distance.to(u.kpc).value**2\n",
    "try:\n",
    "    io.save(conf, E_per_V_1kpc)\n",
    "except FileExistsError as e:\n",
    "    print(e)"
   ]
  },
  {
   "cell_type": "markdown",
   "metadata": {},
   "source": [
    "## Define Helper Functions\n",
    "\n",
    "Define Functions for plotting, retrieving information from ROOT Files\n",
    "\n",
    "- `rebin` Reshape the independent variable `var` with resolution `old_binning` and dependent variable `data` (assumed to be numpy array) and return new arrays `var` and `data` with resolution `new_binning`.\n",
    "\n",
    "- `bin_hits` using the `detector` table of DOMs and their properties, determines the number of hits within the specified binning `binning`. This takes into account the artificial deadtime of the DOMs.\n",
    "\n",
    "\n"
   ]
  },
  {
   "cell_type": "code",
   "execution_count": 8,
   "metadata": {},
   "outputs": [],
   "source": [
    "def rebin(var, data, old_binning, new_binning):\n",
    "    step = int(new_binning/old_binning)\n",
    "    new_size = int(data.size / step)\n",
    "    rebinned_data = np.array([np.sum(data_part) for data_part in np.array_split( data, new_size )])\n",
    "    rebinned_var  = var.value[int(0.5 * step)::step]\n",
    "    \n",
    "    return rebinned_var, rebinned_data  \n",
    "\n",
    "def bin_hits(detector, time, total_E_per_V, dt, binning):\n",
    "    doms = detector.doms_table()\n",
    "    n_i3_doms = len(doms[doms['type'] == 'i3'])\n",
    "    n_dc_doms = len(doms[doms['type'] == 'dc'])\n",
    "\n",
    "    deadtime = detector.deadtime\n",
    "    dc_rel_eff = detector.dc_rel_eff\n",
    "\n",
    "    i3_dom_bg_mu = detector.i3_dom_bg_mu\n",
    "    i3_dom_bg_sig = detector.i3_dom_bg_sig\n",
    "\n",
    "    dc_dom_bg_mu = detector.dc_dom_bg_mu\n",
    "    dc_dom_bg_sig = detector.dc_dom_bg_sig\n",
    "    \n",
    "    time_binned, total_E_per_V_binned = rebin(time, total_E_per_V, dt, binning)\n",
    "    eps_i3 = 0.87 / (1+deadtime*total_E_per_V_binned/binning)\n",
    "    eps_dc = 0.87 / (1+deadtime*total_E_per_V_binned*dc_rel_eff/binning)\n",
    "    hits_binned = i3.detector_hits(total_E_per_V_binned, eps_i3, eps_dc)\n",
    "\n",
    "    sn_bg_mu  = (n_i3_doms*i3_dom_bg_mu + n_dc_doms*dc_dom_bg_mu ) * binning;\n",
    "    sn_bg_sig = np.sqrt( (n_i3_doms*i3_dom_bg_sig**2 + n_dc_doms*dc_dom_bg_sig**2) * binning )\n",
    "    bg_binned = np.random.normal(sn_bg_mu, sn_bg_sig, time_binned.size)\n",
    "   \n",
    "    return time_binned, bg_binned, hits_binned"
   ]
  },
  {
   "cell_type": "markdown",
   "metadata": {},
   "source": [
    "## Plot Expected Signal Increase for Each Flavor\n",
    "This will plot the signal increase in a single DOM caused by each flavor. The curve shows the DOM response from 0.05 seconds before the core bounce to 0.65 seconds after the core bounce. Note that this is computed with the assumption that the effective volume of the DOM is 0.1654 m$^3$ MeV$^{-1}$"
   ]
  },
  {
   "cell_type": "code",
   "execution_count": 9,
   "metadata": {},
   "outputs": [
    {
     "data": {
      "text/plain": [
       "<matplotlib.legend.Legend at 0x7fca0f6e1470>"
      ]
     },
     "execution_count": 9,
     "metadata": {},
     "output_type": "execute_result"
    },
    {
     "data": {
      "image/png": "[encoded data removed]",
      "text/plain": [
       "<Figure size 432x504 with 1 Axes>"
      ]
     },
     "metadata": {
      "needs_background": "light"
     },
     "output_type": "display_data"
    }
   ],
   "source": [
    "fig, ax = plt.subplots(1, figsize = (6,7))\n",
    "\n",
    "for nu, flavor in enumerate(Flavor):\n",
    "    ax.step( time, signal_per_DOM[nu], label=flavor.to_tex(), linewidth=2)\n",
    "    \n",
    "ax.set_ylabel( 'Signal per DOM', horizontalalignment='right', y = 1)\n",
    "ax.set_xlabel(r't-t$_{bounce}$ [s]', horizontalalignment='right', x=1.0)\n",
    "ax.set(xlim=(-0.05, 0.65))\n",
    "ax.legend()"
   ]
  },
  {
   "cell_type": "markdown",
   "metadata": {},
   "source": [
    "## Plot Expected Signal Increase in Detector\n",
    "This will plot the signal increase across the entire detector. The curve shows the DOM response from 0.05 seconds before the core bounce to 0.65 seconds after the core bounce."
   ]
  },
  {
   "cell_type": "code",
   "execution_count": 10,
   "metadata": {},
   "outputs": [
    {
     "data": {
      "image/png": "[encoded data removed]",
      "text/plain": [
       "<Figure size 432x504 with 1 Axes>"
      ]
     },
     "metadata": {
      "needs_background": "light"
     },
     "output_type": "display_data"
    }
   ],
   "source": [
    "sn_dt = 0.01 #Units seconds: 10ms binning for plotting\n",
    "time_binned, bg_binned, signal_binned = bin_hits(i3, time, total_E_per_V.value, dt, sn_dt)\n",
    "\n",
    "# Scaled to improve readability of axis labels\n",
    "background = bg_binned/1e4\n",
    "signal = signal_binned/1e4\n",
    "response = background+signal\n",
    "\n",
    "fig, ax = plt.subplots(1, figsize = (6,7))\n",
    "ax.step(time_binned, background , lw=2, label='Background', color='k', alpha=0.25)[0] \n",
    "h = ax.step(time_binned, response, lw=2, label='Response', color='b')[0]  \n",
    "# Error bars are computed on unscaled quantity and then scaled.\n",
    "ax.errorbar(time_binned - 0.5*sn_dt, background, yerr=np.sqrt(background)/1e4, color='k', alpha=0.5, fmt='.')\n",
    "ax.errorbar(time_binned - 0.5*sn_dt, response, yerr=np.sqrt(response)/1e4, color=h.get_color(), fmt='.')\n",
    "\n",
    "ylimits = ax.get_ylim()\n",
    "ax.set(xlim=(-0.05, 0.65), ylim=(ylimits[0], ylimits[1]+0.15))\n",
    "ax.set_xlabel(r't-t$_{bounce}$ [s]', horizontalalignment='right', x=1.0)\n",
    "ax.set_ylabel(r'Total Hits [10 ms Bins, $\\times 10^4$]', horizontalalignment='right', y=1.0)\n",
    "l = ax.legend(loc='upper center', ncol=2)"
   ]
  },
  {
   "cell_type": "code",
   "execution_count": null,
   "metadata": {
    "scrolled": false
   },
   "outputs": [],
   "source": []
  },
  {
   "cell_type": "code",
   "execution_count": null,
   "metadata": {},
   "outputs": [],
   "source": []
  }
 ],
 "metadata": {
  "kernelspec": {
   "display_name": "Python 3",
   "language": "python",
   "name": "python3"
  },
  "language_info": {
   "codemirror_mode": {
    "name": "ipython",
    "version": 3
   },
   "file_extension": ".py",
   "mimetype": "text/x-python",
   "name": "python",
   "nbconvert_exporter": "python",
   "pygments_lexer": "ipython3",
   "version": "3.7.3"
  }
 },
 "nbformat": 4,
 "nbformat_minor": 2
}
