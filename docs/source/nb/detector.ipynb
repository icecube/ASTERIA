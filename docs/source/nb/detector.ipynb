{
 "cells": [
  {
   "cell_type": "markdown",
   "metadata": {},
   "source": [
    "# Detector Geometry"
   ]
  },
  {
   "cell_type": "code",
   "execution_count": null,
   "metadata": {},
   "outputs": [],
   "source": [
    "from asteria import config, detector\n",
    "from importlib.resources import files\n",
    "\n",
    "import astropy.units as u\n",
    "\n",
    "import numpy as np\n",
    "import matplotlib as mpl\n",
    "import matplotlib.pyplot as plt\n",
    "from mpl_toolkits.mplot3d import Axes3D\n",
    "\n",
    "mpl.rc('font', size=12)"
   ]
  },
  {
   "cell_type": "markdown",
   "metadata": {},
   "source": [
    "## Load Configuration from YAML\n",
    "\n",
    "This will load the source configuration from a file.\n",
    "\n",
    "For this to work, either the user needs to have done one of two things:\n",
    "1. Run `python setup.py install` in the ASTERIA directory.\n",
    "2. Run `python setup.py develop` and set the environment variable `ASTERIA` to point to the git source checkout.\n",
    "\n",
    "If these were not done, the initialization will fail because the paths will not be correctly resolved."
   ]
  },
  {
   "cell_type": "code",
   "execution_count": null,
   "metadata": {},
   "outputs": [],
   "source": [
    "configfile = files('asteria.etc').joinpath('default.yaml')\n",
    "conf = config.load_config(configfile)\n",
    "ic86 = detector.initialize(conf)"
   ]
  },
  {
   "cell_type": "markdown",
   "metadata": {},
   "source": [
    "## Print the DOM List"
   ]
  },
  {
   "cell_type": "code",
   "execution_count": null,
   "metadata": {},
   "outputs": [],
   "source": [
    "doms = ic86.doms_table\n",
    "doms"
   ]
  },
  {
   "cell_type": "markdown",
   "metadata": {},
   "source": [
    "## Plot the DOM Locations"
   ]
  },
  {
   "cell_type": "code",
   "execution_count": null,
   "metadata": {},
   "outputs": [],
   "source": [
    "fig = plt.figure(figsize=(6,6))\n",
    "ax = fig.add_subplot(111, projection='3d')\n",
    "\n",
    "# Plot the DeepCore DOMs\n",
    "dc = doms['type'] == 'dc'\n",
    "x, y, z = [doms[coord][dc] for coord in 'xyz']\n",
    "ax.scatter(x, y, z, alpha=0.7)\n",
    "\n",
    "# Plot the standard DOMs\n",
    "i3 = doms['type'] == 'i3'\n",
    "x, y, z = [doms[coord][i3] for coord in 'xyz']\n",
    "ax.scatter(x, y, z, alpha=0.2)\n",
    "\n",
    "ax.set(xlabel='x [m]', ylabel='y [m]', zlabel='z [m]')\n",
    "\n",
    "ax.view_init(30, -40)\n",
    "fig.tight_layout()"
   ]
  }
 ],
 "metadata": {
  "kernelspec": {
   "display_name": "Python 3 (ipykernel)",
   "language": "python",
   "name": "python3"
  },
  "language_info": {
   "codemirror_mode": {
    "name": "ipython",
    "version": 3
   },
   "file_extension": ".py",
   "mimetype": "text/x-python",
   "name": "python",
   "nbconvert_exporter": "python",
   "pygments_lexer": "ipython3",
   "version": "3.11.11"
  }
 },
 "nbformat": 4,
 "nbformat_minor": 4
}
