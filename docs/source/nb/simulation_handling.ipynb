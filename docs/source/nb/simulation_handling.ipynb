{
 "cells": [
  {
   "cell_type": "markdown",
   "metadata": {},
   "source": [
    "# Simulation Handling\n",
    "\n",
    "Demonstrate the conversion of neutrino flux at Earth to observed hits in IceCube using the `asteria.handler.SimulationHandler` object."
   ]
  },
  {
   "cell_type": "code",
   "execution_count": 1,
   "metadata": {
    "pycharm": {
     "is_executing": false
    }
   },
   "outputs": [],
   "source": [
    "%matplotlib inline\n",
    "\n",
    "from asteria import config\n",
    "from asteria.handler import SimulationHandler\n",
    "from asteria.neutrino import Flavor\n",
    "import astropy.units as u\n",
    "\n",
    "import numpy as np\n",
    "import matplotlib as mpl\n",
    "import matplotlib.pyplot as plt"
   ]
  },
  {
   "cell_type": "markdown",
   "metadata": {},
   "source": [
    "## Setup styles for Plotting"
   ]
  },
  {
   "cell_type": "code",
   "execution_count": 2,
   "metadata": {
    "pycharm": {
     "is_executing": false
    }
   },
   "outputs": [],
   "source": [
    "def setup_plotting():\n",
    "    axes_style =   {            'grid' : 'True',\n",
    "                           'labelsize' : '24',\n",
    "                            'labelpad' : '8.0' }\n",
    "    \n",
    "    xtick_style =  {       'direction' : 'out',\n",
    "                           'labelsize' : '20.',\n",
    "                          'major.size' : '5.',   \n",
    "                         'major.width' : '1.',\n",
    "                       'minor.visible' : 'True',\n",
    "                          'minor.size' : '2.5',\n",
    "                         'minor.width' : '1.' }\n",
    "    \n",
    "    ytick_style =  {       'direction' : 'out',\n",
    "                           'labelsize' : '20.',\n",
    "                          'major.size' : '5',   \n",
    "                         'major.width' : '1.',\n",
    "                       'minor.visible' : 'True',\n",
    "                          'minor.size' : '2.5',\n",
    "                         'minor.width' : '1.' }\n",
    "    \n",
    "    grid_style =   {           'alpha' : '0.75' }\n",
    "    legend_style = {        'fontsize' : '18' }\n",
    "    font_syle =    {            'size' : '20'}\n",
    "    text_style =   {          'usetex' : 'True' }\n",
    "    figure_style = {  'subplot.hspace' : '0.05' }\n",
    "    \n",
    "    mpl.rc(    'font', **font_syle )\n",
    "    mpl.rc(    'text', **text_style )\n",
    "    mpl.rc(    'axes', **axes_style )\n",
    "    mpl.rc(   'xtick', **xtick_style )\n",
    "    mpl.rc(   'ytick', **ytick_style )\n",
    "    mpl.rc(    'grid', **grid_style )\n",
    "    mpl.rc(  'legend', **legend_style )\n",
    "    mpl.rc(  'figure', **figure_style )\n",
    "    \n",
    "    mpl.rcParams['text.usetex'] = True \n",
    "    mpl.rcParams['text.latex.preamble'] = [r'\\usepackage[cm]{sfmath}']\n",
    "setup_plotting()"
   ]
  },
  {
   "cell_type": "markdown",
   "metadata": {},
   "source": [
    "## Load Configuration\n",
    "\n",
    "This will load the source configuration from a file.\n",
    "\n",
    "For this to work, either the user needs to have done one of two things:\n",
    "1. Run `python setup.py install` in the ASTERIA directory.\n",
    "2. Run `python setup.py develop` and set the environment variable `ASTERIA` to point to the git source checkout.\n",
    "\n",
    "If these were not done, the initialization will fail because the paths will not be correctly resolved."
   ]
  },
  {
   "cell_type": "code",
   "execution_count": 3,
   "metadata": {
    "pycharm": {
     "is_executing": false
    }
   },
   "outputs": [],
   "source": [
    "conf = config.load_config('../../data/config/default.yaml')"
   ]
  },
  {
   "cell_type": "markdown",
   "metadata": {},
   "source": [
    "## Prepare Simulation Handler\n",
    "\n",
    "Initialize the simulation handler using the `asteria.config.Configuration` object `conf`. The simulation handler contains its own configuration data member, which is also named `conf`. The information stored within may differ slightly with the information contained within the `asteria.config.Configuration` object used to initialize the handler, as the handler performs error checking during initialization. These differences will manifest in two forms.\n",
    "1. If user provides \"default\" for any configuration option in the simulation node of the yaml configuration file (Other than the `energy` and `time` sub-nodes), the handler will convert this to a more informative string. This notebook uses configuration `default.yaml` which uses \"default\" for the `interactions` and `hierarchy` sub-nodes.  These members are accessed with `sim.conf.simulation.interactions` and `sim.conf.simulation.hierarchy`. The actual values of the handler's `conf` object are printed in the following cell.\n",
    "2. If the user provides \"None\" or does not provide a value to the hierarchy sub-node, the handler will set the subnodes of its internal conf data member to the string 'none'.\n",
    "\n",
    "The simulaiton configuration is printed in yaml-compatible format. This string can be used to populate the simulation sub-nodes of an ASTERIA configuration yaml file. These data are also accessible in the form of a dictionary of strings via calling `sim.conf_dict`."
   ]
  },
  {
   "cell_type": "code",
   "execution_count": 4,
   "metadata": {
    "pycharm": {
     "is_executing": false
    }
   },
   "outputs": [
    {
     "name": "stdout",
     "output_type": "stream",
     "text": [
      "flavors:\n",
      "    - nu_e\n",
      "    - nu_e_bar\n",
      "    - nu_x\n",
      "    - nu_x_bar\n",
      "interactions:\n",
      "    - InvBetaPar\n",
      "    - ElectronScatter\n",
      "    - Oxygen16CC\n",
      "    - Oxygen16NC\n",
      "    - Oxygen18\n",
      "hierarchy: normal\n",
      "mixing:\n",
      "    scheme: adiabatic-msw\n",
      "    angle: 33.2 deg\n",
      "energy:\n",
      "    min: 0 MeV\n",
      "    max: 100 MeV\n",
      "    step: 0.1 MeV\n",
      "    size: 1001\n",
      "time:\n",
      "    min: -1 s\n",
      "    max: 1 s\n",
      "    step: 1 ms\n",
      "    size: 2001\n"
     ]
    }
   ],
   "source": [
    "sim = SimulationHandler(conf)\n",
    "sim.print_config()"
   ]
  },
  {
   "cell_type": "markdown",
   "metadata": {},
   "source": [
    "Please refer to the `SimulationHandler` docstring for information about its data members"
   ]
  },
  {
   "cell_type": "code",
   "execution_count": 5,
   "metadata": {},
   "outputs": [],
   "source": [
    "#print(SimulationHandler.__doc__)"
   ]
  },
  {
   "cell_type": "markdown",
   "metadata": {},
   "source": [
    "## Compute Signal per DOM\n",
    "\n",
    "For each flavor, compute the photonic energy deposition in one $m^3$ of ice, and then scale it to the effective volume of one DOM.\n",
    "\n",
    "`sim.run()` first attempts to load a simulation from the file specified by the `IO.table.path` node of the configuration. See the following cells for a discussion of loading/saving simulations. If no simulation is loaded, `sim.run()` performs the simulation by sequentially calling `sim.compute_photon_spectra()` and `sim.compute_energy_per_volume()`.\n",
    "\n",
    " - `sim.compute_photon_spectra()` computes the spectrum of photons produced by neutrino interactions in the ice. This is accessible in data member `sim.photon_spectra` in the form of a numpy array of shape `(len(sim.flavors), len(sim.Enu))` In the case of this example `(4, 1001)`. This method must be called before `sim.compute_energy_per_volume()`. \n",
    " \n",
    " - `sim.compute_energy_per_volume()` Computes the flux at the detector, considering oscillations, before computing the energy deposition per cubic meter in the ice due to photons produced by neutrino interactions in the ice. This is accessible in data member `sim.E_per_V` in the form of a numpy array of shape `(len(sim.flavors), len(sim.time))` In the case of this example `(4, 2001)`. \n",
    " \n",
    "\n",
    "For a more detailed description of this calculation, please see the `detector_response.ipynb` notebook.\n",
    "\n",
    "If the argument `load_simulation=False` is provided, then no attempt to load a simulation will be made, and `sim.run()` will perform the simulation."
   ]
  },
  {
   "cell_type": "code",
   "execution_count": 6,
   "metadata": {
    "pycharm": {
     "is_executing": false
    },
    "scrolled": true
   },
   "outputs": [
    {
     "name": "stdout",
     "output_type": "stream",
     "text": [
      "Running Simulation...\n",
      "Beginning nu_e simulation...       Completed\n",
      "Beginning nu_e_bar simulation...   Completed\n",
      "Beginning nu_x simulation...       Completed\n",
      "Beginning nu_x_bar simulation...   Completed\n"
     ]
    }
   ],
   "source": [
    "sim.run(load_simulation=False)\n",
    "\n",
    "effvol = 0.1654 * u.m**3 / u.MeV #Simple estimation of IceCube DOM Eff. Vol.\n",
    "signal_per_DOM = effvol * sim.E_per_V "
   ]
  },
  {
   "cell_type": "markdown",
   "metadata": {},
   "source": [
    "## Save/Load Simulation to/from File\n",
    "\n",
    "The photonic energy per volume is the quantity that is most computationally difficult to obtain, and can be used to obtain numerous high level results. Saving this information to file enables faster processing for large scale analysis. Additionally, this information scales according to `progenitor_distance`$^{-2}$, so multiple simulations at different distances can be loaded from the same file and scaled accordingly. \n",
    "\n",
    "`sim.save()` wraps `asteria.IO.save()` and writes the energy per volume is stored to the file specified in the configuration file under the `IO.table.path` node. In this case, the file `\\data\\processed\\nakazato-shen-z0.02-t_rev300ms-s13.0.h5` is used. The actual result saved by `sim.save()` is the photonic energy per distance scaled to a progenitor 1kpc away. Note that the user must perform this scaling manually if only using `IO.save()`.\n",
    "\n",
    "If the a simulation with the same configuration already exists in`\\data\\processed\\nakazato-shen-z0.02-t_rev300ms-s13.0.h5`, trying to save the simulation will cause `asteria.IO.save()` to throw an exception, which is handled below with a `try-except` block. This may be bypassed by using the force argument, which will force `asteria.IO.save()` to overwrite the existing data.\n",
    "\n",
    "```sim.save(conf, force=True)```\n",
    "\n",
    "Similarly, `sim.load()` wraps `asteria.IO.load()`, and returns the energy per volume scaled to the distance specified in the configuration yaml file under the `source.progenitor.distance.distance` node. Note that `IO.load()` on its own does not perform this scaling. See the file `\\docs\\nb\\load_simulation.ipynb` for information on reading the simulation result from file. The loaded data takes the form of a numpy array of shape `(len(sim.flavors), len(sim.time))` In the case of this example `(4, 2001)`."
   ]
  },
  {
   "cell_type": "code",
   "execution_count": 7,
   "metadata": {},
   "outputs": [
    {
     "name": "stdout",
     "output_type": "stream",
     "text": [
      "Found  0\n",
      "Simulation exists, Aborting. Use argument 'force = True' to force saving.\n"
     ]
    }
   ],
   "source": [
    "try:\n",
    "    sim.save()\n",
    "except FileExistsError as e:\n",
    "    print(e)"
   ]
  },
  {
   "cell_type": "markdown",
   "metadata": {},
   "source": [
    "## Define Helper Functions\n",
    "\n",
    "Define Functions for plotting, retrieving information from ROOT Files\n",
    "\n",
    "- `rebin` Reshape the independent variable `var` with resolution `old_binning` and dependent variable `data` (assumed to be numpy array) and return new arrays `var` and `data` with resolution `new_binning`.\n",
    "\n",
    "- `bin_hits` using the `detector` table of DOMs and their properties, determines the number of hits within the specified binning `binning`. This takes into account the artificial deadtime of the DOMs.\n",
    "\n",
    "\n"
   ]
  },
  {
   "cell_type": "code",
   "execution_count": 8,
   "metadata": {},
   "outputs": [],
   "source": [
    "def rebin(var, data, old_binning, new_binning):\n",
    "    step = int(new_binning/old_binning)\n",
    "    new_size = int(data.size / step)\n",
    "    rebinned_data = np.array([np.sum(data_part) for data_part in np.array_split( data, new_size )])\n",
    "    rebinned_var  = var.value[int(0.5 * step)::step]\n",
    "    \n",
    "    return rebinned_var, rebinned_data  \n",
    "\n",
    "def bin_hits(detector, time, total_E_per_V, dt, binning):\n",
    "    doms = detector.doms_table()\n",
    "    n_i3_doms = len(doms[doms['type'] == 'i3'])\n",
    "    n_dc_doms = len(doms[doms['type'] == 'dc'])\n",
    "\n",
    "    deadtime = detector.deadtime\n",
    "    dc_rel_eff = detector.dc_rel_eff\n",
    "\n",
    "    i3_dom_bg_mu = detector.i3_dom_bg_mu\n",
    "    i3_dom_bg_sig = detector.i3_dom_bg_sig\n",
    "\n",
    "    dc_dom_bg_mu = detector.dc_dom_bg_mu\n",
    "    dc_dom_bg_sig = detector.dc_dom_bg_sig\n",
    "    \n",
    "    time_binned, total_E_per_V_binned = rebin(time, total_E_per_V, dt, binning)\n",
    "    eps_i3 = 0.87 / (1+deadtime*total_E_per_V_binned/binning)\n",
    "    eps_dc = 0.87 / (1+deadtime*total_E_per_V_binned*dc_rel_eff/binning)\n",
    "    hits_binned = detector.detector_hits(total_E_per_V_binned, eps_i3, eps_dc)\n",
    "\n",
    "    sn_bg_mu  = (n_i3_doms*i3_dom_bg_mu + n_dc_doms*dc_dom_bg_mu ) * binning;\n",
    "    sn_bg_sig = np.sqrt( (n_i3_doms*i3_dom_bg_sig**2 + n_dc_doms*dc_dom_bg_sig**2) * binning )\n",
    "    bg_binned = np.random.normal(sn_bg_mu, sn_bg_sig, time_binned.size)\n",
    "   \n",
    "    return time_binned, bg_binned, hits_binned"
   ]
  },
  {
   "cell_type": "markdown",
   "metadata": {},
   "source": [
    "## Plot Expected Signal Increase for Each Flavor\n",
    "This will plot the signal increase in a single DOM caused by each flavor. The curve shows the DOM response from 0.05 seconds before the core bounce to 0.65 seconds after the core bounce. Note that this is computed with the assumption that the effective volume of the DOM is 0.1654 m$^3$ MeV$^{-1}$"
   ]
  },
  {
   "cell_type": "code",
   "execution_count": 9,
   "metadata": {},
   "outputs": [
    {
     "data": {
      "text/plain": [
       "<matplotlib.legend.Legend at 0x7ff2003c7fd0>"
      ]
     },
     "execution_count": 9,
     "metadata": {},
     "output_type": "execute_result"
    },
    {
     "data": {
      "image/png": "[encoded data removed]",
      "text/plain": [
       "<Figure size 432x504 with 1 Axes>"
      ]
     },
     "metadata": {
      "needs_background": "light"
     },
     "output_type": "display_data"
    }
   ],
   "source": [
    "fig, ax = plt.subplots(1, figsize = (6,7))\n",
    "\n",
    "for nu, flavor in enumerate(sim.flavors):\n",
    "    ax.step( sim.time, signal_per_DOM[nu], label=flavor.to_tex(), linewidth=2)\n",
    "    \n",
    "ax.set_ylabel('Signal per DOM', horizontalalignment='right', y = 1)\n",
    "ax.set_xlabel(r't-t$_{bounce}$ [s]', horizontalalignment='right', x=1.0)\n",
    "ax.set(xlim=(-0.05, 0.65))\n",
    "ax.legend()"
   ]
  },
  {
   "cell_type": "markdown",
   "metadata": {},
   "source": [
    "## Plot Expected Signal Increase in Detector\n",
    "This will plot the signal increase across the entire detector. The curve shows the DOM response from 0.05 seconds before the core bounce to 0.65 seconds after the core bounce."
   ]
  },
  {
   "cell_type": "code",
   "execution_count": 10,
   "metadata": {},
   "outputs": [
    {
     "data": {
      "image/png": "[encoded data removed]",
      "text/plain": [
       "<Figure size 432x504 with 1 Axes>"
      ]
     },
     "metadata": {
      "needs_background": "light"
     },
     "output_type": "display_data"
    }
   ],
   "source": [
    "sn_dt = 0.01 #Units seconds: 10ms binning for plotting\n",
    "time, background, signal = bin_hits(sim.detector, sim.time, sim.total_E_per_V.value, sim.dt.value, sn_dt)\n",
    "\n",
    "# Scaled to improve readability of axis labels\n",
    "background = background/1e4\n",
    "signal = signal/1e4\n",
    "response = background+signal\n",
    "\n",
    "fig, ax = plt.subplots(1, figsize = (6,7))\n",
    "ax.step(time, background , lw=2, label='Background', color='k', alpha=0.25)[0] \n",
    "h = ax.step(time, response, lw=2, label='Response', color='b')[0]  \n",
    "# Error bars are computed on unscaled quantity and then scaled.\n",
    "ax.errorbar(time - 0.5*sn_dt, background, yerr=np.sqrt(background)/1e4, color='k', alpha=0.5, fmt='.')\n",
    "ax.errorbar(time - 0.5*sn_dt, response, yerr=np.sqrt(response)/1e4, color=h.get_color(), fmt='.')\n",
    "\n",
    "ylimits = ax.get_ylim()\n",
    "ax.set(xlim=(-0.05, 0.65), ylim=(ylimits[0], ylimits[1]+0.15))\n",
    "ax.set_xlabel(r't-t$_{bounce}$ [s]', horizontalalignment='right', x=1.0)\n",
    "ax.set_ylabel(r'Total Hits [10 ms Bins, $\\times 10^4$]', horizontalalignment='right', y=1.0)\n",
    "l = ax.legend(loc='upper center', ncol=2)"
   ]
  }
 ],
 "metadata": {
  "kernelspec": {
   "display_name": "Python 3",
   "language": "python",
   "name": "python3"
  },
  "language_info": {
   "codemirror_mode": {
    "name": "ipython",
    "version": 3
   },
   "file_extension": ".py",
   "mimetype": "text/x-python",
   "name": "python",
   "nbconvert_exporter": "python",
   "pygments_lexer": "ipython3",
   "version": "3.7.3"
  },
  "pycharm": {
   "stem_cell": {
    "cell_type": "raw",
    "metadata": {
     "collapsed": false
    },
    "source": []
   }
  }
 },
 "nbformat": 4,
 "nbformat_minor": 2
}
