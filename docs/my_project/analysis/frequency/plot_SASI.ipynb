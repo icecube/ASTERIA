{
 "cells": [
  {
   "cell_type": "markdown",
   "metadata": {},
   "source": [
    "## Frequency Analysis"
   ]
  },
  {
   "cell_type": "code",
   "execution_count": 1,
   "metadata": {
    "scrolled": true
   },
   "outputs": [
    {
     "name": "stdout",
     "output_type": "stream",
     "text": [
      "env: ASTERIA=/home/jakob/software/ASTERIA/ASTERIA\n"
     ]
    },
    {
     "name": "stderr",
     "output_type": "stream",
     "text": [
      "/usr/local/lib/python3.8/dist-packages/tqdm-4.65.0-py3.8.egg/tqdm/auto.py:21: TqdmWarning: IProgress not found. Please update jupyter and ipywidgets. See https://ipywidgets.readthedocs.io/en/stable/user_install.html\n",
      "  from .autonotebook import tqdm as notebook_tqdm\n"
     ]
    }
   ],
   "source": [
    "%env ASTERIA=/home/jakob/software/ASTERIA/ASTERIA\n",
    "from asteria.simulation import Simulation\n",
    "import astropy.units as u\n",
    "import numpy as np\n",
    "import matplotlib.pyplot as plt\n",
    "from scipy.fft import fft, ifft, fftfreq\n",
    "from scipy.stats import skewnorm, norm"
   ]
  },
  {
   "cell_type": "code",
   "execution_count": 2,
   "metadata": {},
   "outputs": [],
   "source": [
    "include_wls = False"
   ]
  },
  {
   "cell_type": "code",
   "execution_count": 3,
   "metadata": {},
   "outputs": [],
   "source": [
    "def moving_average(a, n=3, zero_padding = False, const_padding = False):\n",
    "    if zero_padding:\n",
    "        ind = np.arange(n-1)\n",
    "        a = np.insert(a, ind, np.zeros(n-1))\n",
    "        a = np.roll(a, -int((n-1)/2))\n",
    "    if const_padding:\n",
    "        if n%2 != 1:\n",
    "            ind1 = np.arange((n-1)/2).astype(int)\n",
    "            ind2 = -np.arange(1,(n-1)/2).astype(int)\n",
    "            a = np.insert(a, ind1, np.ones(int((n/2)))*a[0])\n",
    "            a = np.insert(a, ind2, np.ones(int((n-1)/2))*a[-1])\n",
    "        else:\n",
    "            ind1 = np.arange((n-1)/2).astype(int)\n",
    "            ind2 = -np.arange(1,(n+1)/2).astype(int)\n",
    "            a = np.insert(a, ind1, np.ones(int((n-1)/2))*a[0])\n",
    "            a = np.insert(a, ind2, np.ones(int((n-1)/2))*a[-1])\n",
    "    ret = np.cumsum(a, dtype=float)\n",
    "    ret[n:] = ret[n:] - ret[:-n]\n",
    "    return ret[n - 1:] / n"
   ]
  },
  {
   "cell_type": "code",
   "execution_count": 4,
   "metadata": {},
   "outputs": [],
   "source": [
    "#Returns binning needed to resolve a frequency.\n",
    "def get_binning(sim, dt, frequency=80*u.Hz): \n",
    "    duration = sim.time[-1]-sim.time[0]\n",
    "    samples = (duration/dt.to(u.s)).value\n",
    "    return int((1/frequency*samples/duration).value) #binning needed to filter out sinals with f>f_lb_sasi"
   ]
  },
  {
   "cell_type": "code",
   "execution_count": 5,
   "metadata": {},
   "outputs": [],
   "source": [
    "# Binning of the moving average filter defined by the Nyquist frequency of the SASI modulation\n",
    "# If the sampling was to be finer the binning could be done finer, however this comes at the expense of lower\n",
    "# statistics. Therefore we keep the sampling rate at 1 ms.\n",
    "\n",
    "def get_average_signal(sim, dt, distance, frequency=80*u.Hz):\n",
    "    binning = get_binning(sim, dt, frequency)\n",
    "\n",
    "    #detector_signal s0 is not drawn from distribution\n",
    "    t, s0_i3 = sim.detector_signal(dt=dt, subdetector='i3')\n",
    "    t, s0_dc = sim.detector_signal(dt=dt, subdetector='dc')\n",
    "    t, s0_md = sim.detector_signal(dt=dt, subdetector='md')\n",
    "\n",
    "    s0_ic86 = s0_i3 + s0_dc\n",
    "    s0_gen2 = s0_i3 + s0_dc + s0_md\n",
    "    t = t.to(u.ms)\n",
    "\n",
    "    #averaged signal sa binning size defined by the Nyquist frequency of the SASI modulation and constant padding\n",
    "    sa_ic86 = moving_average(s0_ic86, n=binning, const_padding=True)\n",
    "    sa_gen2 = moving_average(s0_gen2, n=binning, const_padding=True)\n",
    "    \n",
    "    return sa_gen2, sa_ic86"
   ]
  },
  {
   "cell_type": "code",
   "execution_count": 6,
   "metadata": {},
   "outputs": [],
   "source": [
    "dt = 0.1*u.ms # highest frequency in Tamborra 2014 model\n",
    "\n",
    "model = {'name': 'Tamborra_2014',\n",
    "         'param':{\n",
    "             'progenitor_mass': 20*u.Msun,\n",
    "             'direction': 1}\n",
    "        }\n",
    "sim = Simulation(model=model,\n",
    "                 distance=10* u.kpc, \n",
    "                 Emin=0*u.MeV, Emax=100*u.MeV, dE=1*u.MeV,\n",
    "                 tmin=0.006*u.s, tmax=0.338*u.s, dt=dt,\n",
    "                 hierarchy = 'normal',\n",
    "                 mixing_scheme = 'NoTransformation',\n",
    "                 geomscope = 'Gen2',\n",
    "                 include_wls = include_wls)\n",
    "sim.run()"
   ]
  },
  {
   "cell_type": "code",
   "execution_count": 8,
   "metadata": {},
   "outputs": [],
   "source": [
    "dt = 1 * u.ms"
   ]
  },
  {
   "cell_type": "code",
   "execution_count": 9,
   "metadata": {},
   "outputs": [],
   "source": [
    "#average background given by the mean of the sensor distribution and scaled to the full detector\n",
    "ba_ic86 = (sim.detector.n_i3_doms*sim.detector.i3_dom_bg_mu + sim.detector.n_dc_doms*sim.detector.dc_dom_bg_mu)*dt/(1*u.s)\n",
    "ba_gen2 = (sim.detector.n_i3_doms*sim.detector.i3_dom_bg_mu + sim.detector.n_dc_doms*sim.detector.dc_dom_bg_mu + sim.detector.n_md*sim.detector.md_bg_mu)*dt/(1*u.s)"
   ]
  },
  {
   "cell_type": "code",
   "execution_count": 10,
   "metadata": {},
   "outputs": [],
   "source": [
    "def signal_processing(sim, dt, distance, trials, dist = skewnorm, sig_method='pdf_median', \n",
    "                      return_raw=False,\n",
    "                      return_fourier=False, \n",
    "                      return_power=False, \n",
    "                      return_max_power=False,\n",
    "                      return_significance=False):\n",
    "\n",
    "    # scale simulation with distance\n",
    "    sim.scale_result(distance=distance)\n",
    "    \n",
    "    sa_gen2, sa_ic86 = get_average_signal(sim, dt=dt, distance=distance)\n",
    "    \n",
    "    # time and signal realization for each detector component\n",
    "    t, s_i3 = sim.detector_hits(dt=dt, subdetector='i3', size=trials)\n",
    "    t, s_dc = sim.detector_hits(dt=dt, subdetector='dc', size=trials)\n",
    "    t, s_md = sim.detector_hits(dt=dt, subdetector='md', size=trials)\n",
    "    #t, s_ws = sim.detector_hits(dt=dt, subdetector='ws')\n",
    "    t = t.to(u.ms)\n",
    "\n",
    "    # random background realization\n",
    "    b_i3 = sim.detector.i3_bg(dt=dt, size=s_i3.shape[1]*trials)\n",
    "    b_dc = sim.detector.dc_bg(dt=dt, size=s_dc.shape[1]*trials)\n",
    "    b_md = sim.detector.md_bg(dt=dt, size=s_md.shape[1]*trials)\n",
    "    #b_ws = sim.detector.ws_bg(dt=dt, size=len(s_ws)*trials)\n",
    "    \n",
    "    # reshape background\n",
    "    b_i3 = b_i3.reshape(trials,s_i3.shape[1])\n",
    "    b_dc = b_dc.reshape(trials,s_dc.shape[1])\n",
    "    b_md = b_md.reshape(trials,s_md.shape[1])\n",
    "\n",
    "    ### SIGNAL TRIALS ###\n",
    "    s_ic86 = s_i3 + s_dc\n",
    "    s_gen2 = s_i3 + s_dc + s_md\n",
    "    b_ic86 = b_i3 + b_dc\n",
    "    b_gen2 = b_i3 + b_dc + b_md\n",
    "\n",
    "    # combined signal S: signal + background\n",
    "    S_ic86 = s_ic86 + b_ic86\n",
    "    S_gen2 = s_gen2 + b_gen2\n",
    "    \n",
    "    \n",
    "    t_mask = np.logical_and(t>=time_wind[0], t<=time_wind[1])    \n",
    "    tf = t[t_mask]\n",
    "    N = len(tf)\n",
    "    T = sim._res_dt.value\n",
    "      \n",
    "    #Fourier transformation\n",
    "    Sf_ic86 = 2.0/N * np.abs(fft(S_ic86[:,t_mask], axis = -1)[:,1:N//2])\n",
    "    Sf_gen2 = 2.0/N * np.abs(fft(S_gen2[:,t_mask], axis = -1)[:,1:N//2])\n",
    "    f = fftfreq(N,T)[1:N//2]\n",
    "    f_mask = np.logical_and(f>=freq_wind[0].value, f<=freq_wind[1].value)\n",
    "\n",
    "    #Power spectrum\n",
    "    Sp_ic86 = Sf_ic86**2\n",
    "    Sp_gen2 = Sf_gen2**2\n",
    "    \n",
    "    Sm_ic86 = np.max(Sp_ic86[:,f_mask], axis=-1)\n",
    "    Sm_gen2 = np.max(Sp_gen2[:,f_mask], axis=-1)\n",
    "\n",
    "    ### BACKGROUND TRIALS ###\n",
    "    # combined signal S: average signal + background\n",
    "    B_ic86 = sa_ic86 + b_ic86\n",
    "    B_gen2 = sa_gen2 + b_gen2\n",
    "\n",
    "    #Fourier transformation\n",
    "    Bf_ic86 = 2.0/N * np.abs(fft(B_ic86[:,t_mask], axis = -1)[:,1:N//2])\n",
    "    Bf_gen2 = 2.0/N * np.abs(fft(B_gen2[:,t_mask], axis = -1)[:,1:N//2])\n",
    "    \n",
    "    #Power spectrum\n",
    "    Bp_ic86 = Bf_ic86**2\n",
    "    Bp_gen2 = Bf_gen2**2\n",
    "    \n",
    "    Bm_ic86 = np.max(Bp_ic86[:,f_mask], axis=-1)\n",
    "    Bm_gen2 = np.max(Bp_gen2[:,f_mask], axis=-1)\n",
    "    \n",
    "    # background fit parameters\n",
    "    Bfp_ic86 = dist.fit(Bm_ic86)\n",
    "    Bfp_gen2 = dist.fit(Bm_gen2)\n",
    "\n",
    "    # fitted background distribution\n",
    "    Bf_ic86 = dist(*Bfp_ic86)\n",
    "    Bf_gen2 = dist(*Bfp_gen2)\n",
    "\n",
    "    ### SIGNIFICANCE ###\n",
    "    if sig_method == 'weighted_difference':\n",
    "    # Defined as difference between the mean of the signal and background distribution devided by the square root\n",
    "    # of the sum of the variance of the two distributions\n",
    "        Z_ic86 = np.abs(Sm_ic86.mean()-Bm_ic86.mean())/np.sqrt(Sm_ic86.std()**2+Bm_ic86.std()**2)\n",
    "        Z_gen2 = np.abs(Sm_gen2.mean()-Bm_gen2.mean())/np.sqrt(Sm_gen2.std()**2+Bm_gen2.std()**2)\n",
    "    elif sig_method == 'pdf_median':\n",
    "    # take the median of the signal trials and compute the corresponding p-value/significance from the bkg distribution\n",
    "                \n",
    "        # p-value of signal given a background distribution\n",
    "        p_ic86 = Bf_ic86.sf(np.median(Sm_ic86))\n",
    "        p_gen2 = Bf_gen2.sf(np.median(Sm_gen2))\n",
    "\n",
    "        # two-sided Z score corresponding to the respective p-value, survival probability = 1 - cdf\n",
    "        Z_ic86 = norm.isf(p_ic86/2)\n",
    "        Z_gen2 = norm.isf(p_gen2/2)\n",
    "        \n",
    "    if return_raw:\n",
    "        return t, s_gen2, sa_gen2, b_gen2, s_ic86, sa_ic86, b_ic86\n",
    "    \n",
    "    if return_fourier:\n",
    "        return f, Sf_gen2, Sf_ic86, Bf_gen2, Bf_ic86\n",
    "    \n",
    "    if return_power:\n",
    "        return f, Sp_gen2, Sp_ic86, Bp_gen2, Bp_ic86\n",
    "    \n",
    "    if return_max_power:\n",
    "        return f, Sm_gen2, Sm_ic86, Bm_gen2, Bm_ic86\n",
    "    \n",
    "    if return_significance:\n",
    "        return Z_gen2, Z_ic86"
   ]
  },
  {
   "cell_type": "code",
   "execution_count": 11,
   "metadata": {},
   "outputs": [
    {
     "data": {
      "image/png": "[encoded data removed]",
      "text/plain": [
       "<Figure size 1000x400 with 2 Axes>"
      ]
     },
     "metadata": {},
     "output_type": "display_data"
    }
   ],
   "source": [
    "t, s_gen2, sa_gen2, b_gen2, s_ic86, sa_ic86, b_ic86 = signal_processing(sim, dt=dt, distance=10*u.kpc, trials=10000, return_raw=True)\n",
    "\n",
    "r_ic86 = s_ic86+b_ic86\n",
    "\n",
    "fig, ax = plt.subplots(1,1, figsize=(6,4))\n",
    "ax.plot(t, r_ic86, color = 'C0', ls = '-', label=r'IceCube$')\n",
    "ax.set_xlabel('Time [mz]')\n",
    "ax.set_ylabel('Power Spectrum')\n",
    "ax.set_xlim(0,500)\n",
    "ax.set_ylim(0,2E5)\n",
    "ax.legend()\n",
    "plt.tight_layout()\n",
    "plt.savefig('./plots/final_SASI.png', dpi = 200)"
   ]
  },
  {
   "cell_type": "code",
   "execution_count": null,
   "metadata": {},
   "outputs": [],
   "source": []
  }
 ],
 "metadata": {
  "kernelspec": {
   "display_name": "Python 3 (ipykernel)",
   "language": "python",
   "name": "python3"
  },
  "language_info": {
   "codemirror_mode": {
    "name": "ipython",
    "version": 3
   },
   "file_extension": ".py",
   "mimetype": "text/x-python",
   "name": "python",
   "nbconvert_exporter": "python",
   "pygments_lexer": "ipython3",
   "version": "3.10.12"
  }
 },
 "nbformat": 4,
 "nbformat_minor": 4
}
