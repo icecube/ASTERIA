{
 "cells": [
  {
   "cell_type": "markdown",
   "metadata": {},
   "source": [
    "## Amplitude analysis"
   ]
  },
  {
   "cell_type": "code",
   "execution_count": 1,
   "metadata": {
    "scrolled": true
   },
   "outputs": [
    {
     "name": "stdout",
     "output_type": "stream",
     "text": [
      "env: ASTERIA=/home/jakob/software/ASTERIA/ASTERIA\n"
     ]
    },
    {
     "name": "stderr",
     "output_type": "stream",
     "text": [
      "/usr/local/lib/python3.8/dist-packages/tqdm-4.65.0-py3.8.egg/tqdm/auto.py:21: TqdmWarning: IProgress not found. Please update jupyter and ipywidgets. See https://ipywidgets.readthedocs.io/en/stable/user_install.html\n",
      "  from .autonotebook import tqdm as notebook_tqdm\n"
     ]
    }
   ],
   "source": [
    "%env ASTERIA=/home/jakob/software/ASTERIA/ASTERIA\n",
    "\n",
    "from asteria.simulation import Simulation\n",
    "import astropy.units as u\n",
    "import numpy as np\n",
    "import matplotlib.pyplot as plt\n",
    "from scipy.stats import skewnorm, norm"
   ]
  },
  {
   "cell_type": "code",
   "execution_count": 2,
   "metadata": {},
   "outputs": [],
   "source": [
    "include_wls = False"
   ]
  },
  {
   "cell_type": "code",
   "execution_count": null,
   "metadata": {},
   "outputs": [],
   "source": [
    "def moving_average(a, n=3, zero_padding = False, const_padding = False):\n",
    "    if zero_padding:\n",
    "        ind = np.arange(n-1)\n",
    "        a = np.insert(a, ind, np.zeros(n-1))\n",
    "        a = np.roll(a, -int((n-1)/2))\n",
    "    if const_padding:\n",
    "        if n%2 != 1:\n",
    "            ind1 = np.arange((n-1)/2).astype(int)\n",
    "            ind2 = -np.arange(1,(n-1)/2).astype(int)\n",
    "            a = np.insert(a, ind1, np.ones(int((n/2)))*a[0])\n",
    "            a = np.insert(a, ind2, np.ones(int((n-1)/2))*a[-1])\n",
    "        else:\n",
    "            ind1 = np.arange((n-1)/2).astype(int)\n",
    "            ind2 = -np.arange(1,(n+1)/2).astype(int)\n",
    "            a = np.insert(a, ind1, np.ones(int((n-1)/2))*a[0])\n",
    "            a = np.insert(a, ind2, np.ones(int((n-1)/2))*a[-1])\n",
    "    ret = np.cumsum(a, dtype=float)\n",
    "    ret[n:] = ret[n:] - ret[:-n]\n",
    "    return ret[n - 1:] / n"
   ]
  },
  {
   "cell_type": "code",
   "execution_count": null,
   "metadata": {},
   "outputs": [],
   "source": [
    "def min_max_in_window(array, window, return_index = False):\n",
    "    x_min, x_max = np.zeros(array.shape[0]), np.zeros(array.shape[0])\n",
    "    a_min, a_max = np.zeros(array.shape[0]), np.zeros(array.shape[0])\n",
    "    \n",
    "    ind = np.arange(array.shape[0])\n",
    "    for i in np.arange(array.shape[1]-window+1):\n",
    "        interval = array[:,i:i+window]\n",
    "        t_min = np.min(array, axis=1) #temporary min\n",
    "        t_max = np.max(array, axis=1) #temporary max\n",
    "        t_argmin = np.argmin(interval, axis=1)+i\n",
    "        t_argmax = np.argmax(interval, axis=1)+i\n",
    "        mask = t_max-t_min > x_max-x_min\n",
    "        x_min[ind[mask]] = t_min[ind[mask]]\n",
    "        x_max[ind[mask]] = t_max[ind[mask]]\n",
    "        a_min[ind[mask]] = t_argmin[ind[mask]]\n",
    "        a_max[ind[mask]] = t_argmax[ind[mask]]\n",
    "    if return_index:\n",
    "        return x_max-x_min, a_min, a_max\n",
    "    else:\n",
    "        return x_max-x_min"
   ]
  },
  {
   "cell_type": "code",
   "execution_count": null,
   "metadata": {},
   "outputs": [],
   "source": [
    "#Returns binning needed to resolve a frequency.\n",
    "def get_binning(sim, dt, frequency=80*u.Hz): \n",
    "    duration = sim.time[-1]-sim.time[0]\n",
    "    samples = (duration/dt.to(u.s)).value\n",
    "    return int((1/frequency*samples/duration).value) #binning needed to filter out sinals with f>f_lb_sasi"
   ]
  },
  {
   "cell_type": "code",
   "execution_count": null,
   "metadata": {},
   "outputs": [],
   "source": [
    "# Binning of the moving average filter defined by the Nyquist frequency of the SASI modulation\n",
    "# If the sampling was to be finer the binning could be done finer, however this comes at the expense of lower\n",
    "# statistics. Therefore we keep the sampling rate at 1 ms.\n",
    "\n",
    "def get_average_signal(sim, dt, distance, frequency=80*u.Hz):\n",
    "    binning = get_binning(sim, dt, frequency)\n",
    "\n",
    "    #detector_signal s0 is not drawn from distribution\n",
    "    t, s0_i3 = sim.detector_signal(dt=dt, subdetector='i3')\n",
    "    t, s0_dc = sim.detector_signal(dt=dt, subdetector='dc')\n",
    "    t, s0_md = sim.detector_signal(dt=dt, subdetector='md')\n",
    "\n",
    "    s0_ic86 = s0_i3 + s0_dc\n",
    "    s0_gen2 = s0_i3 + s0_dc + s0_md\n",
    "    t = t.to(u.ms)\n",
    "\n",
    "    #averaged signal sa binning size defined by the Nyquist frequency of the SASI modulation and constant padding\n",
    "    sa_ic86 = moving_average(s0_ic86, n=binning, const_padding=True)\n",
    "    sa_gen2 = moving_average(s0_gen2, n=binning, const_padding=True)\n",
    "    \n",
    "    return sa_gen2, sa_ic86"
   ]
  },
  {
   "cell_type": "code",
   "execution_count": 19,
   "metadata": {
    "scrolled": true
   },
   "outputs": [],
   "source": [
    "dt = 0.1*u.ms # highest frequency in Tamborra 2014 model\n",
    "\n",
    "model1 = {'name': 'Tamborra_2014',\n",
    "         'param':{\n",
    "             'progenitor_mass': 27*u.Msun,\n",
    "             'direction': 1}\n",
    "         }\n",
    "model2 = {'name': 'Tamborra_2014',\n",
    "         'param':{\n",
    "             'progenitor_mass': 27*u.Msun,\n",
    "             'direction': 2}\n",
    "         }\n",
    "model3 = {'name': 'Tamborra_2014',\n",
    "         'param':{\n",
    "             'progenitor_mass': 27*u.Msun,\n",
    "             'direction': 3}\n",
    "         }\n",
    "sim1 = Simulation(model=model1,\n",
    "                 distance=10* u.kpc, \n",
    "                 Emin=0*u.MeV, Emax=100*u.MeV, dE=1*u.MeV,\n",
    "                 tmin=0.011*u.s, tmax=0.552*u.s, dt=dt,\n",
    "                 hierarchy = 'normal',\n",
    "                 mixing_scheme = 'NoTransformation',\n",
    "                 geomscope = 'Gen2',\n",
    "                 include_wls = include_wls)\n",
    "\n",
    "sim2 = Simulation(model=model2,\n",
    "                 distance=10* u.kpc, \n",
    "                 Emin=0*u.MeV, Emax=100*u.MeV, dE=1*u.MeV,\n",
    "                 tmin=0.011*u.s, tmax=0.552*u.s, dt=dt,\n",
    "                 hierarchy = 'normal',\n",
    "                 mixing_scheme = 'NoTransformation',\n",
    "                 geomscope = 'Gen2',\n",
    "                 include_wls = include_wls)\n",
    "\n",
    "sim3 = Simulation(model=model3,\n",
    "                 distance=10* u.kpc, \n",
    "                 Emin=0*u.MeV, Emax=100*u.MeV, dE=1*u.MeV,\n",
    "                 tmin=0.011*u.s, tmax=0.552*u.s, dt=dt,\n",
    "                 hierarchy = 'normal',\n",
    "                 mixing_scheme = 'NoTransformation',\n",
    "                 geomscope = 'Gen2',\n",
    "                 include_wls = include_wls)\n",
    "sim1.run()\n",
    "sim2.run()\n",
    "sim3.run()"
   ]
  },
  {
   "cell_type": "code",
   "execution_count": 33,
   "metadata": {
    "scrolled": true
   },
   "outputs": [
    {
     "data": {
      "image/png": "[encoded data removed]",
      "text/plain": [
       "<Figure size 640x480 with 1 Axes>"
      ]
     },
     "metadata": {},
     "output_type": "display_data"
    }
   ],
   "source": [
    "lumi1 = sim1.E_per_V[flavor.NU_X_BAR]\n",
    "lumi2 = sim2.E_per_V[flavor.NU_X_BAR]\n",
    "lumi3 = sim3.E_per_V[flavor.NU_X_BAR]\n",
    "\n",
    "plt.plot(sim1.time, lumi1-lumi1, label = 'dir 1')\n",
    "plt.plot(sim2.time, lumi2-lumi1, label = 'dir 2')\n",
    "plt.plot(sim3.time, lumi3-lumi1, label = 'dir 3')\n",
    "\n",
    "plt.legend()\n",
    "ax = plt.gca()\n",
    "ax.set(xlabel=r't-t$_{bounce}$ [s]', ylabel='Difference in Energy Deposition', xlim=(0.006, 0.338))\n",
    "ax.grid()"
   ]
  },
  {
   "cell_type": "code",
   "execution_count": 32,
   "metadata": {},
   "outputs": [
    {
     "data": {
      "text/latex": [
       "$[0,~0,~0,~\\dots,~0,~0,~0] \\; \\mathrm{\\frac{MeV}{m^{3}}}$"
      ],
      "text/plain": [
       "<Quantity [0., 0., 0., ..., 0., 0., 0.] MeV / m3>"
      ]
     },
     "execution_count": 32,
     "metadata": {},
     "output_type": "execute_result"
    }
   ],
   "source": [
    "lumi2-lumi1"
   ]
  },
  {
   "cell_type": "code",
   "execution_count": 14,
   "metadata": {},
   "outputs": [
    {
     "data": {
      "text/plain": [
       "{<Flavor.NU_E: 0>: <Quantity [0.00551035, 0.00542931, 0.0053519 , ..., 0.        , 0.        ,\n",
       "            0.        ] MeV / m3>,\n",
       " <Flavor.NU_X: 1>: <Quantity [0.00013987, 0.00014197, 0.00014421, ..., 0.        , 0.        ,\n",
       "            0.        ] MeV / m3>,\n",
       " <Flavor.NU_E_BAR: 2>: <Quantity [0.00324979, 0.00336159, 0.00348274, ..., 0.        , 0.        ,\n",
       "            0.        ] MeV / m3>,\n",
       " <Flavor.NU_X_BAR: 3>: <Quantity [0.00011894, 0.00012073, 0.00012264, ..., 0.        , 0.        ,\n",
       "            0.        ] MeV / m3>}"
      ]
     },
     "execution_count": 14,
     "metadata": {},
     "output_type": "execute_result"
    }
   ],
   "source": [
    "sim.E_per_V"
   ]
  },
  {
   "cell_type": "code",
   "execution_count": null,
   "metadata": {},
   "outputs": [],
   "source": [
    "dt = 1 * u.ms\n",
    "sasi_wind = [140, 300] * u.ms\n",
    "ana_wind = [160, 275] * u.ms"
   ]
  },
  {
   "cell_type": "code",
   "execution_count": null,
   "metadata": {},
   "outputs": [],
   "source": [
    "#average background given by the mean of the sensor distribution and scaled to the full detector\n",
    "ba_ic86 = (sim.detector.n_i3_doms*sim.detector.i3_dom_bg_mu + sim.detector.n_dc_doms*sim.detector.dc_dom_bg_mu)*dt/(1*u.s)\n",
    "ba_gen2 = (sim.detector.n_i3_doms*sim.detector.i3_dom_bg_mu + sim.detector.n_dc_doms*sim.detector.dc_dom_bg_mu + sim.detector.n_md*sim.detector.md_bg_mu)*dt/(1*u.s)"
   ]
  },
  {
   "cell_type": "code",
   "execution_count": null,
   "metadata": {},
   "outputs": [],
   "source": [
    "def signal_processing(sim, dt, distance, trials, minmax_window=None, dist = skewnorm, sig_method='pdf_median',\n",
    "                      return_raw=False,\n",
    "                      return_deviation=False, \n",
    "                      return_percentage=False, \n",
    "                      return_max_percentage=False,\n",
    "                      return_significance=False):\n",
    "    \n",
    "    if minmax_window == None:\n",
    "        minmax_window = get_binning(sim, dt)\n",
    "    \n",
    "    # scale simulation with distance\n",
    "    sim.scale_result(distance=distance)\n",
    "    \n",
    "    sa_gen2, sa_ic86 = get_average_signal(sim, dt=dt, distance=distance)\n",
    "    \n",
    "    # time and signal realization for each detector component\n",
    "    t, s_i3 = sim.detector_hits(dt=dt, subdetector='i3', size=trials)\n",
    "    t, s_dc = sim.detector_hits(dt=dt, subdetector='dc', size=trials)\n",
    "    t, s_md = sim.detector_hits(dt=dt, subdetector='md', size=trials)\n",
    "    #t, s_ws = sim.detector_hits(dt=dt, subdetector='ws')\n",
    "    t = t.to(u.ms)\n",
    "\n",
    "    # random background realization\n",
    "    b_i3 = sim.detector.i3_bg(dt=dt, size=s_i3.shape[1]*trials)\n",
    "    b_dc = sim.detector.dc_bg(dt=dt, size=s_dc.shape[1]*trials)\n",
    "    b_md = sim.detector.md_bg(dt=dt, size=s_md.shape[1]*trials)\n",
    "    #b_ws = sim.detector.ws_bg(dt=dt, size=len(s_ws)*trials)\n",
    "    \n",
    "    # reshape background\n",
    "    b_i3 = b_i3.reshape(trials,s_i3.shape[1])\n",
    "    b_dc = b_dc.reshape(trials,s_dc.shape[1])\n",
    "    b_md = b_md.reshape(trials,s_md.shape[1])\n",
    "\n",
    "    ### SIGNAL TRIALS ###\n",
    "    s_ic86 = s_i3 + s_dc\n",
    "    s_gen2 = s_i3 + s_dc + s_md\n",
    "    b_ic86 = b_i3 + b_dc\n",
    "    b_gen2 = b_i3 + b_dc + b_md\n",
    "\n",
    "    # combined signal S: signal + background\n",
    "    S_ic86 = s_ic86 + b_ic86\n",
    "    S_gen2 = s_gen2 + b_gen2\n",
    "\n",
    "    # background subtraction Sb: signal + background - average background\n",
    "    Sb_ic86 = S_ic86 - ba_ic86\n",
    "    Sb_gen2 = S_gen2 - ba_gen2\n",
    "    \n",
    "    # deviation Sd: signal + background - average background - average signal\n",
    "    Sd_ic86 = Sb_ic86 - sa_ic86\n",
    "    Sd_gen2 = Sb_gen2 - sa_gen2\n",
    "\n",
    "    # percentage deviation Sp: (signal + background - average background)/average signal\n",
    "    Sp_ic86 = (Sb_ic86/sa_ic86)-1\n",
    "    Sp_gen2 = (Sb_gen2/sa_gen2)-1\n",
    "    \n",
    "    Sm_ic86 = min_max_in_window(Sp_ic86[:,np.logical_and(t>=ana_wind[0], t<=ana_wind[1])], window=minmax_window)\n",
    "    Sm_gen2 = min_max_in_window(Sp_gen2[:,np.logical_and(t>=ana_wind[0], t<=ana_wind[1])], window=minmax_window)\n",
    "\n",
    "    ### BACKGROUND TRIALS ###\n",
    "    # combined signal S: average signal + background\n",
    "    B_ic86 = sa_ic86 + b_ic86\n",
    "    B_gen2 = sa_gen2 + b_gen2\n",
    "\n",
    "    # background subtraction Sb: average signal + background - average background\n",
    "    Bb_ic86 = B_ic86 - ba_ic86\n",
    "    Bb_gen2 = B_gen2 - ba_gen2\n",
    "\n",
    "    # deviation Sd: average signal + background - average background - average signal = background - average background\n",
    "    Bd_ic86 = b_ic86 - ba_ic86\n",
    "    Bd_gen2 = b_gen2 - ba_gen2\n",
    "\n",
    "    # percentage deviation Sp: (average signal + background - average background)/average signal\n",
    "    Bp_ic86 = (Bb_ic86/sa_ic86)-1\n",
    "    Bp_gen2 = (Bb_gen2/sa_gen2)-1\n",
    "    \n",
    "    Bm_ic86 = min_max_in_window(Bp_ic86[:,np.logical_and(t>=ana_wind[0], t<=ana_wind[1])], window=minmax_window)\n",
    "    Bm_gen2 = min_max_in_window(Bp_gen2[:,np.logical_and(t>=ana_wind[0], t<=ana_wind[1])], window=minmax_window)\n",
    "    \n",
    "    \n",
    "    ### SIGNIFICANCE ###\n",
    "    if sig_method == 'weighted_difference':\n",
    "    # Defined as difference between the mean of the signal and background distribution devided by the square root\n",
    "    # of the sum of the variance of the two distributions\n",
    "        Z_ic86 = np.abs(Sm_ic86.mean()-Bm_ic86.mean())/np.sqrt(Sm_ic86.std()**2+Bm_ic86.std()**2)\n",
    "        Z_gen2 = np.abs(Sm_gen2.mean()-Bm_gen2.mean())/np.sqrt(Sm_gen2.std()**2+Bm_gen2.std()**2)\n",
    "    elif sig_method == 'pdf_median':\n",
    "    # take the median of the signal trials and compute the corresponding p-value/significance from the bkg distribution\n",
    "        # background fit parameters\n",
    "        Bfp_ic86 = dist.fit(Bm_ic86)\n",
    "        Bfp_gen2 = dist.fit(Bm_gen2)\n",
    "\n",
    "        # fitted background distribution\n",
    "        Bf_ic86 = dist(*Bfp_ic86)\n",
    "        Bf_gen2 = dist(*Bfp_gen2)\n",
    "\n",
    "        p_gen2 = Bf_gen2.sf(np.median(Sm_gen2))\n",
    "        p_ic86 = Bf_ic86.sf(np.median(Sm_ic86))\n",
    "\n",
    "        # two-sided Z score corresponding to the respective p-value, survival probability = 1 - cdf\n",
    "        Z_ic86 = norm.isf(p_ic86/2)\n",
    "        Z_gen2 = norm.isf(p_gen2/2)\n",
    "\n",
    "    if return_raw:\n",
    "        return t, s_gen2, sa_gen2, b_gen2, s_ic86, sa_ic86, b_ic86\n",
    "    \n",
    "    if return_deviation:\n",
    "        return t, Sd_gen2, Sd_ic86, Bd_gen2, Bd_ic86\n",
    "    \n",
    "    if return_percentage:\n",
    "        return t, Sp_gen2, Sp_ic86, Bp_gen2, Bp_ic86\n",
    "    \n",
    "    if return_max_percentage:\n",
    "        return t, Sm_gen2, Sm_ic86, Bm_gen2, Bm_ic86\n",
    "    \n",
    "    if return_significance:\n",
    "        return Z_gen2, Z_ic86"
   ]
  },
  {
   "cell_type": "code",
   "execution_count": null,
   "metadata": {},
   "outputs": [],
   "source": [
    "t, s_gen2, sa_gen2, b_gen2, s_ic86, sa_ic86, b_ic86 = signal_processing(sim, dt=dt, distance=10*u.kpc, trials=10000, return_raw=True)\n",
    "\n",
    "fig, ax = plt.subplots(1,2, figsize = (10,4))\n",
    "ax[0].step(t,s_gen2[0], color = 'C0', ls = '-', label=r'S$_{Gen2}$')\n",
    "ax[0].step(t,sa_gen2, color = 'blue', ls = '--', label=r'$\\overline{S}_{Gen2}$')\n",
    "ax[0].step(t,b_gen2[0], color = 'C0', ls = ':', label=r'B$_{Gen2}$')\n",
    "ax[0].axhline(ba_gen2, color = 'blue', ls = '-.', label=r'$\\overline{B}_{Gen2}$')\n",
    "ax[1].step(t,s_ic86[0], color = 'C1', ls = '-', label=r'S$_{IC86}$')\n",
    "ax[1].step(t,sa_ic86, color = 'orange', ls = '--', label=r'$\\overline{S}_{IC86}$')\n",
    "ax[1].step(t,b_ic86[0], color = 'C1', ls = ':', label=r'B$_{Gen2}$')\n",
    "ax[1].axhline(ba_ic86, color = 'orange', ls = '-.', label=r'$\\overline{B}_{IC86}$')\n",
    "ax[0].set_xlabel('Time [ms]')\n",
    "ax[0].set_ylabel('Counts/bin')\n",
    "ax[0].set_xlim(0,350)\n",
    "ax[0].legend(loc = 'upper left')\n",
    "ax[1].set_xlabel('Time [ms]')\n",
    "ax[1].set_ylabel('Counts/bin')\n",
    "ax[1].set_xlim(0,350)\n",
    "ax[1].legend(loc = 'upper left')\n",
    "plt.tight_layout()"
   ]
  },
  {
   "cell_type": "code",
   "execution_count": null,
   "metadata": {},
   "outputs": [],
   "source": [
    "t, Sp_gen2, Sp_ic86, Bp_gen2, Bp_ic86 = signal_processing(sim, dt=dt, distance=10*u.kpc, trials=10, return_percentage=True)\n",
    "\n",
    "fig, ax = plt.subplots(1,2, figsize = (10,4))\n",
    "ax[0].step(t,Sp_gen2[0], color = 'C0', ls = '-', label=r'$(S+B-\\overline{B})/\\overline{S}\\mid_{Gen2}$')\n",
    "ax[0].step(t,Bp_gen2[0], color = 'C0', ls = ':', label=r'$(\\overline{S}+B-\\overline{B})/\\overline{S}\\mid_{Gen2}$')\n",
    "ax[1].step(t,Sp_ic86[0], color = 'C1', ls = '-', label=r'$(S+B-\\overline{B})/\\overline{S}\\mid_{IC86}$')\n",
    "ax[1].step(t,Bp_ic86[0], color = 'C1', ls = ':', label=r'$(\\overline{S}+B-\\overline{B})/\\overline{S}\\mid_{IC86}$')\n",
    "ax[0].set_xlabel('Time [ms]')\n",
    "ax[0].set_ylabel('Counts/bin')\n",
    "ax[0].set_xlim(0,350)\n",
    "ax[0].set_ylim(-0.5,0.5)\n",
    "ax[0].legend(loc = 'upper left')\n",
    "ax[1].set_xlabel('Time [ms]')\n",
    "ax[1].set_ylabel('Counts/bin')\n",
    "ax[1].set_xlim(0,350)\n",
    "ax[1].set_ylim(-0.5,0.5)\n",
    "ax[1].legend(loc = 'upper left')\n",
    "plt.tight_layout()"
   ]
  },
  {
   "cell_type": "code",
   "execution_count": null,
   "metadata": {},
   "outputs": [],
   "source": [
    "t, Sm_gen2, Sm_ic86, Bm_gen2, Bm_ic86 = signal_processing(sim, dt=dt, distance=10*u.kpc, trials=10000, minmax_window=10, return_max_percentage=True)\n",
    "plt.hist(Sm_gen2*100, bins = 50, histtype='step', color = 'C0', ls = '-', label=r'T$_{S,Gen2}$')\n",
    "plt.hist(Bm_gen2*100, bins = 50, histtype='step', color = 'C0', ls = '--', label=r'T$_{B,Gen2}$')\n",
    "plt.hist(Sm_ic86*100, bins = 50, histtype='step', color = 'C1', ls = '-', label=r'T$_{S,IC86}$')\n",
    "plt.hist(Bm_ic86*100, bins = 50, histtype='step', color = 'C1', ls = '--', label=r'T$_{B,IC86}$')\n",
    "plt.xlabel('max. percentage variation [%] in SASI period')\n",
    "plt.ylabel('events')\n",
    "#plt.xlim(0,100)\n",
    "plt.legend()\n",
    "plt.tight_layout()"
   ]
  },
  {
   "cell_type": "code",
   "execution_count": null,
   "metadata": {},
   "outputs": [],
   "source": [
    "distances = np.arange(1,21,1) * u.kpc\n",
    "trials = 10000\n",
    "Sm_gen2, Sm_ic86, Bm_gen2, Bm_ic86, Z_gen2, Z_ic86 = [], [], [], [], [], []\n",
    "for d in distances:\n",
    "    print('distance {:.0f}'.format(d))\n",
    "    t, sm_gen2, sm_ic86, bm_gen2, bm_ic86 = signal_processing(sim, dt=dt, distance=d, trials=trials,\n",
    "                                                            minmax_window=10, return_max_percentage=True)\n",
    "    z_gen2, z_ic86 =  signal_processing(sim, dt=dt, distance=d, trials=trials, minmax_window=10, \n",
    "                                        return_significance=True) \n",
    "    \n",
    "    Sm_gen2.append([np.median(sm_gen2), np.quantile(sm_gen2, 0.14), np.quantile(sm_gen2, 0.86)])\n",
    "    Sm_ic86.append([np.median(sm_ic86), np.quantile(sm_ic86, 0.14), np.quantile(sm_ic86, 0.86)])\n",
    "    Bm_gen2.append([np.median(bm_gen2), np.quantile(bm_gen2, 0.14), np.quantile(bm_gen2, 0.86)])\n",
    "    Bm_ic86.append([np.median(bm_ic86), np.quantile(bm_ic86, 0.14), np.quantile(bm_ic86, 0.86)])\n",
    "    \n",
    "    Z_gen2.append(z_gen2)\n",
    "    Z_ic86.append(z_ic86)\n",
    "    \n",
    "Sm_gen2 = np.array(Sm_gen2)*100\n",
    "Sm_ic86 = np.array(Sm_ic86)*100\n",
    "Bm_gen2 = np.array(Bm_gen2)*100\n",
    "Bm_ic86 = np.array(Bm_ic86)*100\n",
    "Z_gen2 = np.array(Z_gen2)\n",
    "Z_ic86 = np.array(Z_ic86)"
   ]
  },
  {
   "cell_type": "code",
   "execution_count": null,
   "metadata": {},
   "outputs": [],
   "source": [
    "fig, ax = plt.subplots(1,2, figsize = (10,4))\n",
    "\n",
    "ax[0].errorbar(x=distances, y=Sm_gen2.T[0],yerr=(Sm_gen2.T[0]-Sm_gen2.T[1],Sm_gen2.T[2]-Sm_gen2.T[0]), capsize=4, color = 'C0', label=r'S$_{Gen2}$')\n",
    "ax[0].errorbar(x=distances, y=Sm_ic86.T[0],yerr=(Sm_ic86.T[0]-Sm_ic86.T[1],Sm_ic86.T[2]-Sm_ic86.T[0]), capsize=4, color = 'C1', label=r'S$_{IC86}$')\n",
    "ax[0].errorbar(x=distances, y=Bm_gen2.T[0],yerr=(Bm_gen2.T[0]-Bm_gen2.T[1],Bm_gen2.T[2]-Bm_gen2.T[0]), capsize=4, color = 'C0', ls = ':', label=r'B$_{Gen2}$')\n",
    "ax[0].errorbar(x=distances, y=Bm_ic86.T[0],yerr=(Bm_ic86.T[0]-Bm_ic86.T[1],Bm_ic86.T[2]-Bm_ic86.T[0]), capsize=4, color = 'C1', ls = ':', label=r'B$_{IC86}$')\n",
    "ax[0].set_xlabel('Distance d [kpc]')\n",
    "ax[0].set_ylabel('max. percentage variation during SASI period [%]')\n",
    "ax[0].set_xlim((0,20))\n",
    "#ax[0].set_ylim((0,20))\n",
    "ax[0].legend()\n",
    "\n",
    "ax[1].plot(distances, Z_gen2, color = 'C0', label=r'$\\zeta_{Gen2}$')\n",
    "ax[1].plot(distances, Z_ic86, color = 'C1', label=r'$\\zeta_{IC86}$')\n",
    "ax[1].axhline(3, color='k', ls = ':', label = '3$\\sigma$')\n",
    "ax[1].set_xlabel('Distance d [kpc]')\n",
    "ax[1].set_ylabel('significance $\\zeta$')\n",
    "#ax[1].set_xlim((0,20))\n",
    "#ax[1].set_xscale('log')\n",
    "ax[1].set_yscale('log')\n",
    "ax[1].legend()\n",
    "#if include_wls:\n",
    "#    plt.savefig('results_amplitude_IC86+Gen2+WLS_{:.0E}_trials.png'.format(trials))\n",
    "#else:\n",
    "#    plt.savefig('results_amplitude_IC86+Gen2_{:.0E}_trials.png'.format(trials))\n",
    "\n",
    "plt.tight_layout()"
   ]
  },
  {
   "cell_type": "code",
   "execution_count": null,
   "metadata": {},
   "outputs": [],
   "source": [
    "#import pickle\n",
    "#data = [distances, Sm_gen2, Sm_ic86, Bm_gen2, Bm_ic86, Z_gen2, Z_ic86]\n",
    "#if include_wls:\n",
    "#    file = open('results_amplitude_IC86+Gen2+WLS_{:.0E}_trials.pkl'.format(trials), 'wb')\n",
    "#else:\n",
    "#    file = open('results_amplitude_IC86+Gen2_{:.0E}_trials.pkl'.format(trials), 'wb')\n",
    "#pickle.dump(data,file)"
   ]
  },
  {
   "cell_type": "code",
   "execution_count": null,
   "metadata": {},
   "outputs": [],
   "source": [
    "#file = open('results_amplitude_IC86+Gen2_{:.0E}_trials.pkl'.format(trials), 'wb')\n",
    "#pickle.dump(data,file)"
   ]
  },
  {
   "cell_type": "code",
   "execution_count": null,
   "metadata": {},
   "outputs": [],
   "source": [
    "#file = open('results_amplitude_IC86+Gen2_{:.0E}_trials.pkl'.format(trials), 'rb')"
   ]
  },
  {
   "cell_type": "code",
   "execution_count": null,
   "metadata": {},
   "outputs": [],
   "source": [
    "include_wls"
   ]
  },
  {
   "cell_type": "code",
   "execution_count": null,
   "metadata": {},
   "outputs": [],
   "source": []
  }
 ],
 "metadata": {
  "kernelspec": {
   "display_name": "Python 3 (ipykernel)",
   "language": "python",
   "name": "python3"
  },
  "language_info": {
   "codemirror_mode": {
    "name": "ipython",
    "version": 3
   },
   "file_extension": ".py",
   "mimetype": "text/x-python",
   "name": "python",
   "nbconvert_exporter": "python",
   "pygments_lexer": "ipython3",
   "version": "3.8.10"
  }
 },
 "nbformat": 4,
 "nbformat_minor": 4
}
