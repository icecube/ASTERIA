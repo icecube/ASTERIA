{
 "cells": [
  {
   "cell_type": "markdown",
   "metadata": {},
   "source": [
    "## Amplitude analysis"
   ]
  },
  {
   "cell_type": "code",
   "execution_count": 1,
   "metadata": {
    "scrolled": true
   },
   "outputs": [
    {
     "name": "stdout",
     "output_type": "stream",
     "text": [
      "env: ASTERIA=/home/jakob/software/ASTERIA/ASTERIA\n"
     ]
    },
    {
     "name": "stderr",
     "output_type": "stream",
     "text": [
      "/usr/local/lib/python3.8/dist-packages/tqdm-4.65.0-py3.8.egg/tqdm/auto.py:21: TqdmWarning: IProgress not found. Please update jupyter and ipywidgets. See https://ipywidgets.readthedocs.io/en/stable/user_install.html\n",
      "  from .autonotebook import tqdm as notebook_tqdm\n"
     ]
    }
   ],
   "source": [
    "%env ASTERIA=/home/jakob/software/ASTERIA/ASTERIA\n",
    "from asteria.simulation import Simulation\n",
    "import astropy.units as u\n",
    "import numpy as np\n",
    "import matplotlib.pyplot as plt\n",
    "from scipy.signal import fftconvolve as convolve\n",
    "from scipy.stats import norm, chi2"
   ]
  },
  {
   "cell_type": "code",
   "execution_count": 12,
   "metadata": {},
   "outputs": [],
   "source": [
    "include_wls = False"
   ]
  },
  {
   "cell_type": "code",
   "execution_count": 13,
   "metadata": {},
   "outputs": [],
   "source": [
    "def moving_average(a, n=3, zero_padding = False, const_padding = False):\n",
    "    if zero_padding:\n",
    "        ind = np.arange(n-1)\n",
    "        a = np.insert(a, ind, np.zeros(n-1))\n",
    "        a = np.roll(a, -int((n-1)/2))\n",
    "    if const_padding:\n",
    "        if n%2 != 1:\n",
    "            ind1 = np.arange((n-1)/2).astype(int)\n",
    "            ind2 = -np.arange(1,(n-1)/2).astype(int)\n",
    "            a = np.insert(a, ind1, np.ones(int((n/2)))*a[0])\n",
    "            a = np.insert(a, ind2, np.ones(int((n-1)/2))*a[-1])\n",
    "        else:\n",
    "            ind1 = np.arange((n-1)/2).astype(int)\n",
    "            ind2 = -np.arange(1,(n+1)/2).astype(int)\n",
    "            a = np.insert(a, ind1, np.ones(int((n-1)/2))*a[0])\n",
    "            a = np.insert(a, ind2, np.ones(int((n-1)/2))*a[-1])\n",
    "    ret = np.cumsum(a, dtype=float)\n",
    "    ret[n:] = ret[n:] - ret[:-n]\n",
    "    return ret[n - 1:] / n"
   ]
  },
  {
   "cell_type": "code",
   "execution_count": 4,
   "metadata": {},
   "outputs": [],
   "source": [
    "#Returns binning needed to resolve a frequency.\n",
    "def get_binning(sim, dt, frequency=80*u.Hz): \n",
    "    duration = sim.time[-1]-sim.time[0]\n",
    "    samples = (duration/dt.to(u.s)).value\n",
    "    return int((1/frequency*samples/duration).value) #binning needed to filter out sinals with f>f_lb_sasi"
   ]
  },
  {
   "cell_type": "code",
   "execution_count": 5,
   "metadata": {},
   "outputs": [],
   "source": [
    "def get_template(frequency,n_period, binning):\n",
    "    frequency, binning = frequency.value, binning.to(u.s).value\n",
    "    duration = 1/frequency * n_period\n",
    "    x = np.arange(0,duration+binning,binning)\n",
    "    template = np.sin(frequency*x*2*np.pi)\n",
    "    return x, template"
   ]
  },
  {
   "cell_type": "code",
   "execution_count": 6,
   "metadata": {},
   "outputs": [],
   "source": [
    "# Binning of the moving average filter defined by the Nyquist frequency of the SASI modulation\n",
    "# If the sampling was to be finer the binning could be done finer, however this comes at the expense of lower\n",
    "# statistics. Therefore we keep the sampling rate at 1 ms.\n",
    "\n",
    "def get_average_signal(sim, dt, distance, frequency=80*u.Hz):\n",
    "    binning = get_binning(sim, dt, frequency)\n",
    "\n",
    "    #detector_signal s0 is not drawn from distribution\n",
    "    t, s0_i3 = sim.detector_signal(dt=dt, subdetector='i3')\n",
    "    t, s0_dc = sim.detector_signal(dt=dt, subdetector='dc')\n",
    "    t, s0_md = sim.detector_signal(dt=dt, subdetector='md')\n",
    "\n",
    "    s0_ic86 = s0_i3 + s0_dc\n",
    "    s0_gen2 = s0_i3 + s0_dc + s0_md\n",
    "    t = t.to(u.ms)\n",
    "\n",
    "    #averaged signal sa binning size defined by the Nyquist frequency of the SASI modulation and constant padding\n",
    "    sa_ic86 = moving_average(s0_ic86, n=binning, const_padding=True)\n",
    "    sa_gen2 = moving_average(s0_gen2, n=binning, const_padding=True)\n",
    "    \n",
    "    return sa_gen2, sa_ic86"
   ]
  },
  {
   "cell_type": "code",
   "execution_count": 7,
   "metadata": {},
   "outputs": [],
   "source": [
    "# Return the critical value of a KS test given an alpha value (1-p value)\n",
    "def crit_value_from_alpha(alpha):\n",
    "    return np.sqrt(-np.log(alpha/2)*1/2)"
   ]
  },
  {
   "cell_type": "code",
   "execution_count": 8,
   "metadata": {},
   "outputs": [],
   "source": [
    "# Return the alpha value (1-p value) given a critical value of a KS test\n",
    "def alpha_from_crit_value(crit_value):\n",
    "    return 2*np.exp(-2*crit_value**2)"
   ]
  },
  {
   "cell_type": "code",
   "execution_count": 14,
   "metadata": {},
   "outputs": [],
   "source": [
    "dt = 0.1*u.ms # highest frequency in Tamborra 2014 model\n",
    "\n",
    "model = {'name': 'Tamborra_2014',\n",
    "         'param':{\n",
    "             'progenitor_mass': 20*u.Msun}\n",
    "         }\n",
    "sim = Simulation(model=model,\n",
    "                 distance=10* u.kpc, \n",
    "                 Emin=0*u.MeV, Emax=100*u.MeV, dE=1*u.MeV,\n",
    "                 tmin=0.006*u.s, tmax=0.338*u.s, dt=dt,\n",
    "                 hierarchy = 'normal',\n",
    "                 mixing_scheme = 'NoTransformation',\n",
    "                 geomscope = 'Gen2',\n",
    "                 include_wls = include_wls)\n",
    "sim.run()"
   ]
  },
  {
   "cell_type": "code",
   "execution_count": null,
   "metadata": {
    "scrolled": true
   },
   "outputs": [],
   "source": [
    "for flavor in sim.flavors:\n",
    "    plt.plot(sim.time, sim.E_per_V[flavor], label=flavor.name)\n",
    "plt.legend()\n",
    "ax = plt.gca()\n",
    "ax.set(xlabel=r't-t$_{bounce}$ [s]', ylabel='Energy Deposition [Mev m$^{-3}$])', xlim=(0.006, 0.338))\n",
    "ax.grid()"
   ]
  },
  {
   "cell_type": "code",
   "execution_count": 15,
   "metadata": {},
   "outputs": [],
   "source": [
    "dt = 1 * u.ms\n",
    "sasi_wind = [140, 300] * u.ms\n",
    "ana_wind = [160, 275] * u.ms"
   ]
  },
  {
   "cell_type": "code",
   "execution_count": 9,
   "metadata": {},
   "outputs": [],
   "source": [
    "#average background given by the mean of the sensor distribution and scaled to the full detector\n",
    "ba_ic86 = (sim.detector.n_i3_doms*sim.detector.i3_dom_bg_mu + sim.detector.n_dc_doms*sim.detector.dc_dom_bg_mu)*dt/(1*u.s)\n",
    "ba_gen2 = (sim.detector.n_i3_doms*sim.detector.i3_dom_bg_mu + sim.detector.n_dc_doms*sim.detector.dc_dom_bg_mu + sim.detector.n_md*sim.detector.md_bg_mu)*dt/(1*u.s)"
   ]
  },
  {
   "cell_type": "code",
   "execution_count": 16,
   "metadata": {},
   "outputs": [],
   "source": [
    "def signal_processing(sim, dt, distance, trials, method = None, pearson_binning=100, \n",
    "                      return_raw=False,\n",
    "                      return_deviation=False, \n",
    "                      return_percentage=False,\n",
    "                      return_correlation=False,\n",
    "                      return_max_correlation=False,\n",
    "                      return_dist=False,\n",
    "                      return_alpha=False,\n",
    "                      return_significance=False):\n",
    "         \n",
    "    # scale simulation with distance\n",
    "    sim.scale_result(distance=distance)\n",
    "    \n",
    "    sa_gen2, sa_ic86 = get_average_signal(sim, dt=dt, distance=distance)\n",
    "    \n",
    "    # time and signal realization for each detector component\n",
    "    t, s_i3 = sim.detector_hits(dt=dt, subdetector='i3', size=trials)\n",
    "    t, s_dc = sim.detector_hits(dt=dt, subdetector='dc', size=trials)\n",
    "    t, s_md = sim.detector_hits(dt=dt, subdetector='md', size=trials)\n",
    "    #t, s_ws = sim.detector_hits(dt=dt, subdetector='ws')\n",
    "    t = t.to(u.ms)\n",
    "\n",
    "    # random background realization\n",
    "    b_i3 = sim.detector.i3_bg(dt=dt, size=s_i3.shape[1]*trials)\n",
    "    b_dc = sim.detector.dc_bg(dt=dt, size=s_dc.shape[1]*trials)\n",
    "    b_md = sim.detector.md_bg(dt=dt, size=s_md.shape[1]*trials)\n",
    "    #b_ws = sim.detector.ws_bg(dt=dt, size=len(s_ws)*trials)\n",
    "    \n",
    "    # reshape background\n",
    "    b_i3 = b_i3.reshape(trials,s_i3.shape[1])\n",
    "    b_dc = b_dc.reshape(trials,s_dc.shape[1])\n",
    "    b_md = b_md.reshape(trials,s_md.shape[1])\n",
    "\n",
    "    ### SIGNAL TRIALS ###\n",
    "    s_ic86 = s_i3 + s_dc\n",
    "    s_gen2 = s_i3 + s_dc + s_md\n",
    "    b_ic86 = b_i3 + b_dc\n",
    "    b_gen2 = b_i3 + b_dc + b_md\n",
    "\n",
    "    # combined signal S: signal + background\n",
    "    S_ic86 = s_ic86 + b_ic86\n",
    "    S_gen2 = s_gen2 + b_gen2\n",
    "\n",
    "    # background subtraction Sb: signal + background - average background\n",
    "    Sb_ic86 = S_ic86 - ba_ic86\n",
    "    Sb_gen2 = S_gen2 - ba_gen2\n",
    "    \n",
    "    # deviation Sd: signal + background - average background - average signal\n",
    "    Sd_ic86 = Sb_ic86 - sa_ic86\n",
    "    Sd_gen2 = Sb_gen2 - sa_gen2\n",
    "\n",
    "    # percentage deviation Sp: (signal + background - average background)/average signal\n",
    "    Sp_ic86 = (Sb_ic86/sa_ic86)-1\n",
    "    Sp_gen2 = (Sb_gen2/sa_gen2)-1\n",
    "        \n",
    "    # analysis window mask\n",
    "    tmask = np.logical_and(t>=ana_wind[0], t<=ana_wind[1])\n",
    "    \n",
    "    # generate template of same shape in dimension 0 as data to convolve with\n",
    "    t_template, template = get_template(frequency=80*u.Hz, n_period=8, binning=dt)\n",
    "    template = np.repeat(template,repeats=trials)\n",
    "    template = template.reshape(trials,-1)\n",
    "\n",
    "    # cross correlation in analysis window, negative sign applied such that scipy.signal.fftconvolve returns same \n",
    "    # sign than np.correlate\n",
    "    Sc_ic86 = -convolve(Sp_ic86[:,tmask], template, mode='same', axes=-1)\n",
    "    Sc_gen2 = -convolve(Sp_gen2[:,tmask], template, mode='same', axes=-1)\n",
    "\n",
    "    # maximum cross correlation\n",
    "    Sm_ic86 = np.nanmax(Sc_ic86, axis=-1)\n",
    "    Sm_gen2 = np.nanmax(Sc_gen2, axis=-1)\n",
    "\n",
    "    ### BACKGROUND TRIALS ###\n",
    "    # combined signal S: average signal + background\n",
    "    B_ic86 = sa_ic86 + b_ic86\n",
    "    B_gen2 = sa_gen2 + b_gen2\n",
    "\n",
    "    # background subtraction Sb: average signal + background - average background\n",
    "    Bb_ic86 = B_ic86 - ba_ic86\n",
    "    Bb_gen2 = B_gen2 - ba_gen2\n",
    "\n",
    "    # deviation Sd: average signal + background - average background - average signal = background - average background\n",
    "    Bd_ic86 = b_ic86 - ba_ic86\n",
    "    Bd_gen2 = b_gen2 - ba_gen2\n",
    "\n",
    "    # percentage deviation Sp: (average signal + background - average background)/average signal\n",
    "    Bp_ic86 = (Bb_ic86/sa_ic86)-1\n",
    "    Bp_gen2 = (Bb_gen2/sa_gen2)-1\n",
    "    \n",
    "    # cross correlation in analysis window\n",
    "    Bc_ic86 = convolve(Bp_ic86[:,tmask], template, mode='same', axes=-1)\n",
    "    Bc_gen2 = convolve(Bp_gen2[:,tmask], template, mode='same', axes=-1)\n",
    "\n",
    "    # maximum cross correlation\n",
    "    Bm_ic86 = np.nanmax(Bc_ic86, axis=-1)\n",
    "    Bm_gen2 = np.nanmax(Bc_gen2, axis=-1)\n",
    "    \n",
    "    ### SIGNIFICANCE ###\n",
    "    \n",
    "    if method == 'KS':\n",
    "    # Method 1: Kolmogorov-Smirnov Test: Histogram Bm and Sm, H_Bm and H_Sm, with binning \n",
    "    # m = len(H_Bm) and n = len(H_Sm). Compute the CDF\n",
    "    \n",
    "        # computed to get the range of the histogram fixed for all four histograms for a given distance\n",
    "        comb_data = np.hstack((Sm_ic86, Bm_ic86, Sm_gen2, Bm_gen2))\n",
    "        rmin, rmax = np.min(comb_data), np.max(comb_data)\n",
    "\n",
    "        # normalized histogram = PDF\n",
    "        Spdf_ic86, bins = np.histogram(Sm_ic86, bins = 100, density=True, range = [rmin,rmax])\n",
    "        Bpdf_ic86, bins = np.histogram(Bm_ic86, bins = 100, density=True, range = [rmin,rmax])\n",
    "        Spdf_gen2, bins = np.histogram(Sm_gen2, bins = 100, density=True, range = [rmin,rmax])\n",
    "        Bpdf_gen2, bins = np.histogram(Bm_gen2, bins = 100, density=True, range = [rmin,rmax])\n",
    "\n",
    "        # histgram x values\n",
    "        x = (bins[1:]+bins[:-1])/2\n",
    "\n",
    "        # number of samples (binning of histogram)\n",
    "        n_ic86 = len(Bpdf_ic86)\n",
    "        m_ic86 = len(Spdf_ic86)\n",
    "        n_gen2 = len(Bpdf_gen2)\n",
    "        m_gen2 = len(Spdf_gen2)\n",
    "\n",
    "        mn_ic86 = (m_ic86+n_ic86)/(m_ic86*n_ic86)\n",
    "        mn_gen2 = (m_gen2+n_gen2)/(m_gen2*n_gen2)\n",
    "\n",
    "        # cumulated histogram = CDF\n",
    "        Scdf_gen2 = np.cumsum(Spdf_gen2)/np.sum(Spdf_gen2)\n",
    "        Bcdf_gen2 = np.cumsum(Bpdf_gen2)/np.sum(Bpdf_gen2)\n",
    "        Scdf_ic86 = np.cumsum(Spdf_ic86)/np.sum(Spdf_ic86)\n",
    "        Bcdf_ic86 = np.cumsum(Bpdf_ic86)/np.sum(Bpdf_ic86)\n",
    "\n",
    "        # largest difference between the signal and background CDF\n",
    "        D_ic86 = np.max(np.abs(Bcdf_ic86- Scdf_ic86))\n",
    "        D_gen2 = np.max(np.abs(Bcdf_gen2- Scdf_gen2))\n",
    "\n",
    "        # critical value\n",
    "        cv_ic86 = D_ic86 * np.sqrt(1/mn_ic86)\n",
    "        cv_gen2 = D_gen2 * np.sqrt(1/mn_gen2)\n",
    "\n",
    "        # alpha corresponding to critial value (alpha = 1 - p-value)\n",
    "        alpha_ic86 = alpha_from_crit_value(cv_ic86)\n",
    "        alpha_gen2 = alpha_from_crit_value(cv_gen2)\n",
    "\n",
    "        # two-sided Z score corresponding to the respective p-value (1-alpha)\n",
    "        Z_ic86 = norm.ppf((1+alpha_ic86)/2)\n",
    "        Z_gen2 = norm.ppf((1+alpha_gen2)/2)\n",
    "    \n",
    "    if method == 'Pearson':\n",
    "    #Method 2: Pearson Chi2 Test: Compute chi-square and get p-value from chi2 distribution. For the chi2 we use a\n",
    "    #un-normalized histogram\n",
    "        \n",
    "        # computed to get the range of the histogram fixed for all four histograms for a given distance\n",
    "        comb_data = np.hstack((Sm_ic86, Bm_ic86, Sm_gen2, Bm_gen2))\n",
    "        rmin, rmax = np.min(comb_data), np.max(comb_data)\n",
    "\n",
    "        # histogram\n",
    "        Sh_ic86, bins = np.histogram(Sm_ic86, bins = pearson_binning, density=True, range = [rmin,rmax])\n",
    "        Bh_ic86, bins = np.histogram(Bm_ic86, bins = pearson_binning, density=True, range = [rmin,rmax])\n",
    "        Sh_gen2, bins = np.histogram(Sm_gen2, bins = pearson_binning, density=True, range = [rmin,rmax])\n",
    "        Bh_gen2, bins = np.histogram(Bm_gen2, bins = pearson_binning, density=True, range = [rmin,rmax])\n",
    "        \n",
    "        # histgram x values\n",
    "        x = (bins[1:]+bins[:-1])/2\n",
    "        \n",
    "        # check if count is greater than min count\n",
    "        min_count = 0\n",
    "        MS_ic86 = Sh_ic86 > min_count\n",
    "        MB_ic86 = Bh_ic86 > min_count\n",
    "        MS_gen2 = Sh_gen2 > min_count\n",
    "        MB_gen2 = Bh_gen2 > min_count\n",
    "        \n",
    "        # combine signal and background masks (we need the requirement \n",
    "        # count > min_count to hold true in each distribution)\n",
    "        M_ic86 = np.logical_and(MS_ic86, MB_ic86)\n",
    "        M_gen2 = np.logical_and(MS_gen2, MB_gen2)\n",
    "\n",
    "        # compute the chi2 between the background and signal distribution in the \n",
    "        chi2_ic86 = np.sum((Sh_ic86[M_ic86]-Bh_ic86[M_ic86])**2/Bh_ic86[M_ic86])\n",
    "        chi2_gen2 = np.sum((Sh_gen2[M_gen2]-Bh_gen2[M_gen2])**2/Bh_gen2[M_gen2])\n",
    "        \n",
    "        # cumulated chi2 distribution at position of the above chi2 = alpha = 1-p-value\n",
    "        alpha_ic86 = chi2.cdf(chi2_ic86, df = pearson_binning)\n",
    "        alpha_gen2 = chi2.cdf(chi2_gen2, df = pearson_binning)\n",
    "        \n",
    "        # two-sided Z score corresponding to the respective p-value (1-alpha)\n",
    "        Z_ic86 = norm.ppf((1+alpha_ic86)/2)\n",
    "        Z_gen2 = norm.ppf((1+alpha_gen2)/2)\n",
    "\n",
    "    \n",
    "    if return_raw:\n",
    "        return t, s_gen2, sa_gen2, b_gen2, s_ic86, sa_ic86, b_ic86\n",
    "    \n",
    "    if return_deviation:\n",
    "        return t, Sd_gen2, Sd_ic86, Bd_gen2, Bd_ic86\n",
    "    \n",
    "    if return_percentage:\n",
    "        return t, Sp_gen2, Sp_ic86, Bp_gen2, Bp_ic86\n",
    "    \n",
    "    if return_correlation:\n",
    "        return t[tmask], Sc_gen2, Sc_ic86, Bc_gen2, Bc_ic86\n",
    "    \n",
    "    if return_max_correlation:\n",
    "        return t, Sm_gen2, Sm_ic86, Bm_gen2, Bm_ic86\n",
    "    \n",
    "    if method == 'KS' and return_dist:\n",
    "        return x, Spdf_gen2, Bpdf_gen2, Spdf_ic86, Bpdf_ic86, Scdf_gen2, Bcdf_gen2, Scdf_ic86, Bcdf_ic86\n",
    "    \n",
    "    if method == 'Pearson' and return_dist:\n",
    "        return x[M_gen2], Sh_gen2[M_gen2], Bh_gen2[M_gen2], x[M_ic86], Sh_ic86[M_ic86], Bh_ic86[M_ic86]\n",
    "    \n",
    "    if method == 'KS' and return_alpha:\n",
    "        return D_gen2, D_ic86, cv_gen2, cv_ic86, alpha_gen2, alpha_ic86\n",
    "    \n",
    "    if method == 'Pearson' and return_alpha:\n",
    "        return chi2_gen2, chi2_ic86, alpha_gen2, alpha_ic86\n",
    "    \n",
    "    if return_significance:\n",
    "        return Z_gen2, Z_ic86"
   ]
  },
  {
   "cell_type": "code",
   "execution_count": null,
   "metadata": {},
   "outputs": [],
   "source": [
    "t, s_gen2, sa_gen2, b_gen2, s_ic86, sa_ic86, b_ic86 = signal_processing(sim, dt=dt, distance=5*u.kpc, trials=10000, return_raw=True)\n",
    "\n",
    "fig, ax = plt.subplots(1,2, figsize = (10,4))\n",
    "ax[0].step(t,s_gen2[0], color = 'C0', ls = '-', label=r'S$_{Gen2}$')\n",
    "ax[0].step(t,sa_gen2, color = 'blue', ls = '--', label=r'$\\overline{S}_{Gen2}$')\n",
    "ax[0].step(t,b_gen2[0], color = 'C0', ls = ':', label=r'B$_{Gen2}$')\n",
    "ax[0].axhline(ba_gen2, color = 'blue', ls = '-.', label=r'$\\overline{B}_{Gen2}$')\n",
    "ax[1].step(t,s_ic86[0], color = 'C1', ls = '-', label=r'S$_{IC86}$')\n",
    "ax[1].step(t,sa_ic86, color = 'orange', ls = '--', label=r'$\\overline{S}_{IC86}$')\n",
    "ax[1].step(t,b_ic86[0], color = 'C1', ls = ':', label=r'B$_{Gen2}$')\n",
    "ax[1].axhline(ba_ic86, color = 'orange', ls = '-.', label=r'$\\overline{B}_{IC86}$')\n",
    "ax[0].set_xlabel('Time [ms]')\n",
    "ax[0].set_ylabel('Counts/bin')\n",
    "ax[0].set_xlim(0,350)\n",
    "ax[0].legend(loc = 'upper left')\n",
    "ax[1].set_xlabel('Time [ms]')\n",
    "ax[1].set_ylabel('Counts/bin')\n",
    "ax[1].set_xlim(0,350)\n",
    "ax[1].legend(loc = 'upper left')\n",
    "plt.tight_layout()"
   ]
  },
  {
   "cell_type": "code",
   "execution_count": 17,
   "metadata": {},
   "outputs": [],
   "source": [
    "t, s_gen2, sa_gen2, b_gen2, s_ic86, sa_ic86, b_ic86 = signal_processing(sim, dt=dt, distance=10*u.kpc, trials=10000, return_raw=True)"
   ]
  },
  {
   "cell_type": "code",
   "execution_count": 11,
   "metadata": {},
   "outputs": [],
   "source": [
    "t, s_wls, sa_wls, b_wls, s_ic86, sa_ic86, b_ic86 = signal_processing(sim, dt=dt, distance=10*u.kpc, trials=10000, return_raw=True)"
   ]
  },
  {
   "cell_type": "code",
   "execution_count": 18,
   "metadata": {},
   "outputs": [
    {
     "data": {
      "image/png": "[encoded data removed]",
      "text/plain": [
       "<Figure size 800x500 with 1 Axes>"
      ]
     },
     "metadata": {},
     "output_type": "display_data"
    }
   ],
   "source": [
    "fig, ax = plt.subplots(1,1, figsize = (8,5))\n",
    "ax.step(t,s_wls[0], color = 'C0', ls = '-', label='Gen2+WLS')\n",
    "ax.step(t,s_gen2[0], color = 'C1', ls = '-', label='Gen2')\n",
    "ax.step(t,s_ic86[0], color = 'C2', ls = '-', label='IceCube')\n",
    "ax.set_xlabel('Time [ms]', fontsize=16)\n",
    "ax.set_ylabel('Counts/bin', fontsize=16)\n",
    "ax.set_xlim(0,350)\n",
    "ax.grid()\n",
    "ax.tick_params(labelsize=16)\n",
    "ax.legend(loc = 'upper left', fontsize=16)\n",
    "plt.tight_layout()"
   ]
  },
  {
   "cell_type": "code",
   "execution_count": null,
   "metadata": {},
   "outputs": [],
   "source": [
    "t, Sp_gen2, Sp_ic86, Bp_gen2, Bp_ic86 = signal_processing(sim, dt=dt, distance=5*u.kpc, trials=10, return_percentage=True)\n",
    "tt, ty = get_template(frequency=80*u.Hz, n_period=8, binning=dt)\n",
    "tt = tt * u.s.to(u.ms)+170\n",
    "ty /= 10\n",
    "fig, ax = plt.subplots(1,2, figsize = (10,4))\n",
    "ax[0].step(t,Sp_gen2[0], color = 'C0', ls = '-', label=r'$(S+B-\\overline{B})/\\overline{S}\\mid_{Gen2}$')\n",
    "ax[0].step(t,Bp_gen2[0], color = 'C0', ls = ':', label=r'$(\\overline{S}+B-\\overline{B})/\\overline{S}\\mid_{Gen2}$')\n",
    "ax[0].plot(tt,ty, color='red', label='template')\n",
    "ax[1].step(t,Sp_ic86[0], color = 'C1', ls = '-', label=r'$(S+B-\\overline{B})/\\overline{S}\\mid_{IC86}$')\n",
    "ax[1].step(t,Bp_ic86[0], color = 'C1', ls = ':', label=r'$(\\overline{S}+B-\\overline{B})/\\overline{S}\\mid_{IC86}$')\n",
    "ax[1].plot(tt,ty, color='black', label='template')\n",
    "ax[0].set_xlabel('Time [ms]')\n",
    "ax[0].set_ylabel('Counts/bin')\n",
    "ax[0].set_xlim(0,350)\n",
    "ax[0].set_ylim(-0.5,0.5)\n",
    "ax[0].legend(loc = 'upper left')\n",
    "ax[1].set_xlabel('Time [ms]')\n",
    "ax[1].set_ylabel('Counts/bin')\n",
    "ax[1].set_xlim(0,350)\n",
    "ax[1].set_ylim(-0.5,0.5)\n",
    "ax[1].legend(loc = 'upper left')\n",
    "plt.tight_layout()"
   ]
  },
  {
   "cell_type": "code",
   "execution_count": null,
   "metadata": {},
   "outputs": [],
   "source": [
    "t, Sc_gen2, Sc_ic86, Bc_gen2, Bc_ic86 = signal_processing(sim, dt=dt, distance=3*u.kpc, trials=10, return_correlation=True)\n",
    "\n",
    "fig, ax = plt.subplots(1,2, figsize = (10,4))\n",
    "ax[0].step(t,Sc_gen2[0], color = 'C0', ls = '-', label=r'$CC(T_S)\\mid_{Gen2}$')\n",
    "ax[0].step(t,Bc_gen2[0], color = 'C0', ls = ':', label=r'$CC(T_B)\\mid_{Gen2}$')\n",
    "ax[1].step(t,Sc_ic86[0], color = 'C1', ls = '-', label=r'$CC(T_S)\\mid_{IC86}$')\n",
    "ax[1].step(t,Bc_ic86[0], color = 'C1', ls = ':', label=r'$CC(T_B)\\mid_{IC86}$')\n",
    "ax[0].set_xlabel('Time [ms]')\n",
    "ax[0].set_ylabel('Cross Correlation')\n",
    "ax[0].set_xlim(160,275)\n",
    "ax[0].set_ylim(-1,1)\n",
    "ax[0].legend(loc = 'upper left')\n",
    "ax[1].set_xlabel('Time [ms]')\n",
    "ax[1].set_ylabel('Cross Correlation')\n",
    "ax[1].set_xlim(160,275)\n",
    "ax[1].set_ylim(-1,1)\n",
    "ax[1].legend(loc = 'upper left')\n",
    "plt.tight_layout()"
   ]
  },
  {
   "cell_type": "code",
   "execution_count": null,
   "metadata": {},
   "outputs": [],
   "source": [
    "x, Spdf_gen2, Bpdf_gen2, Spdf_ic86, Bpdf_ic86, Scdf_gen2, Bcdf_gen2, Scdf_ic86, Bcdf_ic86 = signal_processing(\n",
    "    sim, dt=dt, distance=10*u.kpc, trials=10000, method='KS', return_dist=True)\n",
    "\n",
    "fig, ax = plt.subplots(1,2, figsize=(10,4))\n",
    "ax[0].step(x, Spdf_gen2, color = 'C0', ls = '-', label=r'T$_{S,Gen2}$')\n",
    "ax[0].step(x, Bpdf_gen2, color = 'C0', ls = '--', label=r'T$_{B,Gen2}$')\n",
    "ax[0].step(x, Spdf_ic86, color = 'C1', ls = '-', label=r'T$_{S,IC86}$')\n",
    "ax[0].step(x, Bpdf_ic86, color = 'C1', ls = '--', label=r'T$_{B,IC86}$')\n",
    "ax[0].set_xlabel('max. correlation in SASI period [AU]')\n",
    "ax[0].set_ylabel('pdf')\n",
    "ax[0].legend()\n",
    "ax[1].step(x, Scdf_gen2, color = 'C0', ls = '-', label=r'T$_{S,Gen2}$')\n",
    "ax[1].step(x, Bcdf_gen2, color = 'C0', ls = '--', label=r'T$_{B,Gen2}$')\n",
    "ax[1].step(x, Scdf_ic86, color = 'C1', ls = '-', label=r'T$_{S,IC86}$')\n",
    "ax[1].step(x, Bcdf_ic86, color = 'C1', ls = '--', label=r'T$_{B,IC86}$')\n",
    "ax[1].set_xlabel('max. correlation in SASI period [AU]')\n",
    "ax[1].set_ylabel('cdf')\n",
    "ax[1].legend()\n",
    "plt.tight_layout()"
   ]
  },
  {
   "cell_type": "code",
   "execution_count": null,
   "metadata": {},
   "outputs": [],
   "source": [
    "dist = 1*u.kpc\n",
    "D_gen2, D_ic86, cv_gen2, cv_ic86, alpha_gen2, alpha_ic86 = signal_processing(sim, dt=dt, distance=dist, trials=10000,\n",
    "                                                                             method = 'KS', return_alpha=True)\n",
    "Z_gen2, Z_ic86 = signal_processing(sim, dt=dt, distance=dist, trials=10000, method = 'KS', return_significance=True)\n",
    "print('Kolmogorov-Smirnov Test')\n",
    "print('Gen2, distance {:.0f}: max. CDF difference: {:.3f}, corresponding alpha (1-p): {:.2e}, significance: {:.2f}'.format(dist, D_gen2, alpha_gen2, Z_gen2))\n",
    "print('IC86, distance {:.0f}: max. CDF difference: {:.3f}, corresponding alpha (1-p): {:.2e}, significance: {:.2f}'.format(dist, D_ic86, alpha_ic86, Z_ic86))"
   ]
  },
  {
   "cell_type": "code",
   "execution_count": null,
   "metadata": {},
   "outputs": [],
   "source": [
    "distances = np.arange(1,21,2) * u.kpc\n",
    "trials = 10000\n",
    "Sm_gen2, Sm_ic86, Bm_gen2, Bm_ic86, Z_gen2, Z_ic86 = [], [], [], [], [], []\n",
    "for d in distances:\n",
    "    print('distance {:.1f}'.format(d))\n",
    "    z_gen2, z_ic86 =  signal_processing(sim, dt=dt, distance=d, trials=trials, method = 'KS', return_significance=True)\n",
    "    Z_gen2.append(z_gen2)\n",
    "    Z_ic86.append(z_ic86)\n",
    "    \n",
    "Z_gen2 = np.array(Z_gen2)\n",
    "Z_ic86 = np.array(Z_ic86)"
   ]
  },
  {
   "cell_type": "code",
   "execution_count": null,
   "metadata": {},
   "outputs": [],
   "source": [
    "fig, ax = plt.subplots(1,1)\n",
    "\n",
    "ax.plot(distances, Z_gen2, color = 'C0', label=r'$\\zeta_{Gen2}$')\n",
    "ax.plot(distances, Z_ic86, color = 'C1', label=r'$\\zeta_{IC86}$')\n",
    "ax.axhline(3, color='k', ls = ':', label = '3$\\sigma$')\n",
    "ax.set_xlabel('Distance d [kpc]')\n",
    "ax.set_ylabel('significance $\\zeta$')\n",
    "#ax[1].set_xlim((0,20))\n",
    "#ax[1].set_xscale('log')\n",
    "ax.set_yscale('log')\n",
    "ax.legend()\n",
    "if include_wls:\n",
    "    plt.savefig('results_template_KS_IC86+Gen2+WLS_{:.0E}_trials.png'.format(trials))\n",
    "else:\n",
    "    plt.savefig('results_template_KS_IC86+Gen2_{:.0E}_trials.png'.format(trials))\n",
    "\n",
    "plt.tight_layout()"
   ]
  },
  {
   "cell_type": "code",
   "execution_count": null,
   "metadata": {},
   "outputs": [],
   "source": []
  },
  {
   "cell_type": "code",
   "execution_count": null,
   "metadata": {},
   "outputs": [],
   "source": [
    "import pickle\n",
    "data = [distances, Sm_gen2, Sm_ic86, Bm_gen2, Bm_ic86, Z_gen2, Z_ic86]\n",
    "if include_wls:\n",
    "    file = open('results_template_KS_IC86+Gen2+WLS_{:.0E}_trials.pkl'.format(trials), 'wb')\n",
    "else:\n",
    "    file = open('results_template_KS_IC86+Gen2_{:.0E}_trials.pkl'.format(trials), 'wb')\n",
    "pickle.dump(data,file)"
   ]
  },
  {
   "cell_type": "code",
   "execution_count": null,
   "metadata": {},
   "outputs": [],
   "source": [
    "x_gen2, Sh_gen2, Bh_gen2, x_ic86, Sh_ic86, Bh_ic86 = signal_processing(sim, dt=dt, distance=10*u.kpc, trials=10000, \n",
    "                                                     pearson_binning=100, method='Pearson', return_dist=True)\n",
    "\n",
    "fig, ax = plt.subplots(1,1)\n",
    "ax.step(x_gen2, Sh_gen2, color = 'C0', ls = '-', label=r'T$_{S,Gen2}$')\n",
    "ax.step(x_gen2, Bh_gen2, color = 'C0', ls = '--', label=r'T$_{B,Gen2}$')\n",
    "ax.step(x_ic86, Sh_ic86, color = 'C1', ls = '-', label=r'T$_{S,IC86}$')\n",
    "ax.step(x_ic86, Bh_ic86, color = 'C1', ls = '--', label=r'T$_{B,IC86}$')\n",
    "ax.set_xlabel('max. correlation in SASI period [AU]')\n",
    "ax.set_ylabel('events')\n",
    "ax.legend()\n",
    "plt.tight_layout()"
   ]
  },
  {
   "cell_type": "code",
   "execution_count": null,
   "metadata": {},
   "outputs": [],
   "source": [
    "dist = 6*u.kpc\n",
    "bins = 100\n",
    "trials = 10000\n",
    "chi2_gen2, chi2_ic86, alpha_gen2, alpha_ic86 = signal_processing(sim, dt=dt, distance=dist, trials=trials, \n",
    "                                               pearson_binning=bins, method = 'Pearson', return_alpha=True)\n",
    "Z_gen2, Z_ic86 = signal_processing(sim, dt=dt, distance=dist, trials=trials, pearson_binning=bins, \n",
    "                                   method = 'Pearson', return_significance=True)\n",
    "print('Pearson Test')\n",
    "print('Gen2, distance {:.0f}: chi2: {:.3f}, chi2/ndof: {:.3f}, alpha (1-p): {:.2e}, significance: {:.2f}'.format(dist, chi2_gen2, chi2_gen2/bins, alpha_gen2, Z_gen2))\n",
    "print('IC86, distance {:.0f}: chi2: {:.3f}, chi2/ndof: {:.3f}, alpha (1-p): {:.2e}, significance: {:.2f}'.format(dist, chi2_ic86, chi2_ic86/bins, alpha_ic86, Z_ic86))"
   ]
  },
  {
   "cell_type": "code",
   "execution_count": null,
   "metadata": {},
   "outputs": [],
   "source": [
    "alpha_gen2"
   ]
  },
  {
   "cell_type": "code",
   "execution_count": null,
   "metadata": {},
   "outputs": [],
   "source": [
    "distances = np.arange(20,100,10) * u.kpc\n",
    "trials = 100000\n",
    "Sm_gen2, Sm_ic86, Bm_gen2, Bm_ic86, Z_gen2, Z_ic86 = [], [], [], [], [], []\n",
    "for d in distances:\n",
    "    print('distance {:.1f}'.format(d))\n",
    "    z_gen2, z_ic86 =  signal_processing(sim, dt=dt, distance=d, trials=trials, method = 'Pearson', return_significance=True)\n",
    "    Z_gen2.append(z_gen2)\n",
    "    Z_ic86.append(z_ic86)\n",
    "    \n",
    "Z_gen2 = np.array(Z_gen2)\n",
    "Z_ic86 = np.array(Z_ic86)"
   ]
  },
  {
   "cell_type": "code",
   "execution_count": null,
   "metadata": {},
   "outputs": [],
   "source": [
    "fig, ax = plt.subplots(1,1)\n",
    "\n",
    "ax.plot(distances, Z_gen2, color = 'C0', label=r'$\\zeta_{Gen2}$')\n",
    "ax.plot(distances, Z_ic86, color = 'C1', label=r'$\\zeta_{IC86}$')\n",
    "ax.axhline(3, color='k', ls = ':', label = '3$\\sigma$')\n",
    "ax.set_xlabel('Distance d [kpc]')\n",
    "ax.set_ylabel('significance $\\zeta$')\n",
    "#ax[1].set_xlim((0,20))\n",
    "#ax[1].set_xscale('log')\n",
    "ax.set_yscale('log')\n",
    "ax.legend()\n",
    "if include_wls:\n",
    "    plt.savefig('results_template_Pearson_IC86+Gen2+WLS_{:.0E}_trials.png'.format(trials))\n",
    "else:\n",
    "    plt.savefig('results_template_Pearson_IC86+Gen2_{:.0E}_trials.png'.format(trials))\n",
    "\n",
    "plt.tight_layout()"
   ]
  },
  {
   "cell_type": "code",
   "execution_count": null,
   "metadata": {},
   "outputs": [],
   "source": [
    "Z_gen2, Z_ic86"
   ]
  },
  {
   "cell_type": "code",
   "execution_count": null,
   "metadata": {},
   "outputs": [],
   "source": [
    "from scipy.stats import chi2"
   ]
  },
  {
   "cell_type": "code",
   "execution_count": null,
   "metadata": {},
   "outputs": [],
   "source": [
    "c = chi2.cdf(134, 100)"
   ]
  },
  {
   "cell_type": "code",
   "execution_count": null,
   "metadata": {},
   "outputs": [],
   "source": []
  },
  {
   "cell_type": "code",
   "execution_count": null,
   "metadata": {},
   "outputs": [],
   "source": [
    "norm.ppf((1+0.9999997835470299)/2)"
   ]
  },
  {
   "cell_type": "code",
   "execution_count": null,
   "metadata": {},
   "outputs": [],
   "source": []
  }
 ],
 "metadata": {
  "kernelspec": {
   "display_name": "Python 3 (ipykernel)",
   "language": "python",
   "name": "python3"
  },
  "language_info": {
   "codemirror_mode": {
    "name": "ipython",
    "version": 3
   },
   "file_extension": ".py",
   "mimetype": "text/x-python",
   "name": "python",
   "nbconvert_exporter": "python",
   "pygments_lexer": "ipython3",
   "version": "3.8.10"
  }
 },
 "nbformat": 4,
 "nbformat_minor": 4
}
