{
 "cells": [
  {
   "cell_type": "code",
   "execution_count": 1,
   "id": "fbfa75f9",
   "metadata": {},
   "outputs": [
    {
     "name": "stdout",
     "output_type": "stream",
     "text": [
      "env: ASTERIA=/home/jakob/software/ASTERIA/ASTERIA\n"
     ]
    },
    {
     "name": "stderr",
     "output_type": "stream",
     "text": [
      "/usr/local/lib/python3.8/dist-packages/tqdm-4.65.0-py3.8.egg/tqdm/auto.py:21: TqdmWarning: IProgress not found. Please update jupyter and ipywidgets. See https://ipywidgets.readthedocs.io/en/stable/user_install.html\n",
      "  from .autonotebook import tqdm as notebook_tqdm\n"
     ]
    }
   ],
   "source": [
    "%env ASTERIA=/home/jakob/software/ASTERIA/ASTERIA\n",
    "from asteria.simulation import Simulation\n",
    "import astropy.units as u\n",
    "import numpy as np\n",
    "import matplotlib.pyplot as plt"
   ]
  },
  {
   "cell_type": "code",
   "execution_count": 2,
   "id": "a5a37b11",
   "metadata": {},
   "outputs": [],
   "source": [
    "dt = 0.1*u.ms # highest frequency in Tamborra 2014 model\n",
    "\n",
    "model = {'name': 'Tamborra_2014',\n",
    "         'param':{\n",
    "             'progenitor_mass': 20*u.Msun}\n",
    "         }\n",
    "sim = Simulation(model=model,\n",
    "                 distance=10* u.kpc, \n",
    "                 Emin=0*u.MeV, Emax=100*u.MeV, dE=1*u.MeV,\n",
    "                 tmin=0.006*u.s, tmax=0.338*u.s, dt=dt,\n",
    "                 hierarchy = 'normal',\n",
    "                 mixing_scheme = 'NoTransformation',\n",
    "                 geomscope = 'Gen2',\n",
    "                 include_wls = False)\n",
    "sim.run()"
   ]
  },
  {
   "cell_type": "code",
   "execution_count": 6,
   "id": "21791025",
   "metadata": {},
   "outputs": [
    {
     "name": "stdout",
     "output_type": "stream",
     "text": [
      "distance 1 kpc\n",
      "distance 2 kpc\n",
      "distance 3 kpc\n",
      "distance 4 kpc\n",
      "distance 5 kpc\n",
      "distance 6 kpc\n",
      "distance 7 kpc\n",
      "distance 8 kpc\n",
      "distance 9 kpc\n",
      "distance 10 kpc\n",
      "distance 11 kpc\n",
      "distance 12 kpc\n",
      "distance 13 kpc\n",
      "distance 14 kpc\n",
      "distance 15 kpc\n",
      "distance 16 kpc\n",
      "distance 17 kpc\n",
      "distance 18 kpc\n",
      "distance 19 kpc\n",
      "distance 20 kpc\n",
      "distance 21 kpc\n",
      "distance 22 kpc\n",
      "distance 23 kpc\n",
      "distance 24 kpc\n",
      "distance 25 kpc\n",
      "distance 26 kpc\n",
      "distance 27 kpc\n",
      "distance 28 kpc\n",
      "distance 29 kpc\n",
      "distance 30 kpc\n",
      "distance 31 kpc\n",
      "distance 32 kpc\n",
      "distance 33 kpc\n",
      "distance 34 kpc\n",
      "distance 35 kpc\n",
      "distance 36 kpc\n",
      "distance 37 kpc\n",
      "distance 38 kpc\n",
      "distance 39 kpc\n",
      "distance 40 kpc\n"
     ]
    }
   ],
   "source": [
    "distances = np.arange(1,41,1) * u.kpc\n",
    "dt = 1 * u.ms\n",
    "trials = 1000\n",
    "Smax_gen2, Smax_ic86 = [], []\n",
    "eps_gen2, eps_ic86 = [], [] \n",
    "for i, d in enumerate(distances):\n",
    "    print('distance {:.0f}'.format(d))\n",
    "    # scale the simulation to the right distance\n",
    "    sim.scale_result(distance=d)\n",
    "    \n",
    "    # signal\n",
    "    t, s_i3 = sim.detector_hits(dt=dt, subdetector='i3', size=trials)\n",
    "    t, s_dc = sim.detector_hits(dt=dt, subdetector='dc', size=trials)\n",
    "    t, s_md = sim.detector_hits(dt=dt, subdetector='md', size=trials)\n",
    "    \n",
    "    np.sum(s_md, axis=1)\n",
    "\n",
    "    # combined signal/background of subdetector components (i3,dc,md)\n",
    "    s_ic86 = s_i3 + s_dc\n",
    "    s_gen2 = s_i3 + s_dc + s_md\n",
    "\n",
    "    # take average of maximum of SASI light curve over trials\n",
    "    Smax_gen2.append(np.max(s_gen2, axis=1).mean())\n",
    "    Smax_ic86.append(np.max(s_ic86, axis=1).mean())\n",
    "    \n",
    "    # A weighted sum to estimate the overall detector 'deadtime eff', there is a better way to do this I am 100% certain\n",
    "    eps_ic86.append((sim.eps_dc.sum() + sim.eps_i3.sum()) / \n",
    "                (sim.detector.n_dc_doms + sim.detector.n_i3_doms))\n",
    "    eps_gen2.append((sim.eps_md.sum() + sim.eps_dc.sum() + sim.eps_i3.sum()) / \n",
    "                (sim.detector.n_md + sim.detector.n_dc_doms + sim.detector.n_i3_doms))\n",
    "Smax_ic86=np.array(Smax_ic86)\n",
    "Smax_gen2=np.array(Smax_gen2)\n",
    "eps_ic86 = np.array(eps_ic86)\n",
    "eps_gen2 = np.array(eps_gen2)"
   ]
  },
  {
   "cell_type": "code",
   "execution_count": 7,
   "id": "a11ea4e5",
   "metadata": {},
   "outputs": [
    {
     "data": {
      "image/png": "[encoded data removed]",
      "text/plain": [
       "<Figure size 640x480 with 1 Axes>"
      ]
     },
     "metadata": {},
     "output_type": "display_data"
    }
   ],
   "source": [
    "fig, ax = plt.subplots(1,1)\n",
    "\n",
    "\n",
    "ax.plot(distances,Smax_gen2/eps_gen2*distances**2,label=r'$S_{max}^{Gen2}$')\n",
    "ax.plot(distances,Smax_ic86/eps_ic86*distances**2,label=r'$S_{max}^{IC86}$')\n",
    "ax.set_xlabel('Time [ms]')\n",
    "ax.set_ylabel('Counts/bin')\n",
    "ax.set_xlabel('Distance d [kpc]')\n",
    "ax.set_ylabel(r'$\\overline{S_{max}}/\\epsilon_{dead} \\times d^2$ [AU]')\n",
    "ax.set_xlim((0,40))\n",
    "ax.legend()\n",
    "plt.tight_layout()"
   ]
  },
  {
   "cell_type": "code",
   "execution_count": 5,
   "id": "903b8b77",
   "metadata": {},
   "outputs": [
    {
     "ename": "SyntaxError",
     "evalue": "invalid syntax (1756745460.py, line 1)",
     "output_type": "error",
     "traceback": [
      "\u001b[0;36m  Cell \u001b[0;32mIn[5], line 1\u001b[0;36m\u001b[0m\n\u001b[0;31m    sim.\u001b[0m\n\u001b[0m        ^\u001b[0m\n\u001b[0;31mSyntaxError\u001b[0m\u001b[0;31m:\u001b[0m invalid syntax\n"
     ]
    }
   ],
   "source": [
    "sim."
   ]
  }
 ],
 "metadata": {
  "kernelspec": {
   "display_name": "Python 3 (ipykernel)",
   "language": "python",
   "name": "python3"
  },
  "language_info": {
   "codemirror_mode": {
    "name": "ipython",
    "version": 3
   },
   "file_extension": ".py",
   "mimetype": "text/x-python",
   "name": "python",
   "nbconvert_exporter": "python",
   "pygments_lexer": "ipython3",
   "version": "3.8.10"
  }
 },
 "nbformat": 4,
 "nbformat_minor": 5
}
