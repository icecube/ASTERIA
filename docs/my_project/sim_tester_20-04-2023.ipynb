{
 "cells": [
  {
   "cell_type": "markdown",
   "metadata": {},
   "source": [
    "## Testing with param\n",
    "\n",
    "Providing `model` parameters and name, running simulation to produce energy deposition vs. time plot."
   ]
  },
  {
   "cell_type": "code",
   "execution_count": 14,
   "metadata": {},
   "outputs": [
    {
     "name": "stdout",
     "output_type": "stream",
     "text": [
      "env: ASTERIA=/home/jakob/software/ASTERIA/ASTERIA\n"
     ]
    },
    {
     "name": "stderr",
     "output_type": "stream",
     "text": [
      "s16.dat: 3.23MiB [00:00, 61.2MiB/s]                                                                                                                                                                                \n"
     ]
    },
    {
     "ename": "ValueError",
     "evalue": "`x` must be strictly increasing sequence.",
     "output_type": "error",
     "traceback": [
      "\u001b[0;31m---------------------------------------------------------------------------\u001b[0m",
      "\u001b[0;31mValueError\u001b[0m                                Traceback (most recent call last)",
      "Cell \u001b[0;32mIn[14], line 17\u001b[0m\n\u001b[1;32m      5\u001b[0m \u001b[38;5;66;03m#model = {'name': 'Nakazato_2013',\u001b[39;00m\n\u001b[1;32m      6\u001b[0m \u001b[38;5;66;03m#         'param':{\u001b[39;00m\n\u001b[1;32m      7\u001b[0m \u001b[38;5;66;03m#             'progenitor_mass': 13*u.Msun,\u001b[39;00m\n\u001b[0;32m   (...)\u001b[0m\n\u001b[1;32m     10\u001b[0m \u001b[38;5;66;03m#             'eos': 'shen'}\u001b[39;00m\n\u001b[1;32m     11\u001b[0m \u001b[38;5;66;03m#         }\u001b[39;00m\n\u001b[1;32m     13\u001b[0m model \u001b[38;5;241m=\u001b[39m {\u001b[38;5;124m'\u001b[39m\u001b[38;5;124mname\u001b[39m\u001b[38;5;124m'\u001b[39m: \u001b[38;5;124m'\u001b[39m\u001b[38;5;124mZha_2021\u001b[39m\u001b[38;5;124m'\u001b[39m,\n\u001b[1;32m     14\u001b[0m          \u001b[38;5;124m'\u001b[39m\u001b[38;5;124mparam\u001b[39m\u001b[38;5;124m'\u001b[39m:{\n\u001b[1;32m     15\u001b[0m              \u001b[38;5;124m'\u001b[39m\u001b[38;5;124mprogenitor_mass\u001b[39m\u001b[38;5;124m'\u001b[39m: \u001b[38;5;241m16\u001b[39m\u001b[38;5;241m*\u001b[39mu\u001b[38;5;241m.\u001b[39mMsun}\n\u001b[1;32m     16\u001b[0m          }\n\u001b[0;32m---> 17\u001b[0m sim \u001b[38;5;241m=\u001b[39m \u001b[43mSimulation\u001b[49m\u001b[43m(\u001b[49m\u001b[43mmodel\u001b[49m\u001b[38;5;241;43m=\u001b[39;49m\u001b[43mmodel\u001b[49m\u001b[43m,\u001b[49m\n\u001b[1;32m     18\u001b[0m \u001b[43m                 \u001b[49m\u001b[43mdistance\u001b[49m\u001b[38;5;241;43m=\u001b[39;49m\u001b[38;5;241;43m10\u001b[39;49m\u001b[43m \u001b[49m\u001b[38;5;241;43m*\u001b[39;49m\u001b[43m \u001b[49m\u001b[43mu\u001b[49m\u001b[38;5;241;43m.\u001b[39;49m\u001b[43mkpc\u001b[49m\u001b[43m,\u001b[49m\u001b[43m \u001b[49m\n\u001b[1;32m     19\u001b[0m \u001b[43m                 \u001b[49m\u001b[43mEmin\u001b[49m\u001b[38;5;241;43m=\u001b[39;49m\u001b[38;5;241;43m0\u001b[39;49m\u001b[38;5;241;43m*\u001b[39;49m\u001b[43mu\u001b[49m\u001b[38;5;241;43m.\u001b[39;49m\u001b[43mMeV\u001b[49m\u001b[43m,\u001b[49m\u001b[43m \u001b[49m\u001b[43mEmax\u001b[49m\u001b[38;5;241;43m=\u001b[39;49m\u001b[38;5;241;43m100\u001b[39;49m\u001b[38;5;241;43m*\u001b[39;49m\u001b[43mu\u001b[49m\u001b[38;5;241;43m.\u001b[39;49m\u001b[43mMeV\u001b[49m\u001b[43m,\u001b[49m\u001b[43m \u001b[49m\u001b[43mdE\u001b[49m\u001b[38;5;241;43m=\u001b[39;49m\u001b[38;5;241;43m1\u001b[39;49m\u001b[38;5;241;43m*\u001b[39;49m\u001b[43mu\u001b[49m\u001b[38;5;241;43m.\u001b[39;49m\u001b[43mMeV\u001b[49m\u001b[43m,\u001b[49m\n\u001b[1;32m     20\u001b[0m \u001b[43m                 \u001b[49m\u001b[43mtmin\u001b[49m\u001b[38;5;241;43m=\u001b[39;49m\u001b[38;5;241;43m-\u001b[39;49m\u001b[38;5;241;43m0.5\u001b[39;49m\u001b[38;5;241;43m*\u001b[39;49m\u001b[43mu\u001b[49m\u001b[38;5;241;43m.\u001b[39;49m\u001b[43ms\u001b[49m\u001b[43m,\u001b[49m\u001b[43m \u001b[49m\u001b[43mtmax\u001b[49m\u001b[38;5;241;43m=\u001b[39;49m\u001b[38;5;241;43m1.5\u001b[39;49m\u001b[38;5;241;43m*\u001b[39;49m\u001b[43mu\u001b[49m\u001b[38;5;241;43m.\u001b[39;49m\u001b[43ms\u001b[49m\u001b[43m,\u001b[49m\u001b[43m \u001b[49m\u001b[43mdt\u001b[49m\u001b[38;5;241;43m=\u001b[39;49m\u001b[38;5;241;43m1\u001b[39;49m\u001b[38;5;241;43m*\u001b[39;49m\u001b[43mu\u001b[49m\u001b[38;5;241;43m.\u001b[39;49m\u001b[43mms\u001b[49m\u001b[43m)\u001b[49m\n\u001b[1;32m     21\u001b[0m sim\u001b[38;5;241m.\u001b[39mrun()\n\u001b[1;32m     23\u001b[0m \u001b[38;5;28;01mimport\u001b[39;00m \u001b[38;5;21;01mmatplotlib\u001b[39;00m\u001b[38;5;21;01m.\u001b[39;00m\u001b[38;5;21;01mpyplot\u001b[39;00m \u001b[38;5;28;01mas\u001b[39;00m \u001b[38;5;21;01mplt\u001b[39;00m\n",
      "File \u001b[0;32m/usr/local/lib/python3.8/dist-packages/asteria-0.2.0.dev133-py3.8.egg/asteria/simulation.py:62\u001b[0m, in \u001b[0;36mSimulation.__init__\u001b[0;34m(self, config, model, distance, flavors, hierarchy, interactions, mixing_scheme, mixing_angle, E, Emin, Emax, dE, t, tmin, tmax, dt, geomfile, effvolfile)\u001b[0m\n\u001b[1;32m     59\u001b[0m     t \u001b[38;5;241m=\u001b[39m np\u001b[38;5;241m.\u001b[39marange(\u001b[38;5;241m-\u001b[39m\u001b[38;5;241m1\u001b[39m, \u001b[38;5;241m1\u001b[39m, \u001b[38;5;241m0.001\u001b[39m) \u001b[38;5;241m*\u001b[39m u\u001b[38;5;241m.\u001b[39ms\n\u001b[1;32m     60\u001b[0m     _dt \u001b[38;5;241m=\u001b[39m \u001b[38;5;241m1\u001b[39m \u001b[38;5;241m*\u001b[39m u\u001b[38;5;241m.\u001b[39mms\n\u001b[0;32m---> 62\u001b[0m \u001b[38;5;28mself\u001b[39m\u001b[38;5;241m.\u001b[39msource \u001b[38;5;241m=\u001b[39m \u001b[43mSource\u001b[49m\u001b[43m(\u001b[49m\u001b[43mmodel\u001b[49m\u001b[43m[\u001b[49m\u001b[38;5;124;43m'\u001b[39;49m\u001b[38;5;124;43mname\u001b[39;49m\u001b[38;5;124;43m'\u001b[39;49m\u001b[43m]\u001b[49m\u001b[43m,\u001b[49m\u001b[43m \u001b[49m\u001b[43mmodel\u001b[49m\u001b[43m[\u001b[49m\u001b[38;5;124;43m'\u001b[39;49m\u001b[38;5;124;43mparam\u001b[39;49m\u001b[38;5;124;43m'\u001b[39;49m\u001b[43m]\u001b[49m\u001b[43m)\u001b[49m\n\u001b[1;32m     63\u001b[0m \u001b[38;5;28mself\u001b[39m\u001b[38;5;241m.\u001b[39mdistance \u001b[38;5;241m=\u001b[39m distance\n\u001b[1;32m     64\u001b[0m \u001b[38;5;28mself\u001b[39m\u001b[38;5;241m.\u001b[39menergy \u001b[38;5;241m=\u001b[39m E\n",
      "File \u001b[0;32m/usr/local/lib/python3.8/dist-packages/asteria-0.2.0.dev133-py3.8.egg/asteria/source.py:41\u001b[0m, in \u001b[0;36mSource.__init__\u001b[0;34m(self, model, model_params)\u001b[0m\n\u001b[1;32m     39\u001b[0m \u001b[38;5;28;01mfor\u001b[39;00m flavor \u001b[38;5;129;01min\u001b[39;00m Flavor:\n\u001b[1;32m     40\u001b[0m     t \u001b[38;5;241m=\u001b[39m \u001b[38;5;28mself\u001b[39m\u001b[38;5;241m.\u001b[39mmodel\u001b[38;5;241m.\u001b[39mtime\n\u001b[0;32m---> 41\u001b[0m     \u001b[38;5;28mself\u001b[39m\u001b[38;5;241m.\u001b[39m_interp_lum\u001b[38;5;241m.\u001b[39mupdate({flavor: \u001b[43mPchipInterpolator\u001b[49m\u001b[43m(\u001b[49m\u001b[43mt\u001b[49m\u001b[43m,\u001b[49m\u001b[43m \u001b[49m\u001b[38;5;28;43mself\u001b[39;49m\u001b[38;5;241;43m.\u001b[39;49m\u001b[43mmodel\u001b[49m\u001b[38;5;241;43m.\u001b[39;49m\u001b[43mluminosity\u001b[49m\u001b[43m[\u001b[49m\u001b[43mflavor\u001b[49m\u001b[43m]\u001b[49m\u001b[43m,\u001b[49m\u001b[43m \u001b[49m\u001b[43mextrapolate\u001b[49m\u001b[38;5;241;43m=\u001b[39;49m\u001b[38;5;28;43;01mFalse\u001b[39;49;00m\u001b[43m)\u001b[49m})\n\u001b[1;32m     42\u001b[0m     \u001b[38;5;28mself\u001b[39m\u001b[38;5;241m.\u001b[39m_interp_meanE\u001b[38;5;241m.\u001b[39mupdate({flavor: PchipInterpolator(t, \u001b[38;5;28mself\u001b[39m\u001b[38;5;241m.\u001b[39mmodel\u001b[38;5;241m.\u001b[39mmeanE[flavor], extrapolate\u001b[38;5;241m=\u001b[39m\u001b[38;5;28;01mFalse\u001b[39;00m)})\n\u001b[1;32m     43\u001b[0m     \u001b[38;5;28mself\u001b[39m\u001b[38;5;241m.\u001b[39m_interp_pinch\u001b[38;5;241m.\u001b[39mupdate({flavor: PchipInterpolator(t, \u001b[38;5;28mself\u001b[39m\u001b[38;5;241m.\u001b[39mmodel\u001b[38;5;241m.\u001b[39mpinch[flavor], extrapolate\u001b[38;5;241m=\u001b[39m\u001b[38;5;28;01mFalse\u001b[39;00m)})\n",
      "File \u001b[0;32m/usr/local/lib/python3.8/dist-packages/scipy-1.10.1-py3.8-linux-x86_64.egg/scipy/interpolate/_cubic.py:234\u001b[0m, in \u001b[0;36mPchipInterpolator.__init__\u001b[0;34m(self, x, y, axis, extrapolate)\u001b[0m\n\u001b[1;32m    233\u001b[0m \u001b[38;5;28;01mdef\u001b[39;00m \u001b[38;5;21m__init__\u001b[39m(\u001b[38;5;28mself\u001b[39m, x, y, axis\u001b[38;5;241m=\u001b[39m\u001b[38;5;241m0\u001b[39m, extrapolate\u001b[38;5;241m=\u001b[39m\u001b[38;5;28;01mNone\u001b[39;00m):\n\u001b[0;32m--> 234\u001b[0m     x, _, y, axis, _ \u001b[38;5;241m=\u001b[39m \u001b[43mprepare_input\u001b[49m\u001b[43m(\u001b[49m\u001b[43mx\u001b[49m\u001b[43m,\u001b[49m\u001b[43m \u001b[49m\u001b[43my\u001b[49m\u001b[43m,\u001b[49m\u001b[43m \u001b[49m\u001b[43maxis\u001b[49m\u001b[43m)\u001b[49m\n\u001b[1;32m    235\u001b[0m     xp \u001b[38;5;241m=\u001b[39m x\u001b[38;5;241m.\u001b[39mreshape((x\u001b[38;5;241m.\u001b[39mshape[\u001b[38;5;241m0\u001b[39m],) \u001b[38;5;241m+\u001b[39m (\u001b[38;5;241m1\u001b[39m,)\u001b[38;5;241m*\u001b[39m(y\u001b[38;5;241m.\u001b[39mndim\u001b[38;5;241m-\u001b[39m\u001b[38;5;241m1\u001b[39m))\n\u001b[1;32m    236\u001b[0m     dk \u001b[38;5;241m=\u001b[39m \u001b[38;5;28mself\u001b[39m\u001b[38;5;241m.\u001b[39m_find_derivatives(xp, y)\n",
      "File \u001b[0;32m/usr/local/lib/python3.8/dist-packages/scipy-1.10.1-py3.8-linux-x86_64.egg/scipy/interpolate/_cubic.py:61\u001b[0m, in \u001b[0;36mprepare_input\u001b[0;34m(x, y, axis, dydx)\u001b[0m\n\u001b[1;32m     59\u001b[0m dx \u001b[38;5;241m=\u001b[39m np\u001b[38;5;241m.\u001b[39mdiff(x)\n\u001b[1;32m     60\u001b[0m \u001b[38;5;28;01mif\u001b[39;00m np\u001b[38;5;241m.\u001b[39many(dx \u001b[38;5;241m<\u001b[39m\u001b[38;5;241m=\u001b[39m \u001b[38;5;241m0\u001b[39m):\n\u001b[0;32m---> 61\u001b[0m     \u001b[38;5;28;01mraise\u001b[39;00m \u001b[38;5;167;01mValueError\u001b[39;00m(\u001b[38;5;124m\"\u001b[39m\u001b[38;5;124m`x` must be strictly increasing sequence.\u001b[39m\u001b[38;5;124m\"\u001b[39m)\n\u001b[1;32m     63\u001b[0m y \u001b[38;5;241m=\u001b[39m np\u001b[38;5;241m.\u001b[39mmoveaxis(y, axis, \u001b[38;5;241m0\u001b[39m)\n\u001b[1;32m     64\u001b[0m \u001b[38;5;28;01mif\u001b[39;00m dydx \u001b[38;5;129;01mis\u001b[39;00m \u001b[38;5;129;01mnot\u001b[39;00m \u001b[38;5;28;01mNone\u001b[39;00m:\n",
      "\u001b[0;31mValueError\u001b[0m: `x` must be strictly increasing sequence."
     ]
    }
   ],
   "source": [
    "%env ASTERIA=/home/jakob/software/ASTERIA/ASTERIA\n",
    "from asteria.simulation import Simulation\n",
    "import astropy.units as u\n",
    "\n",
    "#model = {'name': 'Nakazato_2013',\n",
    "#         'param':{\n",
    "#             'progenitor_mass': 13*u.Msun,\n",
    "#             'revival_time': 300 * u.ms,\n",
    "#             'metallicity': 0.004,\n",
    "#             'eos': 'shen'}\n",
    "#         }\n",
    "\n",
    "model = {'name': 'Zha_2021',\n",
    "         'param':{\n",
    "             'progenitor_mass': 16*u.Msun}\n",
    "         }\n",
    "sim = Simulation(model=model,\n",
    "                 distance=10 * u.kpc, \n",
    "                 Emin=0*u.MeV, Emax=100*u.MeV, dE=1*u.MeV,\n",
    "                 tmin=-0.5*u.s, tmax=1.5*u.s, dt=1*u.ms)\n",
    "sim.run()\n",
    "\n",
    "import matplotlib.pyplot as plt\n",
    "for flavor in sim.flavors:\n",
    "    plt.plot(sim.time, sim.E_per_V[flavor], label=flavor.name)\n",
    "plt.legend()\n",
    "ax = plt.gca()\n",
    "ax.set(xlabel=r't-t$_{bounce}$ [s]', ylabel='Energy Deposition [Mev m$^{-3}$])', xlim=(-0.15, 0.75));"
   ]
  },
  {
   "cell_type": "code",
   "execution_count": 3,
   "metadata": {},
   "outputs": [
    {
     "name": "stdout",
     "output_type": "stream",
     "text": [
      "`x` must be strictly increasing sequence.\n",
      "time       idx  \n",
      "0.110000   202  \n",
      "0.177700   339  \n",
      "0.199450   384  \n",
      "0.227050   441  \n",
      "0.298840   586  \n",
      "0.299840   589  \n",
      "0.300840   592  \n",
      "0.317840   627  \n",
      "0.340850   675  \n",
      "0.340850   676  \n",
      "0.360000   716  \n",
      "0.379800   757  \n",
      "0.388780   776  \n",
      "0.410860   822  \n",
      "0.435360   872  \n",
      "0.435360   873  \n",
      "0.454740   913  \n",
      "0.479720   964  \n",
      "0.500000   1006 \n",
      "0.521940   1051 \n",
      "0.526970   1063 \n",
      "0.527320   1065 \n",
      "0.531420   1075 \n",
      "0.560410   1134 \n",
      "0.563570   1142 \n",
      "0.570090   1157 \n"
     ]
    }
   ],
   "source": [
    "from snewpy.models.ccsn import Walk_2019\n",
    "from snewpy.neutrino import Flavor\n",
    "from scipy.interpolate import PchipInterpolator\n",
    "import numpy as np\n",
    "\n",
    "model = Walk_2019(filename='/home/jakob/.astropy/cache/snewpy/models/Walk_2019/s40.0c_3DBH_dir1')\n",
    "time = model.time\n",
    "\n",
    "try:\n",
    "    interp_lum = PchipInterpolator(x=time, y=model.luminosity[Flavor.NU_E_BAR])\n",
    "except ValueError as e:\n",
    "    print(e)\n",
    "\n",
    "diff = np.diff(time)\n",
    "idx = np.where(diff==0)[0]\n",
    "print(f\"{'time':<10s} {'idx':<5s}\")\n",
    "for t, i in zip(time[idx], idx):\n",
    "    # Add +1 to index to point at duplicate entries\n",
    "    print(f\"{t.value:<10f} {i+1:<5d}\") "
   ]
  },
  {
   "cell_type": "code",
   "execution_count": 12,
   "metadata": {},
   "outputs": [
    {
     "data": {
      "text/plain": [
       "({'progenitor_mass': <Quantity 16. solMass>},\n",
       " {'progenitor_mass': <Quantity 17. solMass>},\n",
       " {'progenitor_mass': <Quantity 18. solMass>},\n",
       " {'progenitor_mass': <Quantity 19. solMass>},\n",
       " {'progenitor_mass': <Quantity 20. solMass>},\n",
       " {'progenitor_mass': <Quantity 21. solMass>},\n",
       " {'progenitor_mass': <Quantity 22. solMass>},\n",
       " {'progenitor_mass': <Quantity 23. solMass>},\n",
       " {'progenitor_mass': <Quantity 24. solMass>},\n",
       " {'progenitor_mass': <Quantity 25. solMass>},\n",
       " {'progenitor_mass': <Quantity 26. solMass>},\n",
       " {'progenitor_mass': <Quantity 19.89 solMass>},\n",
       " {'progenitor_mass': <Quantity 22.39 solMass>},\n",
       " {'progenitor_mass': <Quantity 30. solMass>},\n",
       " {'progenitor_mass': <Quantity 33. solMass>})"
      ]
     },
     "execution_count": 12,
     "metadata": {},
     "output_type": "execute_result"
    }
   ],
   "source": [
    "from snewpy.models.ccsn import Zha_2021\n",
    "Zha_2021.get_param_combinations()"
   ]
  },
  {
   "cell_type": "code",
   "execution_count": 5,
   "metadata": {},
   "outputs": [
    {
     "data": {
      "text/plain": [
       "['https://github.com/SNEWS2/snewpy/raw/v1.3/models/Walk_2019/README.md',\n",
       " 'https://github.com/SNEWS2/snewpy/raw/v1.3/models/Walk_2019/Walk_2019.ipynb',\n",
       " 'https://github.com/SNEWS2/snewpy/raw/v1.3/models/Walk_2019/s40.0c_3DBH_dir1_LS220_nue',\n",
       " 'https://github.com/SNEWS2/snewpy/raw/v1.3/models/Walk_2019/s40.0c_3DBH_dir1_LS220_nuebar',\n",
       " 'https://github.com/SNEWS2/snewpy/raw/v1.3/models/Walk_2019/s40.0c_3DBH_dir1_LS220_nux']"
      ]
     },
     "execution_count": 5,
     "metadata": {},
     "output_type": "execute_result"
    }
   ],
   "source": [
    "from snewpy._model_urls import model_urls\n",
    "model_urls[\"Walk_2019\"]"
   ]
  },
  {
   "cell_type": "code",
   "execution_count": null,
   "metadata": {},
   "outputs": [],
   "source": []
  },
  {
   "cell_type": "code",
   "execution_count": null,
   "metadata": {},
   "outputs": [],
   "source": [
    "avg_dom_signal = sim.avg_dom_signal(dt=2*u.ms)\n",
    "fig, ax = plt.subplots(1, figsize=(6,6))\n",
    "\n",
    "ax.step(sim.time_binned, avg_dom_signal, where='post')"
   ]
  },
  {
   "cell_type": "code",
   "execution_count": null,
   "metadata": {},
   "outputs": [],
   "source": [
    "from snewpy.models.ccsn import Walk_2019\n",
    "Walk_2019[\"param\"]"
   ]
  },
  {
   "cell_type": "code",
   "execution_count": null,
   "metadata": {},
   "outputs": [],
   "source": [
    "t, detector_signal = sim.detector_hits(dt=2*u.ms)\n",
    "\n",
    "t, i3_sig = sim.detector_hits(dt=2*u.ms, subdetector='i3')\n",
    "t, dc_sig = sim.detector_hits(dt=2*u.ms, subdetector='dc')\n",
    "\n",
    "i3_bkg = sim.detector.i3_bg(dt=2*u.ms, size=len(i3_sig))\n",
    "dc_bkg = sim.detector.dc_bg(dt=2*u.ms, size=len(dc_sig))\n",
    "\n",
    "fig, ax = plt.subplots(1,2, figsize=(10,4))\n",
    "for i in range(2):\n",
    "    if i == 0:\n",
    "        ax[i].step(t, i3_sig, where='post', label='i3')\n",
    "        ax[i].step(t, dc_sig, where='post', label='dc')\n",
    "        ax[i].set_ylabel(\"Detector rate [Hz] (sig only)\")\n",
    "\n",
    "    elif i == 1:    \n",
    "        ax[i].step(t, i3_sig+i3_bkg, where='post', label='i3')\n",
    "        ax[i].step(t, dc_sig+dc_bkg, where='post', label='dc')\n",
    "        ax[i].set_ylabel(\"Detector rate [Hz] (sig+bkg)\")\n",
    "\n",
    "    ax[i].set_xlabel(\"Time [s]\")\n",
    "    ax[i].legend()"
   ]
  },
  {
   "cell_type": "markdown",
   "metadata": {},
   "source": [
    "## Testing with config file\n",
    "\n",
    "Providing config file. \n",
    "\n",
    "ToDo @sgwiswold : fix errors."
   ]
  },
  {
   "cell_type": "code",
   "execution_count": null,
   "metadata": {},
   "outputs": [],
   "source": [
    "sim."
   ]
  }
 ],
 "metadata": {
  "kernelspec": {
   "display_name": "Python 3 (ipykernel)",
   "language": "python",
   "name": "python3"
  },
  "language_info": {
   "codemirror_mode": {
    "name": "ipython",
    "version": 3
   },
   "file_extension": ".py",
   "mimetype": "text/x-python",
   "name": "python",
   "nbconvert_exporter": "python",
   "pygments_lexer": "ipython3",
   "version": "3.8.10"
  }
 },
 "nbformat": 4,
 "nbformat_minor": 4
}
