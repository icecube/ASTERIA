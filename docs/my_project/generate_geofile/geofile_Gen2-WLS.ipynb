{
 "cells": [
  {
   "cell_type": "code",
   "execution_count": 1,
   "id": "97fdfa0b",
   "metadata": {},
   "outputs": [],
   "source": [
    "import numpy as np\n",
    "import pandas as pd\n",
    "import fnmatch # for wildcard string searches"
   ]
  },
  {
   "cell_type": "code",
   "execution_count": 2,
   "id": "1d54e2cf",
   "metadata": {},
   "outputs": [],
   "source": [
    "str_dc = 81 # string number with which deep core starts\n",
    "str_gen2 = 1001 # same but for gen2"
   ]
  },
  {
   "cell_type": "code",
   "execution_count": 5,
   "id": "1d1aebcd",
   "metadata": {},
   "outputs": [],
   "source": [
    "# read ppc geometry files in\n",
    "df_in = pd.read_csv(\"../files/geo-f2k.gen2\", sep = '\\t+' , names = (np.arange(7)), engine=\"python\")\n",
    "# rearrange columns in dictionary to be saved as dataframe\n",
    "df_in.columns = [\"dom_id\", \"mb_id\", \"x\", \"y\", \"z\", \"str_num\", \"om_num\"]"
   ]
  },
  {
   "cell_type": "code",
   "execution_count": 6,
   "id": "095d9a16",
   "metadata": {},
   "outputs": [],
   "source": [
    "new_z = df_in[\"z\"] + 1948.07 # changing from the surface frame to the IceCube (AMANDA) coordinate system\n",
    "new_z = new_z.round(2) #round to two decimals\n",
    "\n",
    "det_type = np.where(df_in[\"str_num\"] < str_gen2, \"IC86\", \"Gen2\")\n",
    "\n",
    "om_type = np.where(df_in[\"str_num\"] < str_dc, \"i3\", \"dc\")\n",
    "om_type = np.where(df_in[\"str_num\"] < str_gen2, om_type, \"md\")"
   ]
  },
  {
   "cell_type": "code",
   "execution_count": 7,
   "id": "1969248a",
   "metadata": {},
   "outputs": [],
   "source": [
    "dict = {\"str_num\" : df_in[\"str_num\"], \"om_num\" : df_in[\"om_num\"], \"x\" : df_in[\"x\"], \"y\" : df_in[\"y\"], \"z\" : new_z, \"det_type\" : det_type, \"om_type\" : om_type}\n",
    "df_out  = pd.DataFrame(dict)\n",
    "\n",
    "# save dataframe as txt file\n",
    "df_out.to_csv(\"../files/geo_IC86+Gen2+WLS.txt\", header=False, index=False, sep = \"\\t\")#, float_format=\"%.2f\")"
   ]
  },
  {
   "cell_type": "code",
   "execution_count": null,
   "id": "af5231cb",
   "metadata": {},
   "outputs": [],
   "source": []
  }
 ],
 "metadata": {
  "kernelspec": {
   "display_name": "Python 3 (ipykernel)",
   "language": "python",
   "name": "python3"
  },
  "language_info": {
   "codemirror_mode": {
    "name": "ipython",
    "version": 3
   },
   "file_extension": ".py",
   "mimetype": "text/x-python",
   "name": "python",
   "nbconvert_exporter": "python",
   "pygments_lexer": "ipython3",
   "version": "3.8.10"
  }
 },
 "nbformat": 4,
 "nbformat_minor": 5
}
