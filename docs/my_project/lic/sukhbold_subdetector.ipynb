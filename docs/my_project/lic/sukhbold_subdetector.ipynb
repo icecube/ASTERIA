{
 "cells": [
  {
   "cell_type": "code",
   "execution_count": 4,
   "id": "8c744e21",
   "metadata": {},
   "outputs": [
    {
     "name": "stdout",
     "output_type": "stream",
     "text": [
      "env: ASTERIA=/home/jakob/software/ASTERIA/ASTERIA\n"
     ]
    }
   ],
   "source": [
    "import matplotlib as mpl\n",
    "import matplotlib.pyplot as plt\n",
    "import numpy as np\n",
    "\n",
    "from astropy import units as u \n",
    "%env ASTERIA=/home/jakob/software/ASTERIA/ASTERIA\n",
    "from asteria.simulation import Simulation\n",
    "\n",
    "from snewpy.neutrino import Flavor\n",
    "from snewpy.models.ccsn import Sukhbold_2015, Nakazato_2013\n",
    "mpl.rc('font', size=20)\n",
    "%matplotlib inline"
   ]
  },
  {
   "cell_type": "code",
   "execution_count": 19,
   "id": "74b638ce",
   "metadata": {},
   "outputs": [],
   "source": [
    "# this function loads the model and runs ASTERIAs simulation, it returns the time sequence, signal and background\n",
    "# as well as the model name\n",
    "\n",
    "def model_sig_bkg(model_name, dt):\n",
    "    if model_name == \"Sukhbold_2015_27_LS220\":\n",
    "        model = {'name': 'Sukhbold_2015',\n",
    "                 'param':{'progenitor_mass': 27*u.Msun, 'eos': 'LS220'}}\n",
    "    elif model_name == \"Sukhbold_2015_27_SFHo\":\n",
    "        model = {'name': 'Sukhbold_2015',\n",
    "                 'param':{'progenitor_mass': 27*u.Msun, 'eos': 'SFHo'}}\n",
    "    elif model_name == \"Sukhbold_2015_9_LS220\":\n",
    "        model = {'name': 'Sukhbold_2015',\n",
    "                 'param':{'progenitor_mass': 9.6*u.Msun, 'eos': 'LS220'}}\n",
    "    elif model_name == \"Sukhbold_2015_9_SFHo\":\n",
    "        model = {'name': 'Sukhbold_2015',\n",
    "                 'param':{'progenitor_mass': 9.6*u.Msun, 'eos': 'SFHo'}}\n",
    "    elif model_name == \"Nakazato_2013_20_100ms_0.02_shen\":\n",
    "        model = {'name': 'Nakazato_2013',\n",
    "                 'param':{'progenitor_mass': 20*u.Msun, 'revival_time': 100*u.ms, 'metallicity': 0.02, \n",
    "                          'eos': 'shen'}}\n",
    "    elif model_name == \"Nakazato_2013_50_300ms_0.004_shen\":\n",
    "        model = {'name': 'Nakazato_2013',\n",
    "                 'param':{'progenitor_mass': 50*u.Msun, 'revival_time': 300*u.ms, 'metallicity': 0.004, \n",
    "                          'eos': 'shen'}}\n",
    "        \n",
    "    sim = Simulation(model=model,\n",
    "             distance=10* u.kpc, \n",
    "             Emin=0*u.MeV, Emax=100*u.MeV, dE=1*u.MeV,\n",
    "             tmin=-0.05*u.s, tmax=5.0*u.s, dt=0.1*u.ms,        \n",
    "             #tmin=-0.35*u.s, tmax=15.44*u.s, dt=0.1*u.ms,\n",
    "             hierarchy = 'normal',\n",
    "             mixing_scheme = 'NoTransformation',\n",
    "             geomscope = 'Gen2',\n",
    "             include_wls = False)\n",
    "    sim.run()\n",
    "\n",
    "    #signal\n",
    "    t, sig_i3 = sim.detector_hits(dt=dt, subdetector=\"i3\")\n",
    "    t, sig_dc = sim.detector_hits(dt=dt, subdetector=\"dc\")\n",
    "    t, sig_md = sim.detector_hits(dt=dt, subdetector=\"md\")\n",
    "\n",
    "    sig = [sig_i3, sig_dc, sig_md]\n",
    "\n",
    "    \n",
    "    #background\n",
    "    bkg_i3 = sim.detector.i3_bg(dt=dt, size = len(sig_i3))\n",
    "    bkg_dc = sim.detector.dc_bg(dt=dt, size = len(sig_dc))\n",
    "    bkg_md = sim.detector.md_bg(dt=dt, size = len(sig_dc))\n",
    "    \n",
    "    bkg = [bkg_i3, bkg_dc, bkg_md]\n",
    "    \n",
    "    return t, sig, bkg, model"
   ]
  },
  {
   "cell_type": "code",
   "execution_count": 27,
   "id": "ceea2023",
   "metadata": {},
   "outputs": [
    {
     "data": {
      "image/png": "[encoded data removed]",
      "text/plain": [
       "<Figure size 432x288 with 1 Axes>"
      ]
     },
     "metadata": {
      "needs_background": "light"
     },
     "output_type": "display_data"
    }
   ],
   "source": [
    "# plots the detector hit rate for the Sukhbold model\n",
    "model = \"Sukhbold_2015_27_LS220\"\n",
    "dt = 50*u.ms\n",
    "fig, ax = plt.subplots(1, 1, sharex=True, sharey=True, tight_layout=True)\n",
    "\n",
    "t, sig, bkg, m = model_sig_bkg(model, dt=dt)\n",
    "\n",
    "sig_i3, sig_dc, sig_md = sig\n",
    "bkg_i3, bkg_dc, bkg_md = bkg\n",
    "ba_i3 = np.mean(bkg_i3)\n",
    "ba_dc = np.mean(bkg_dc)\n",
    "ba_md = np.mean(bkg_md)\n",
    "\n",
    "ax.step(t, sig_dc+bkg_dc-ba_dc, label = \"DeepCore\")\n",
    "ax.step(t, sig_i3+bkg_i3-ba_i3, label = \"IceCube\")\n",
    "ax.step(t, sig_md+bkg_md-ba_md, label = \"Gen2 mDOM\")\n",
    "\n",
    "\n",
    "\n",
    "# change y ticks to show a x 10^b\n",
    "ax.ticklabel_format(axis='y', style='sci', scilimits=(3, 3), useOffset=False, useMathText=True)\n",
    "ax.yaxis.get_offset_text().set_fontsize(14)\n",
    "ax.tick_params(labelsize=14)\n",
    "\n",
    "#ax.set_yscale('log')\n",
    "ax.grid()\n",
    "ax.legend(fontsize = 14)\n",
    "ax.set_xlabel(r'$t-t_{\\rm bounce}$ [s]', fontsize=14)\n",
    "ax.set_ylabel('Detector Hits (50 ms binning)', fontsize=14)\n",
    "plt.tight_layout()\n",
    "plt.savefig('sukhbold_spencer.pdf', dpi = 200, facecolor = 'white')"
   ]
  },
  {
   "cell_type": "code",
   "execution_count": null,
   "id": "cdb82db1",
   "metadata": {},
   "outputs": [],
   "source": []
  }
 ],
 "metadata": {
  "kernelspec": {
   "display_name": "Python 3 (ipykernel)",
   "language": "python",
   "name": "python3"
  },
  "language_info": {
   "codemirror_mode": {
    "name": "ipython",
    "version": 3
   },
   "file_extension": ".py",
   "mimetype": "text/x-python",
   "name": "python",
   "nbconvert_exporter": "python",
   "pygments_lexer": "ipython3",
   "version": "3.10.12"
  }
 },
 "nbformat": 4,
 "nbformat_minor": 5
}
